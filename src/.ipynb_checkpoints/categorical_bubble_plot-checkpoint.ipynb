{
 "cells": [
  {
   "cell_type": "code",
   "execution_count": 1,
   "metadata": {},
   "outputs": [
    {
     "name": "stderr",
     "output_type": "stream",
     "text": [
      "\n",
      "Attaching package: ‘gplots’\n",
      "\n",
      "The following object is masked from ‘package:stats’:\n",
      "\n",
      "    lowess\n",
      "\n",
      "Loading required package: gdata\n",
      "gdata: read.xls support for 'XLS' (Excel 97-2004) files ENABLED.\n",
      "\n",
      "gdata: read.xls support for 'XLSX' (Excel 2007+) files ENABLED.\n",
      "\n",
      "Attaching package: ‘gdata’\n",
      "\n",
      "The following object is masked from ‘package:stats’:\n",
      "\n",
      "    nobs\n",
      "\n",
      "The following object is masked from ‘package:utils’:\n",
      "\n",
      "    object.size\n",
      "\n",
      "The following object is masked from ‘package:base’:\n",
      "\n",
      "    startsWith\n",
      "\n"
     ]
    }
   ],
   "source": [
    "library(gplots)\n",
    "# Get the dendextend package\n",
    "library(RColorBrewer)\n",
    "source(\"https://raw.githubusercontent.com/talgalili/dendextend/master/R/attr_access.R\")\n",
    "\n",
    "require(gdata)\n",
    "library(scales)"
   ]
  },
  {
   "cell_type": "markdown",
   "metadata": {},
   "source": [
    "### GO analysis"
   ]
  },
  {
   "cell_type": "code",
   "execution_count": 7,
   "metadata": {},
   "outputs": [],
   "source": [
    "#mnf = list.files('../Resultados_secuenciacion_MACE/',pattern='MNcontrolLeaf_vs_MNstressLeaf_*')\n",
    "#mnf = mnf[grep('csv',mnf)]\n",
    "#tjf = list.files('../Resultados_secuenciacion_MACE/',pattern='TJcontrolLeaf_vs_TJstressLeaf_*')\n",
    "#tjf = tjf[grep('csv',tjf)]\n",
    "\n"
   ]
  },
  {
   "cell_type": "code",
   "execution_count": 24,
   "metadata": {},
   "outputs": [
    {
     "name": "stderr",
     "output_type": "stream",
     "text": [
      "Warning message in `[<-.factor`(`*tmp*`, ri, value = c(1, 1, 1, 1, 1, 1, 2, 7, 1, :\n",
      "“invalid factor level, NA generated”Warning message in `[<-.factor`(`*tmp*`, ri, value = c(10, 4, 4, 1, 1, 0, 20, 2, :\n",
      "“invalid factor level, NA generated”Warning message in `[<-.factor`(`*tmp*`, ri, value = c(23L, 29L, 16L, 12L, 2L, 7L, :\n",
      "“invalid factor level, NA generated”Warning message in `[<-.factor`(`*tmp*`, ri, value = c(4, 6, 3, 2, 0, 2, 2, 8, 8, :\n",
      "“invalid factor level, NA generated”Warning message in p.adjust(TJ_go$pvalue):\n",
      "“NAs introduced by coercion”"
     ]
    }
   ],
   "source": [
    "gos = c('BP','MF','CC') \n",
    "basename = 'MNcontrolLeaf_vs_MNstressLeaf_'\n",
    "godata = list()\n",
    "for(i in seq_along(gos)){\n",
    "    f = paste('../Resultados_secuenciacion_MACE/',basename,gos[i],'.csv',sep = '')\n",
    "    go_table = read.csv(f,sep =',')\n",
    "    df <-  go_table[,c('goterm','description','annotated','significant','pvalue','downregulated','upregulated')]\n",
    "    df[,'type'] = rep(gos[i],nrow(df))\n",
    "    #df[,'padj'] = p.adjust(df$pvalue)\n",
    "    godata[[i]] <-df\n",
    "}\n",
    "\n",
    "MN_go = do.call('rbind',godata)\n",
    "MN_go[,'padj'] <- p.adjust(MN_go$pvalue)\n",
    "\n",
    "\n",
    "gos = c('BP','MF','CC') \n",
    "basename = 'TJcontrolLeaf_vs_TJstressLeaf_'\n",
    "godata = list()\n",
    "for(i in seq_along(gos)){\n",
    "    f = paste('../Resultados_secuenciacion_MACE/',basename,gos[i],'.csv',sep = '')\n",
    "    go_table = read.csv(f,sep =',')\n",
    "    df <-  go_table[,c('goterm','description','annotated','significant','pvalue','downregulated','upregulated')]\n",
    "    df[,'type'] = rep(gos[i],nrow(df))\n",
    "    #df[,'padj'] = p.adjust(df$pvalue)\n",
    "    godata[[i]] <-df\n",
    "}\n",
    "\n",
    "TJ_go = do.call('rbind',godata)\n",
    "TJ_go[,'padj'] <-  p.adjust(TJ_go$pvalue)\n"
   ]
  },
  {
   "cell_type": "code",
   "execution_count": 25,
   "metadata": {},
   "outputs": [
    {
     "name": "stderr",
     "output_type": "stream",
     "text": [
      "Warning message in eval(expr, envir, enclos):\n",
      "“NAs introduced by coercion”Warning message in eval(expr, envir, enclos):\n",
      "“NAs introduced by coercion”"
     ]
    }
   ],
   "source": [
    "terms = c()\n",
    "goes = TJ_go\n",
    "i = as.numeric(as.vector(as.matrix(goes$significant)))>0\n",
    "j = goes$pval <0.001\n",
    "\n",
    "#print(sum(i,na.rm = T))\n",
    "#print(sum(j,na.rm = T))\n",
    "#print(sum(i&j,na.rm = T))\n",
    "\n",
    "terms <- c(terms,as.character(goes[which(i&j),'goterm']))\n",
    "\n",
    "goes = MN_go\n",
    "i = as.numeric(as.vector(as.matrix(goes$significant)))>0\n",
    "j = goes$pval <0.001\n",
    "\n",
    "#print(sum(i,na.rm = T))\n",
    "#print(sum(j,na.rm = T))\n",
    "#print(sum(i&j,na.rm = T))\n",
    "\n",
    "terms <- c(terms,as.character(goes[which(i&j),'goterm']))\n"
   ]
  },
  {
   "cell_type": "code",
   "execution_count": 26,
   "metadata": {},
   "outputs": [
    {
     "name": "stderr",
     "output_type": "stream",
     "text": [
      "Warning message in eval(expr, envir, enclos):\n",
      "“NAs introduced by coercion”"
     ]
    },
    {
     "data": {
      "text/html": [
       "<table>\n",
       "<thead><tr><th></th><th scope=col>goterm</th><th scope=col>description</th><th scope=col>annotated</th><th scope=col>significant</th><th scope=col>pvalue</th><th scope=col>downregulated</th><th scope=col>upregulated</th><th scope=col>type</th><th scope=col>padj</th></tr></thead>\n",
       "<tbody>\n",
       "\t<tr><th scope=row>1</th><td>GO:0008610                       </td><td>lipid biosynthetic process       </td><td>220                              </td><td>17                               </td><td>0.00031                          </td><td>10                               </td><td>7                                </td><td>BP                               </td><td>0.91946                          </td></tr>\n",
       "\t<tr><th scope=row>2</th><td>GO:0006714                       </td><td>sesquiterpenoid metabolic process</td><td>6                                </td><td>3                                </td><td>0.00049                          </td><td> 2                               </td><td>1                                </td><td>BP                               </td><td>1.00000                          </td></tr>\n",
       "\t<tr><th scope=row>2823</th><td>GO:0005506                       </td><td>iron ion binding                 </td><td>375                              </td><td>23                               </td><td>0.00083                          </td><td>13                               </td><td>10                               </td><td>MF                               </td><td>1.00000                          </td></tr>\n",
       "\t<tr><th scope=row>3627</th><td>GO:0005840                       </td><td>ribosome                         </td><td>349                              </td><td>23                               </td><td>0.00017                          </td><td>19                               </td><td>4                                </td><td>CC                               </td><td>0.50439                          </td></tr>\n",
       "</tbody>\n",
       "</table>\n"
      ],
      "text/latex": [
       "\\begin{tabular}{r|lllllllll}\n",
       "  & goterm & description & annotated & significant & pvalue & downregulated & upregulated & type & padj\\\\\n",
       "\\hline\n",
       "\t1 & GO:0008610                        & lipid biosynthetic process        & 220                               & 17                                & 0.00031                           & 10                                & 7                                 & BP                                & 0.91946                          \\\\\n",
       "\t2 & GO:0006714                        & sesquiterpenoid metabolic process & 6                                 & 3                                 & 0.00049                           &  2                                & 1                                 & BP                                & 1.00000                          \\\\\n",
       "\t2823 & GO:0005506                        & iron ion binding                  & 375                               & 23                                & 0.00083                           & 13                                & 10                                & MF                                & 1.00000                          \\\\\n",
       "\t3627 & GO:0005840                        & ribosome                          & 349                               & 23                                & 0.00017                           & 19                                & 4                                 & CC                                & 0.50439                          \\\\\n",
       "\\end{tabular}\n"
      ],
      "text/markdown": [
       "\n",
       "| <!--/--> | goterm | description | annotated | significant | pvalue | downregulated | upregulated | type | padj | \n",
       "|---|---|---|---|\n",
       "| 1 | GO:0008610                        | lipid biosynthetic process        | 220                               | 17                                | 0.00031                           | 10                                | 7                                 | BP                                | 0.91946                           | \n",
       "| 2 | GO:0006714                        | sesquiterpenoid metabolic process | 6                                 | 3                                 | 0.00049                           |  2                                | 1                                 | BP                                | 1.00000                           | \n",
       "| 2823 | GO:0005506                        | iron ion binding                  | 375                               | 23                                | 0.00083                           | 13                                | 10                                | MF                                | 1.00000                           | \n",
       "| 3627 | GO:0005840                        | ribosome                          | 349                               | 23                                | 0.00017                           | 19                                | 4                                 | CC                                | 0.50439                           | \n",
       "\n",
       "\n"
      ],
      "text/plain": [
       "     goterm     description                       annotated significant pvalue \n",
       "1    GO:0008610 lipid biosynthetic process        220       17          0.00031\n",
       "2    GO:0006714 sesquiterpenoid metabolic process 6         3           0.00049\n",
       "2823 GO:0005506 iron ion binding                  375       23          0.00083\n",
       "3627 GO:0005840 ribosome                          349       23          0.00017\n",
       "     downregulated upregulated type padj   \n",
       "1    10            7           BP   0.91946\n",
       "2     2            1           BP   1.00000\n",
       "2823 13            10          MF   1.00000\n",
       "3627 19            4           CC   0.50439"
      ]
     },
     "metadata": {},
     "output_type": "display_data"
    }
   ],
   "source": [
    "goes = TJ_go\n",
    "i = as.numeric(as.vector(as.matrix(goes$significant)))>0\n",
    "j = goes$pval <0.001\n",
    "goes[which(i&j),]"
   ]
  },
  {
   "cell_type": "code",
   "execution_count": 27,
   "metadata": {},
   "outputs": [
    {
     "data": {
      "text/html": [
       "<table>\n",
       "<thead><tr><th></th><th scope=col>type</th><th scope=col>description</th><th scope=col>pvalue_TJ</th><th scope=col>pvalue_MN</th></tr></thead>\n",
       "<tbody>\n",
       "\t<tr><th scope=row>2</th><td>BP                                    </td><td>photosynthesis                        </td><td>6.10e-04                              </td><td>0.77341                               </td></tr>\n",
       "\t<tr><th scope=row>14</th><td>BP                                    </td><td>sesquiterpenoid metabolic process     </td><td>1.00e+00                              </td><td>0.00049                               </td></tr>\n",
       "\t<tr><th scope=row>16</th><td>BP                                    </td><td>lipid biosynthetic process            </td><td>1.00e+00                              </td><td>0.00031                               </td></tr>\n",
       "\t<tr><th scope=row>8</th><td>CC                                    </td><td>ribosome                              </td><td>1.19e-02                              </td><td>0.00017                               </td></tr>\n",
       "\t<tr><th scope=row>9</th><td>CC                                    </td><td>photosystem                           </td><td>2.00e-04                              </td><td>0.81434                               </td></tr>\n",
       "\t<tr><th scope=row>10</th><td>CC                                    </td><td>photosystem II                        </td><td>2.10e-04                              </td><td>0.65809                               </td></tr>\n",
       "\t<tr><th scope=row>11</th><td>CC                                    </td><td>thylakoid                             </td><td>3.70e-06                              </td><td>0.93869                               </td></tr>\n",
       "\t<tr><th scope=row>12</th><td>CC                                    </td><td>photosystem II oxygen evolving complex</td><td>6.10e-04                              </td><td>1                                     </td></tr>\n",
       "\t<tr><th scope=row>13</th><td>CC                                    </td><td>thylakoid part                        </td><td>3.80e-04                              </td><td>0.9179                                </td></tr>\n",
       "\t<tr><th scope=row>5</th><td>MF                                    </td><td>cation binding                        </td><td>1.70e-04                              </td><td>0.19719                               </td></tr>\n",
       "\t<tr><th scope=row>6</th><td>MF                                    </td><td>metal ion binding                     </td><td>1.60e-04                              </td><td>0.18015                               </td></tr>\n",
       "\t<tr><th scope=row>7</th><td>MF                                    </td><td>sugar-phosphatase activity            </td><td>6.70e-04                              </td><td>1                                     </td></tr>\n",
       "\t<tr><th scope=row>18</th><td>MF                                    </td><td>iron ion binding                      </td><td>1.00e+00                              </td><td>0.00083                               </td></tr>\n",
       "</tbody>\n",
       "</table>\n"
      ],
      "text/latex": [
       "\\begin{tabular}{r|llll}\n",
       "  & type & description & pvalue\\_TJ & pvalue\\_MN\\\\\n",
       "\\hline\n",
       "\t2 & BP                                     & photosynthesis                         & 6.10e-04                               & 0.77341                               \\\\\n",
       "\t14 & BP                                     & sesquiterpenoid metabolic process      & 1.00e+00                               & 0.00049                               \\\\\n",
       "\t16 & BP                                     & lipid biosynthetic process             & 1.00e+00                               & 0.00031                               \\\\\n",
       "\t8 & CC                                     & ribosome                               & 1.19e-02                               & 0.00017                               \\\\\n",
       "\t9 & CC                                     & photosystem                            & 2.00e-04                               & 0.81434                               \\\\\n",
       "\t10 & CC                                     & photosystem II                         & 2.10e-04                               & 0.65809                               \\\\\n",
       "\t11 & CC                                     & thylakoid                              & 3.70e-06                               & 0.93869                               \\\\\n",
       "\t12 & CC                                     & photosystem II oxygen evolving complex & 6.10e-04                               & 1                                     \\\\\n",
       "\t13 & CC                                     & thylakoid part                         & 3.80e-04                               & 0.9179                                \\\\\n",
       "\t5 & MF                                     & cation binding                         & 1.70e-04                               & 0.19719                               \\\\\n",
       "\t6 & MF                                     & metal ion binding                      & 1.60e-04                               & 0.18015                               \\\\\n",
       "\t7 & MF                                     & sugar-phosphatase activity             & 6.70e-04                               & 1                                     \\\\\n",
       "\t18 & MF                                     & iron ion binding                       & 1.00e+00                               & 0.00083                               \\\\\n",
       "\\end{tabular}\n"
      ],
      "text/markdown": [
       "\n",
       "| <!--/--> | type | description | pvalue_TJ | pvalue_MN | \n",
       "|---|---|---|---|---|---|---|---|---|---|---|---|---|\n",
       "| 2 | BP                                     | photosynthesis                         | 6.10e-04                               | 0.77341                                | \n",
       "| 14 | BP                                     | sesquiterpenoid metabolic process      | 1.00e+00                               | 0.00049                                | \n",
       "| 16 | BP                                     | lipid biosynthetic process             | 1.00e+00                               | 0.00031                                | \n",
       "| 8 | CC                                     | ribosome                               | 1.19e-02                               | 0.00017                                | \n",
       "| 9 | CC                                     | photosystem                            | 2.00e-04                               | 0.81434                                | \n",
       "| 10 | CC                                     | photosystem II                         | 2.10e-04                               | 0.65809                                | \n",
       "| 11 | CC                                     | thylakoid                              | 3.70e-06                               | 0.93869                                | \n",
       "| 12 | CC                                     | photosystem II oxygen evolving complex | 6.10e-04                               | 1                                      | \n",
       "| 13 | CC                                     | thylakoid part                         | 3.80e-04                               | 0.9179                                 | \n",
       "| 5 | MF                                     | cation binding                         | 1.70e-04                               | 0.19719                                | \n",
       "| 6 | MF                                     | metal ion binding                      | 1.60e-04                               | 0.18015                                | \n",
       "| 7 | MF                                     | sugar-phosphatase activity             | 6.70e-04                               | 1                                      | \n",
       "| 18 | MF                                     | iron ion binding                       | 1.00e+00                               | 0.00083                                | \n",
       "\n",
       "\n"
      ],
      "text/plain": [
       "   type description                            pvalue_TJ pvalue_MN\n",
       "2  BP   photosynthesis                         6.10e-04  0.77341  \n",
       "14 BP   sesquiterpenoid metabolic process      1.00e+00  0.00049  \n",
       "16 BP   lipid biosynthetic process             1.00e+00  0.00031  \n",
       "8  CC   ribosome                               1.19e-02  0.00017  \n",
       "9  CC   photosystem                            2.00e-04  0.81434  \n",
       "10 CC   photosystem II                         2.10e-04  0.65809  \n",
       "11 CC   thylakoid                              3.70e-06  0.93869  \n",
       "12 CC   photosystem II oxygen evolving complex 6.10e-04  1        \n",
       "13 CC   thylakoid part                         3.80e-04  0.9179   \n",
       "5  MF   cation binding                         1.70e-04  0.19719  \n",
       "6  MF   metal ion binding                      1.60e-04  0.18015  \n",
       "7  MF   sugar-phosphatase activity             6.70e-04  1        \n",
       "18 MF   iron ion binding                       1.00e+00  0.00083  "
      ]
     },
     "metadata": {},
     "output_type": "display_data"
    }
   ],
   "source": [
    "ii = (TJ_go$goterm %in% terms)\n",
    "a = TJ_go[ii,c('goterm','description','pvalue','type')]\n",
    "\n",
    "ii = (MN_go$goterm %in% terms)\n",
    "b = MN_go[ii,c('goterm','pvalue')]\n",
    "\n",
    "both = merge(b,a,by = 'goterm',suffixes = c('_TJ','_MN'),all=T)\n",
    "null1 = is.na(both['pvalue_TJ'])\n",
    "null2 = is.na(both$pvalue_MN)\n",
    "both = both[!(null1&null2),]\n",
    "#rownames(both) <- c(1:nrow(both))\n",
    "\n",
    "### PARCHE!\n",
    "both = both[-c(1,3),]\n",
    "both[is.na(both)] <- 1\n",
    "\n",
    "both2 = both[,c('type','description','pvalue_TJ','pvalue_MN')]\n",
    "both2 = both2[order(both2$type),]\n",
    "both2"
   ]
  },
  {
   "cell_type": "code",
   "execution_count": 28,
   "metadata": {},
   "outputs": [
    {
     "data": {
      "text/html": [
       "<table>\n",
       "<thead><tr><th></th><th scope=col>type</th><th scope=col>description</th><th scope=col>pval</th><th scope=col>sample</th><th scope=col>signif</th><th scope=col>col</th></tr></thead>\n",
       "<tbody>\n",
       "\t<tr><th scope=row>2</th><td>BP                                    </td><td>photosynthesis                        </td><td>0.00061                               </td><td>TJ                                    </td><td>3.21467016                            </td><td>green                                 </td></tr>\n",
       "\t<tr><th scope=row>14</th><td>BP                                    </td><td>sesquiterpenoid metabolic process     </td><td>1                                     </td><td>TJ                                    </td><td>0.00000000                            </td><td>green                                 </td></tr>\n",
       "\t<tr><th scope=row>16</th><td>BP                                    </td><td>lipid biosynthetic process            </td><td>1                                     </td><td>TJ                                    </td><td>0.00000000                            </td><td>green                                 </td></tr>\n",
       "\t<tr><th scope=row>8</th><td>CC                                    </td><td>ribosome                              </td><td>0.0119                                </td><td>TJ                                    </td><td>1.92445304                            </td><td>orange                                </td></tr>\n",
       "\t<tr><th scope=row>9</th><td>CC                                    </td><td>photosystem                           </td><td>2e-04                                 </td><td>TJ                                    </td><td>3.69897000                            </td><td>orange                                </td></tr>\n",
       "\t<tr><th scope=row>10</th><td>CC                                    </td><td>photosystem II                        </td><td>0.00021                               </td><td>TJ                                    </td><td>3.67778071                            </td><td>orange                                </td></tr>\n",
       "\t<tr><th scope=row>11</th><td>CC                                    </td><td>thylakoid                             </td><td>3.7e-06                               </td><td>TJ                                    </td><td>5.43179828                            </td><td>orange                                </td></tr>\n",
       "\t<tr><th scope=row>12</th><td>CC                                    </td><td>photosystem II oxygen evolving complex</td><td>0.00061                               </td><td>TJ                                    </td><td>3.21467016                            </td><td>orange                                </td></tr>\n",
       "\t<tr><th scope=row>13</th><td>CC                                    </td><td>thylakoid part                        </td><td>0.00038                               </td><td>TJ                                    </td><td>3.42021640                            </td><td>orange                                </td></tr>\n",
       "\t<tr><th scope=row>5</th><td>MF                                    </td><td>cation binding                        </td><td>0.00017                               </td><td>TJ                                    </td><td>3.76955108                            </td><td>blue                                  </td></tr>\n",
       "\t<tr><th scope=row>6</th><td>MF                                    </td><td>metal ion binding                     </td><td>0.00016                               </td><td>TJ                                    </td><td>3.79588002                            </td><td>blue                                  </td></tr>\n",
       "\t<tr><th scope=row>7</th><td>MF                                    </td><td>sugar-phosphatase activity            </td><td>0.00067                               </td><td>TJ                                    </td><td>3.17392520                            </td><td>blue                                  </td></tr>\n",
       "\t<tr><th scope=row>18</th><td>MF                                    </td><td>iron ion binding                      </td><td>1                                     </td><td>TJ                                    </td><td>0.00000000                            </td><td>blue                                  </td></tr>\n",
       "\t<tr><th scope=row>21</th><td>BP                                    </td><td>photosynthesis                        </td><td>0.77341                               </td><td>MN                                    </td><td>0.11159022                            </td><td>green                                 </td></tr>\n",
       "\t<tr><th scope=row>141</th><td>BP                                    </td><td>sesquiterpenoid metabolic process     </td><td>0.00049                               </td><td>MN                                    </td><td>3.30980392                            </td><td>green                                 </td></tr>\n",
       "\t<tr><th scope=row>161</th><td>BP                                    </td><td>lipid biosynthetic process            </td><td>0.00031                               </td><td>MN                                    </td><td>3.50863831                            </td><td>green                                 </td></tr>\n",
       "\t<tr><th scope=row>81</th><td>CC                                    </td><td>ribosome                              </td><td>0.00017                               </td><td>MN                                    </td><td>3.76955108                            </td><td>orange                                </td></tr>\n",
       "\t<tr><th scope=row>91</th><td>CC                                    </td><td>photosystem                           </td><td>0.81434                               </td><td>MN                                    </td><td>0.08919423                            </td><td>orange                                </td></tr>\n",
       "\t<tr><th scope=row>101</th><td>CC                                    </td><td>photosystem II                        </td><td>0.65809                               </td><td>MN                                    </td><td>0.18171471                            </td><td>orange                                </td></tr>\n",
       "\t<tr><th scope=row>111</th><td>CC                                    </td><td>thylakoid                             </td><td>0.93869                               </td><td>MN                                    </td><td>0.02747781                            </td><td>orange                                </td></tr>\n",
       "\t<tr><th scope=row>121</th><td>CC                                    </td><td>photosystem II oxygen evolving complex</td><td>1                                     </td><td>MN                                    </td><td>0.00000000                            </td><td>orange                                </td></tr>\n",
       "\t<tr><th scope=row>131</th><td>CC                                    </td><td>thylakoid part                        </td><td>0.9179                                </td><td>MN                                    </td><td>0.03720463                            </td><td>orange                                </td></tr>\n",
       "\t<tr><th scope=row>51</th><td>MF                                    </td><td>cation binding                        </td><td>0.19719                               </td><td>MN                                    </td><td>0.70511511                            </td><td>blue                                  </td></tr>\n",
       "\t<tr><th scope=row>61</th><td>MF                                    </td><td>metal ion binding                     </td><td>0.18015                               </td><td>MN                                    </td><td>0.74436573                            </td><td>blue                                  </td></tr>\n",
       "\t<tr><th scope=row>71</th><td>MF                                    </td><td>sugar-phosphatase activity            </td><td>1                                     </td><td>MN                                    </td><td>0.00000000                            </td><td>blue                                  </td></tr>\n",
       "\t<tr><th scope=row>181</th><td>MF                                    </td><td>iron ion binding                      </td><td>0.00083                               </td><td>MN                                    </td><td>3.08092191                            </td><td>blue                                  </td></tr>\n",
       "</tbody>\n",
       "</table>\n"
      ],
      "text/latex": [
       "\\begin{tabular}{r|llllll}\n",
       "  & type & description & pval & sample & signif & col\\\\\n",
       "\\hline\n",
       "\t2 & BP                                     & photosynthesis                         & 0.00061                                & TJ                                     & 3.21467016                             & green                                 \\\\\n",
       "\t14 & BP                                     & sesquiterpenoid metabolic process      & 1                                      & TJ                                     & 0.00000000                             & green                                 \\\\\n",
       "\t16 & BP                                     & lipid biosynthetic process             & 1                                      & TJ                                     & 0.00000000                             & green                                 \\\\\n",
       "\t8 & CC                                     & ribosome                               & 0.0119                                 & TJ                                     & 1.92445304                             & orange                                \\\\\n",
       "\t9 & CC                                     & photosystem                            & 2e-04                                  & TJ                                     & 3.69897000                             & orange                                \\\\\n",
       "\t10 & CC                                     & photosystem II                         & 0.00021                                & TJ                                     & 3.67778071                             & orange                                \\\\\n",
       "\t11 & CC                                     & thylakoid                              & 3.7e-06                                & TJ                                     & 5.43179828                             & orange                                \\\\\n",
       "\t12 & CC                                     & photosystem II oxygen evolving complex & 0.00061                                & TJ                                     & 3.21467016                             & orange                                \\\\\n",
       "\t13 & CC                                     & thylakoid part                         & 0.00038                                & TJ                                     & 3.42021640                             & orange                                \\\\\n",
       "\t5 & MF                                     & cation binding                         & 0.00017                                & TJ                                     & 3.76955108                             & blue                                  \\\\\n",
       "\t6 & MF                                     & metal ion binding                      & 0.00016                                & TJ                                     & 3.79588002                             & blue                                  \\\\\n",
       "\t7 & MF                                     & sugar-phosphatase activity             & 0.00067                                & TJ                                     & 3.17392520                             & blue                                  \\\\\n",
       "\t18 & MF                                     & iron ion binding                       & 1                                      & TJ                                     & 0.00000000                             & blue                                  \\\\\n",
       "\t21 & BP                                     & photosynthesis                         & 0.77341                                & MN                                     & 0.11159022                             & green                                 \\\\\n",
       "\t141 & BP                                     & sesquiterpenoid metabolic process      & 0.00049                                & MN                                     & 3.30980392                             & green                                 \\\\\n",
       "\t161 & BP                                     & lipid biosynthetic process             & 0.00031                                & MN                                     & 3.50863831                             & green                                 \\\\\n",
       "\t81 & CC                                     & ribosome                               & 0.00017                                & MN                                     & 3.76955108                             & orange                                \\\\\n",
       "\t91 & CC                                     & photosystem                            & 0.81434                                & MN                                     & 0.08919423                             & orange                                \\\\\n",
       "\t101 & CC                                     & photosystem II                         & 0.65809                                & MN                                     & 0.18171471                             & orange                                \\\\\n",
       "\t111 & CC                                     & thylakoid                              & 0.93869                                & MN                                     & 0.02747781                             & orange                                \\\\\n",
       "\t121 & CC                                     & photosystem II oxygen evolving complex & 1                                      & MN                                     & 0.00000000                             & orange                                \\\\\n",
       "\t131 & CC                                     & thylakoid part                         & 0.9179                                 & MN                                     & 0.03720463                             & orange                                \\\\\n",
       "\t51 & MF                                     & cation binding                         & 0.19719                                & MN                                     & 0.70511511                             & blue                                  \\\\\n",
       "\t61 & MF                                     & metal ion binding                      & 0.18015                                & MN                                     & 0.74436573                             & blue                                  \\\\\n",
       "\t71 & MF                                     & sugar-phosphatase activity             & 1                                      & MN                                     & 0.00000000                             & blue                                  \\\\\n",
       "\t181 & MF                                     & iron ion binding                       & 0.00083                                & MN                                     & 3.08092191                             & blue                                  \\\\\n",
       "\\end{tabular}\n"
      ],
      "text/markdown": [
       "\n",
       "| <!--/--> | type | description | pval | sample | signif | col | \n",
       "|---|---|---|---|---|---|---|---|---|---|---|---|---|---|---|---|---|---|---|---|---|---|---|---|---|---|\n",
       "| 2 | BP                                     | photosynthesis                         | 0.00061                                | TJ                                     | 3.21467016                             | green                                  | \n",
       "| 14 | BP                                     | sesquiterpenoid metabolic process      | 1                                      | TJ                                     | 0.00000000                             | green                                  | \n",
       "| 16 | BP                                     | lipid biosynthetic process             | 1                                      | TJ                                     | 0.00000000                             | green                                  | \n",
       "| 8 | CC                                     | ribosome                               | 0.0119                                 | TJ                                     | 1.92445304                             | orange                                 | \n",
       "| 9 | CC                                     | photosystem                            | 2e-04                                  | TJ                                     | 3.69897000                             | orange                                 | \n",
       "| 10 | CC                                     | photosystem II                         | 0.00021                                | TJ                                     | 3.67778071                             | orange                                 | \n",
       "| 11 | CC                                     | thylakoid                              | 3.7e-06                                | TJ                                     | 5.43179828                             | orange                                 | \n",
       "| 12 | CC                                     | photosystem II oxygen evolving complex | 0.00061                                | TJ                                     | 3.21467016                             | orange                                 | \n",
       "| 13 | CC                                     | thylakoid part                         | 0.00038                                | TJ                                     | 3.42021640                             | orange                                 | \n",
       "| 5 | MF                                     | cation binding                         | 0.00017                                | TJ                                     | 3.76955108                             | blue                                   | \n",
       "| 6 | MF                                     | metal ion binding                      | 0.00016                                | TJ                                     | 3.79588002                             | blue                                   | \n",
       "| 7 | MF                                     | sugar-phosphatase activity             | 0.00067                                | TJ                                     | 3.17392520                             | blue                                   | \n",
       "| 18 | MF                                     | iron ion binding                       | 1                                      | TJ                                     | 0.00000000                             | blue                                   | \n",
       "| 21 | BP                                     | photosynthesis                         | 0.77341                                | MN                                     | 0.11159022                             | green                                  | \n",
       "| 141 | BP                                     | sesquiterpenoid metabolic process      | 0.00049                                | MN                                     | 3.30980392                             | green                                  | \n",
       "| 161 | BP                                     | lipid biosynthetic process             | 0.00031                                | MN                                     | 3.50863831                             | green                                  | \n",
       "| 81 | CC                                     | ribosome                               | 0.00017                                | MN                                     | 3.76955108                             | orange                                 | \n",
       "| 91 | CC                                     | photosystem                            | 0.81434                                | MN                                     | 0.08919423                             | orange                                 | \n",
       "| 101 | CC                                     | photosystem II                         | 0.65809                                | MN                                     | 0.18171471                             | orange                                 | \n",
       "| 111 | CC                                     | thylakoid                              | 0.93869                                | MN                                     | 0.02747781                             | orange                                 | \n",
       "| 121 | CC                                     | photosystem II oxygen evolving complex | 1                                      | MN                                     | 0.00000000                             | orange                                 | \n",
       "| 131 | CC                                     | thylakoid part                         | 0.9179                                 | MN                                     | 0.03720463                             | orange                                 | \n",
       "| 51 | MF                                     | cation binding                         | 0.19719                                | MN                                     | 0.70511511                             | blue                                   | \n",
       "| 61 | MF                                     | metal ion binding                      | 0.18015                                | MN                                     | 0.74436573                             | blue                                   | \n",
       "| 71 | MF                                     | sugar-phosphatase activity             | 1                                      | MN                                     | 0.00000000                             | blue                                   | \n",
       "| 181 | MF                                     | iron ion binding                       | 0.00083                                | MN                                     | 3.08092191                             | blue                                   | \n",
       "\n",
       "\n"
      ],
      "text/plain": [
       "    type description                            pval    sample signif    \n",
       "2   BP   photosynthesis                         0.00061 TJ     3.21467016\n",
       "14  BP   sesquiterpenoid metabolic process      1       TJ     0.00000000\n",
       "16  BP   lipid biosynthetic process             1       TJ     0.00000000\n",
       "8   CC   ribosome                               0.0119  TJ     1.92445304\n",
       "9   CC   photosystem                            2e-04   TJ     3.69897000\n",
       "10  CC   photosystem II                         0.00021 TJ     3.67778071\n",
       "11  CC   thylakoid                              3.7e-06 TJ     5.43179828\n",
       "12  CC   photosystem II oxygen evolving complex 0.00061 TJ     3.21467016\n",
       "13  CC   thylakoid part                         0.00038 TJ     3.42021640\n",
       "5   MF   cation binding                         0.00017 TJ     3.76955108\n",
       "6   MF   metal ion binding                      0.00016 TJ     3.79588002\n",
       "7   MF   sugar-phosphatase activity             0.00067 TJ     3.17392520\n",
       "18  MF   iron ion binding                       1       TJ     0.00000000\n",
       "21  BP   photosynthesis                         0.77341 MN     0.11159022\n",
       "141 BP   sesquiterpenoid metabolic process      0.00049 MN     3.30980392\n",
       "161 BP   lipid biosynthetic process             0.00031 MN     3.50863831\n",
       "81  CC   ribosome                               0.00017 MN     3.76955108\n",
       "91  CC   photosystem                            0.81434 MN     0.08919423\n",
       "101 CC   photosystem II                         0.65809 MN     0.18171471\n",
       "111 CC   thylakoid                              0.93869 MN     0.02747781\n",
       "121 CC   photosystem II oxygen evolving complex 1       MN     0.00000000\n",
       "131 CC   thylakoid part                         0.9179  MN     0.03720463\n",
       "51  MF   cation binding                         0.19719 MN     0.70511511\n",
       "61  MF   metal ion binding                      0.18015 MN     0.74436573\n",
       "71  MF   sugar-phosphatase activity             1       MN     0.00000000\n",
       "181 MF   iron ion binding                       0.00083 MN     3.08092191\n",
       "    col   \n",
       "2   green \n",
       "14  green \n",
       "16  green \n",
       "8   orange\n",
       "9   orange\n",
       "10  orange\n",
       "11  orange\n",
       "12  orange\n",
       "13  orange\n",
       "5   blue  \n",
       "6   blue  \n",
       "7   blue  \n",
       "18  blue  \n",
       "21  green \n",
       "141 green \n",
       "161 green \n",
       "81  orange\n",
       "91  orange\n",
       "101 orange\n",
       "111 orange\n",
       "121 orange\n",
       "131 orange\n",
       "51  blue  \n",
       "61  blue  \n",
       "71  blue  \n",
       "181 blue  "
      ]
     },
     "metadata": {},
     "output_type": "display_data"
    }
   ],
   "source": [
    "tj = both2[,c('type','description','pvalue_TJ')]\n",
    "mn = both2[,c('type','description','pvalue_MN')]\n",
    "colnames(tj)[3] ='pval'\n",
    "colnames(mn)[3] ='pval'\n",
    "tj['sample'] = 'TJ'\n",
    "mn['sample'] = 'MN'\n",
    "GO_to_plot = rbind(tj,mn)\n",
    "GO_to_plot['signif'] = -log10(as.numeric(GO_to_plot$pval))\n",
    "GO_to_plot['col'] = GO_to_plot$type\n",
    "GO_to_plot[GO_to_plot['col']=='BP','col']<-'green'\n",
    "GO_to_plot[GO_to_plot['col']=='CC','col']<-'orange'\n",
    "GO_to_plot[GO_to_plot['col']=='MF','col']<-'blue'\n",
    "\n",
    "GO_to_plot"
   ]
  },
  {
   "cell_type": "code",
   "execution_count": 30,
   "metadata": {},
   "outputs": [],
   "source": [
    "library(ggplot2)\n",
    "goplot = '~/Projects/BIA/DOporto/results/GO-plot.png'"
   ]
  },
  {
   "cell_type": "code",
   "execution_count": 63,
   "metadata": {},
   "outputs": [
    {
     "data": {},
     "metadata": {},
     "output_type": "display_data"
    },
    {
     "data": {
      "text/html": [
       "<strong>png:</strong> 2"
      ],
      "text/latex": [
       "\\textbf{png:} 2"
      ],
      "text/markdown": [
       "**png:** 2"
      ],
      "text/plain": [
       "png \n",
       "  2 "
      ]
     },
     "metadata": {},
     "output_type": "display_data"
    }
   ],
   "source": [
    "scale = 20\n",
    "png(goplot, width = 15, height = 10, units = 'in', res = 250)\n",
    "\n",
    "ggplot(GO_to_plot,aes(sample,description))+\n",
    "  geom_point(aes(colour=type,size=signif),alpha = 0.5)+\n",
    "#  geom_text(aes(label=pval),size=2) \n",
    "#  scale_size_identity()\n",
    "  scale_size_continuous(range = c(1, 25))\n",
    "#  theme(panel.grid.major=element_line(linetype=2,color=\"black\"),\n",
    "#        axis.text.x=element_text(angle=90,hjust=1,vjust=0))\n",
    "dev.off()\n"
   ]
  },
  {
   "cell_type": "code",
   "execution_count": 34,
   "metadata": {},
   "outputs": [
    {
     "data": {
      "text/html": [
       "<table>\n",
       "<thead><tr><th scope=col>description</th><th scope=col>pvalue</th><th scope=col>type</th><th scope=col>sample</th><th scope=col>signif</th><th scope=col>col</th></tr></thead>\n",
       "<tbody>\n",
       "\t<tr><td>photosynthesis, light harvesting in photosystem I (GO:0009768)</td><td>3.56e-05                                                      </td><td>BP                                                            </td><td>MN                                                            </td><td> 4.448550                                                     </td><td>green                                                         </td></tr>\n",
       "\t<tr><td>photosynthesis, light harvesting (GO:0009765)                 </td><td>3.62e-05                                                      </td><td>BP                                                            </td><td>MN                                                            </td><td> 4.441291                                                     </td><td>green                                                         </td></tr>\n",
       "\t<tr><td>photosynthesis, light reaction (GO:0019684)                   </td><td>1.19e-08                                                      </td><td>BP                                                            </td><td>MN                                                            </td><td> 7.924453                                                     </td><td>green                                                         </td></tr>\n",
       "\t<tr><td>protein-chromophore linkage (GO:0018298)                      </td><td>2.17e-03                                                      </td><td>BP                                                            </td><td>MN                                                            </td><td> 2.663540                                                     </td><td>green                                                         </td></tr>\n",
       "\t<tr><td>photosynthesis (GO:0015979)                                   </td><td>5.41e-17                                                      </td><td>BP                                                            </td><td>MN                                                            </td><td>16.266803                                                     </td><td>green                                                         </td></tr>\n",
       "\t<tr><td>response to light stimulus (GO:0009416)                       </td><td>1.23e-03                                                      </td><td>BP                                                            </td><td>MN                                                            </td><td> 2.910095                                                     </td><td>green                                                         </td></tr>\n",
       "</tbody>\n",
       "</table>\n"
      ],
      "text/latex": [
       "\\begin{tabular}{r|llllll}\n",
       " description & pvalue & type & sample & signif & col\\\\\n",
       "\\hline\n",
       "\t photosynthesis, light harvesting in photosystem I (GO:0009768) & 3.56e-05                                                       & BP                                                             & MN                                                             &  4.448550                                                      & green                                                         \\\\\n",
       "\t photosynthesis, light harvesting (GO:0009765)                  & 3.62e-05                                                       & BP                                                             & MN                                                             &  4.441291                                                      & green                                                         \\\\\n",
       "\t photosynthesis, light reaction (GO:0019684)                    & 1.19e-08                                                       & BP                                                             & MN                                                             &  7.924453                                                      & green                                                         \\\\\n",
       "\t protein-chromophore linkage (GO:0018298)                       & 2.17e-03                                                       & BP                                                             & MN                                                             &  2.663540                                                      & green                                                         \\\\\n",
       "\t photosynthesis (GO:0015979)                                    & 5.41e-17                                                       & BP                                                             & MN                                                             & 16.266803                                                      & green                                                         \\\\\n",
       "\t response to light stimulus (GO:0009416)                        & 1.23e-03                                                       & BP                                                             & MN                                                             &  2.910095                                                      & green                                                         \\\\\n",
       "\\end{tabular}\n"
      ],
      "text/markdown": [
       "\n",
       "description | pvalue | type | sample | signif | col | \n",
       "|---|---|---|---|---|---|\n",
       "| photosynthesis, light harvesting in photosystem I (GO:0009768) | 3.56e-05                                                       | BP                                                             | MN                                                             |  4.448550                                                      | green                                                          | \n",
       "| photosynthesis, light harvesting (GO:0009765)                  | 3.62e-05                                                       | BP                                                             | MN                                                             |  4.441291                                                      | green                                                          | \n",
       "| photosynthesis, light reaction (GO:0019684)                    | 1.19e-08                                                       | BP                                                             | MN                                                             |  7.924453                                                      | green                                                          | \n",
       "| protein-chromophore linkage (GO:0018298)                       | 2.17e-03                                                       | BP                                                             | MN                                                             |  2.663540                                                      | green                                                          | \n",
       "| photosynthesis (GO:0015979)                                    | 5.41e-17                                                       | BP                                                             | MN                                                             | 16.266803                                                      | green                                                          | \n",
       "| response to light stimulus (GO:0009416)                        | 1.23e-03                                                       | BP                                                             | MN                                                             |  2.910095                                                      | green                                                          | \n",
       "\n",
       "\n"
      ],
      "text/plain": [
       "  description                                                    pvalue   type\n",
       "1 photosynthesis, light harvesting in photosystem I (GO:0009768) 3.56e-05 BP  \n",
       "2 photosynthesis, light harvesting (GO:0009765)                  3.62e-05 BP  \n",
       "3 photosynthesis, light reaction (GO:0019684)                    1.19e-08 BP  \n",
       "4 protein-chromophore linkage (GO:0018298)                       2.17e-03 BP  \n",
       "5 photosynthesis (GO:0015979)                                    5.41e-17 BP  \n",
       "6 response to light stimulus (GO:0009416)                        1.23e-03 BP  \n",
       "  sample signif    col  \n",
       "1 MN      4.448550 green\n",
       "2 MN      4.441291 green\n",
       "3 MN      7.924453 green\n",
       "4 MN      2.663540 green\n",
       "5 MN     16.266803 green\n",
       "6 MN      2.910095 green"
      ]
     },
     "metadata": {},
     "output_type": "display_data"
    }
   ],
   "source": [
    "library(ggplot2)\n",
    "goplot = '~/Projects/BIA/DOporto/results/fch2-genes/new_GO-plot.png'\n",
    "dfgo = read.csv('../results/fch2-genes/go_enrichment_for_plot.csv',sep ='|')\n",
    "dfgo['col'] = as.numeric(dfgo$type)\n",
    "dfgo[dfgo['col']==1,'col'] <-'green'\n",
    "dfgo[dfgo['col']==2,'col']<-'orange'\n",
    "dfgo[dfgo['col']==3,'col']<-'blue'\n",
    "head(dfgo)"
   ]
  },
  {
   "cell_type": "code",
   "execution_count": 35,
   "metadata": {},
   "outputs": [
    {
     "data": {},
     "metadata": {},
     "output_type": "display_data"
    },
    {
     "data": {
      "text/html": [
       "<strong>png:</strong> 2"
      ],
      "text/latex": [
       "\\textbf{png:} 2"
      ],
      "text/markdown": [
       "**png:** 2"
      ],
      "text/plain": [
       "png \n",
       "  2 "
      ]
     },
     "metadata": {},
     "output_type": "display_data"
    }
   ],
   "source": [
    "scale = 10\n",
    "png(goplot, width = 15, height = 10, units = 'in', res = 250)\n",
    "\n",
    "ggplot(dfgo,aes(sample,description))+\n",
    "  geom_point(aes(colour=type,size=signif),alpha = 0.5)+\n",
    "#  geom_text(aes(label=pval),size=2) \n",
    "#  scale_size_identity()\n",
    "  scale_size_continuous(range = c(1, 25))\n",
    "#  theme(panel.grid.major=element_line(linetype=2,color=\"black\"),\n",
    "#        axis.text.x=element_text(angle=90,hjust=1,vjust=0))\n",
    "dev.off()\n"
   ]
  },
  {
   "cell_type": "code",
   "execution_count": null,
   "metadata": {},
   "outputs": [],
   "source": []
  }
 ],
 "metadata": {
  "kernelspec": {
   "display_name": "R",
   "language": "R",
   "name": "ir"
  },
  "language_info": {
   "codemirror_mode": "r",
   "file_extension": ".r",
   "mimetype": "text/x-r-source",
   "name": "R",
   "pygments_lexer": "r",
   "version": "3.4.1"
  }
 },
 "nbformat": 4,
 "nbformat_minor": 2
}
