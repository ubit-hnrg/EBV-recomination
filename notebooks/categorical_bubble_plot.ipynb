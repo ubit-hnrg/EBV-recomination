{
 "cells": [
  {
   "cell_type": "code",
   "execution_count": 2,
   "metadata": {},
   "outputs": [],
   "source": [
    "library(gplots)\n",
    "library(ggplot2)\n",
    "# Get the dendextend package\n",
    "library(RColorBrewer)\n",
    "source(\"https://raw.githubusercontent.com/talgalili/dendextend/master/R/attr_access.R\")\n",
    "\n",
    "require(gdata)\n",
    "library(scales)"
   ]
  },
  {
   "cell_type": "markdown",
   "metadata": {},
   "source": [
    "### GO analysis"
   ]
  },
  {
   "cell_type": "code",
   "execution_count": 3,
   "metadata": {},
   "outputs": [],
   "source": [
    "library(RColorBrewer)\n",
    "contrasting_colors = c(\"#000000\", \"#FFFF00\", \"#1CE6FF\", \"#FF34FF\", \"#FF4A46\", \"#008941\", \"#006FA6\", \"#A30059\",\n",
    "\"#FFDBE5\", \"#7A4900\", \"#0000A6\", \"#63FFAC\", \"#B79762\", \"#004D43\", \"#8FB0FF\", \"#997D87\",\n",
    "\"#5A0007\", \"#809693\", \"#FEFFE6\", \"#1B4400\", \"#4FC601\", \"#3B5DFF\", \"#4A3B53\", \"#FF2F80\",\n",
    "\"#61615A\", \"#BA0900\", \"#6B7900\", \"#00C2A0\", \"#FFAA92\", \"#FF90C9\", \"#B903AA\", \"#D16100\",\n",
    "\"#DDEFFF\", \"#000035\", \"#7B4F4B\", \"#A1C299\", \"#300018\", \"#0AA6D8\", \"#013349\", \"#00846F\",\n",
    "\"#372101\", \"#FFB500\", \"#C2FFED\", \"#A079BF\", \"#CC0744\", \"#C0B9B2\", \"#C2FF99\", \"#001E09\",\n",
    "\"#00489C\", \"#6F0062\", \"#0CBD66\", \"#EEC3FF\", \"#456D75\", \"#B77B68\", \"#7A87A1\", \"#788D66\",\n",
    "\"#885578\", \"#FAD09F\", \"#FF8A9A\", \"#D157A0\", \"#BEC459\", \"#456648\", \"#0086ED\", \"#886F4C\",\n",
    "\"#34362D\", \"#B4A8BD\", \"#00A6AA\", \"#452C2C\", \"#636375\", \"#A3C8C9\", \"#FF913F\", \"#938A81\",\n",
    "\"#575329\", \"#00FECF\", \"#B05B6F\", \"#8CD0FF\", \"#3B9700\", \"#04F757\", \"#C8A1A1\", \"#1E6E00\",\n",
    "\"#7900D7\", \"#A77500\", \"#6367A9\", \"#A05837\", \"#6B002C\", \"#772600\", \"#D790FF\", \"#9B9700\",\n",
    "\"#549E79\", \"#FFF69F\", \"#201625\", \"#72418F\", \"#BC23FF\", \"#99ADC0\", \"#3A2465\", \"#922329\",\n",
    "\"#5B4534\", \"#FDE8DC\", \"#404E55\", \"#0089A3\", \"#CB7E98\", \"#A4E804\", \"#324E72\", \"#6A3A4C\")"
   ]
  },
  {
   "cell_type": "code",
   "execution_count": 54,
   "metadata": {},
   "outputs": [],
   "source": [
    "bubble_plot <- function(df,group_color='group',group_y='GENE',score = 'Mean.Rho.bp.',scale = 2,transf = 'identity',range = c(0.025,0.3),\n",
    "                        xlab='x',ylab='y',guide = T){\n",
    "    if(xlab=='x') xlab = group_color\n",
    "    if(ylab=='y') ylab = group_y\n",
    "\n",
    "    \n",
    "    score_title =expression(paste(rho,'/bp',sep = ''))\n",
    "    if(guide){\n",
    "            GUIDE = guide_legend(title = score_title)\n",
    "    }else{\n",
    "            GUIDE = F\n",
    "    }\n",
    "    \n",
    "    \n",
    "    df['rho'] = as.numeric(df[[score]])\n",
    "    #df['signif'] = log10(as.numeric(df[[score]]))\n",
    "    #df['signif'] = df[['signif']]+ abs(min(df[['signif']]))\n",
    "    \n",
    "    \n",
    "    set.seed(1)\n",
    "    myColors <- sample(contrasting_colors,length(unique(df[[group_color]])))\n",
    "    names(myColors) <- levels(df[[group_color]])\n",
    "    df['color']=myColors[df[[group_color]]]\n",
    "    \n",
    "    plot = ggplot(df,aes(eval(parse(text = group_color)),eval(parse(text = group_y))))+\n",
    "    geom_point(aes(colour=color,size=rho),alpha = 0.5)+\n",
    "    #  geom_text(aes(label=pval),size=2) \n",
    "    scale_size(trans = transf ,range = range,limits = c(0.001,0.35),breaks = c(0.025,0.05,0.1,0.2,0.3))+\n",
    "    #  scale_size_identity()\n",
    "    #scale_size_continuous(range = range) +\n",
    "    theme(axis.text.x = element_text(angle = 60, hjust = 1))+\n",
    "    labs(x = xlab,y=ylab,labels = wrap_format(10))+\n",
    "    #guides(colour=FALSE)+ \n",
    "    guides(colour = F)+\n",
    "\n",
    "    guides(size = GUIDE) +\n",
    "    theme(plot.margin = margin(0.3, 0, 0.3, 0.3, \"cm\"))\n",
    "    return(plot)\n",
    "    }"
   ]
  },
  {
   "cell_type": "markdown",
   "metadata": {},
   "source": [
    "### Initiators "
   ]
  },
  {
   "cell_type": "code",
   "execution_count": 55,
   "metadata": {},
   "outputs": [],
   "source": [
    "ml = cbind(c(1,1,1,1,1),c(1,1,1,1,1),c(1,1,1,1,1),c(3,3,2,2,2),c(3,3,2,2,2),c(3,3,2,2,2),c(3,3,2,2,2))\n"
   ]
  },
  {
   "cell_type": "code",
   "execution_count": 66,
   "metadata": {},
   "outputs": [
    {
     "name": "stderr",
     "output_type": "stream",
     "text": [
      "Warning message in align_plots(plotlist = plots, align = align, axis = axis):\n",
      "“Graphs cannot be horizontally aligned, unless axis parameter set. Placing graphs unaligned.”"
     ]
    },
    {
     "data": {},
     "metadata": {},
     "output_type": "display_data"
    },
    {
     "data": {
      "text/html": [
       "<strong>png:</strong> 2"
      ],
      "text/latex": [
       "\\textbf{png:} 2"
      ],
      "text/markdown": [
       "**png:** 2"
      ],
      "text/plain": [
       "png \n",
       "  2 "
      ]
     },
     "metadata": {},
     "output_type": "display_data"
    }
   ],
   "source": [
    "library(png)\n",
    "library(grid)\n",
    "require(ggplot2)\n",
    "require(gridExtra)\n",
    "library(ggpubr)\n",
    "#### load LOGO PLOT\n",
    "img <- readPNG(\"~/Projects/Gutierrez/EBV-recomb/recomb/rdp4_results/ids_171_ebv/10Miter/results/motif_logo.png\") \n",
    "A <- rasterGrob(img, interpolate=TRUE,width = 0.8,height = 0.8)\n",
    "\n",
    "img <- readPNG(\"~/Projects/Gutierrez/EBV-recomb/recomb/rdp4_results/ids_171_ebv/10Miter/results/recombination_init_example_81250.png\") \n",
    "B <- rasterGrob(img, interpolate=TRUE,width = 0.8,height = 0.8)\n",
    "\n",
    "\n",
    "# right\n",
    "#####################\n",
    "df = read.csv('~/Projects/Gutierrez/EBV-recomb/recomb/rdp4_results/ids_171_ebv/10Miter/results/initiators_plus_wind10_LMP2.csv')\n",
    "colnames(df)[2] <- 'group'\n",
    "#df = df[nrow(df):1,]\n",
    "feat = 'Mean.Rho.bp._right'\n",
    "\n",
    "motifs = c('AGGAG','CCCAG','CCTCCCCT', 'GGGCT', 'TGGAG', 'TGGTGG')\n",
    "oo_motifs = c('CCCAG','TGGAG','GGGCT','AGGAG','TGGTGG')\n",
    "\n",
    "Motifs = subset(df,group %in% motifs)\n",
    "Motifs <- droplevels(Motifs)\n",
    "Motifs$group2 <- factor(Motifs$group, levels = oo_motifs)\n",
    "right = bubble_plot(df=Motifs,group_color = 'group2',group_y='GENE',score = feat,range = c(0.01,8),\n",
    "                  ,xlab = 'DNA motifs', ylab= 'gene',guide = T)\n",
    "#####################\n",
    "\n",
    "\n",
    "# left\n",
    "#####################\n",
    "df = read.csv('~/Projects/Gutierrez/EBV-recomb/recomb/rdp4_results/ids_171_ebv/10Miter/results/initiators_minus_wind10.csv')\n",
    "colnames(df)[2] <- 'group'\n",
    "feat = 'Mean.Rho.bp._left'\n",
    "\n",
    "motifs = c('AGGAG','CCCAG','CCTCCCCT', 'GGGCT', 'TGGAG', 'TGGTGG')\n",
    "oo_motifs = c('CCCAG','TGGAG','GGGCT','AGGAG','TGGTGG')\n",
    "\n",
    "Motifs = subset(df,group %in% motifs)\n",
    "Motifs <- droplevels(Motifs)\n",
    "Motifs$group2 <- factor(Motifs$group, levels = oo_motifs)\n",
    "\n",
    "\n",
    "left = bubble_plot(df=Motifs,group_color = 'group2',group_y='GENE',score = feat,range = c(0.01,8),\n",
    "                  ,xlab = 'DNA motifs', ylab= 'gene',guide = F)\n",
    "######################\n",
    "\n",
    "filename = \"~/Projects/Gutierrez/EBV-recomb/recomb/rdp4_results/ids_171_ebv/10Miter/results/initiator_right_left.png\"\n",
    "png(filename, width = 7, height = 9,res = 500,units = 'in')\n",
    "#grid.arrange(right,left,g,layout_matrix = ml)grid.arrange(right,left,g,layout_matrix = ml)\n",
    "\n",
    "\n",
    "#grid.arrange(right,left,g,layout_matrix = ml)\n",
    "\n",
    "library(\"cowplot\")\n",
    "theme_set(theme_grey())\n",
    "\n",
    "first_col <- plot_grid(right, labels = c('D'), align = 'v') \n",
    "second_col <- plot_grid(B,A,left, labels = c('A','B','C'),nrow = 3, align = 'h',rel_heights  = c(0.3,0.3,0.6))\n",
    "\n",
    "plot_grid(second_col,first_col, nrow = 1, rel_widths = c(1, 1.2))\n",
    "\n",
    "#labels = c(\"A\", \"B\", \"C\"),\n",
    "\n",
    "dev.off()\n"
   ]
  },
  {
   "cell_type": "code",
   "execution_count": 68,
   "metadata": {},
   "outputs": [
    {
     "data": {},
     "metadata": {},
     "output_type": "display_data"
    },
    {
     "data": {
      "text/html": [
       "<strong>png:</strong> 2"
      ],
      "text/latex": [
       "\\textbf{png:} 2"
      ],
      "text/markdown": [
       "**png:** 2"
      ],
      "text/plain": [
       "png \n",
       "  2 "
      ]
     },
     "metadata": {},
     "output_type": "display_data"
    }
   ],
   "source": [
    "f3mix = \"~/Projects/Gutierrez/EBV-recomb/recomb/rdp4_results/ids_171_ebv/10Miter/results/f3mix.png\"\n",
    "\n",
    "fig3 <- plot_grid(B,A, labels = c('A','B'),ncol = 2)\n",
    "fig4 <- plot_grid(left,right, labels = c('C','D'),ncol=2,rel_widths = c(0.85,1)) \n",
    "\n",
    "png(f3mix, width = 7, height = 10,res = 800,units = 'in')\n",
    "plot_grid(fig3,fig4, nrow = 2, rel_heights = c(0.6, 1))\n",
    "dev.off()"
   ]
  },
  {
   "cell_type": "code",
   "execution_count": null,
   "metadata": {},
   "outputs": [],
   "source": []
  },
  {
   "cell_type": "code",
   "execution_count": 31,
   "metadata": {},
   "outputs": [
    {
     "data": {},
     "metadata": {},
     "output_type": "display_data"
    },
    {
     "data": {
      "text/html": [
       "<strong>png:</strong> 2"
      ],
      "text/latex": [
       "\\textbf{png:} 2"
      ],
      "text/markdown": [
       "**png:** 2"
      ],
      "text/plain": [
       "png \n",
       "  2 "
      ]
     },
     "metadata": {},
     "output_type": "display_data"
    },
    {
     "data": {},
     "metadata": {},
     "output_type": "display_data"
    },
    {
     "data": {
      "text/html": [
       "<strong>png:</strong> 2"
      ],
      "text/latex": [
       "\\textbf{png:} 2"
      ],
      "text/markdown": [
       "**png:** 2"
      ],
      "text/plain": [
       "png \n",
       "  2 "
      ]
     },
     "metadata": {},
     "output_type": "display_data"
    }
   ],
   "source": [
    "f3 = \"~/Projects/Gutierrez/EBV-recomb/recomb/rdp4_results/ids_171_ebv/10Miter/results/f3.png\"\n",
    "f4 = \"~/Projects/Gutierrez/EBV-recomb/recomb/rdp4_results/ids_171_ebv/10Miter/results/f4.png\"\n",
    "\n",
    "fig3 <- plot_grid(B,A, labels = c('A','B'),nrow = 2,rel_heights = c(1.1,1))\n",
    "fig4 <- plot_grid(left,right, labels = c('A','B'),ncol=2,rel_widths = c(0.85,1)) \n",
    "\n",
    "png(f3, width = 7, height = 7,res = 500,units = 'in')\n",
    "plot_grid(fig3, ncol = 1)\n",
    "dev.off()\n",
    "\n",
    "png(f4, width = 7, height = 7,res = 500,units = 'in')\n",
    "plot_grid(fig4, ncol = 1)\n",
    "dev.off()\n"
   ]
  },
  {
   "cell_type": "code",
   "execution_count": 42,
   "metadata": {},
   "outputs": [
    {
     "data": {},
     "metadata": {},
     "output_type": "display_data"
    },
    {
     "data": {
      "text/html": [
       "<strong>png:</strong> 2"
      ],
      "text/latex": [
       "\\textbf{png:} 2"
      ],
      "text/markdown": [
       "**png:** 2"
      ],
      "text/plain": [
       "png \n",
       "  2 "
      ]
     },
     "metadata": {},
     "output_type": "display_data"
    }
   ],
   "source": [
    "\n"
   ]
  },
  {
   "cell_type": "code",
   "execution_count": 19,
   "metadata": {},
   "outputs": [
    {
     "data": {},
     "metadata": {},
     "output_type": "display_data"
    },
    {
     "data": {
      "text/html": [
       "<strong>png:</strong> 2"
      ],
      "text/latex": [
       "\\textbf{png:} 2"
      ],
      "text/markdown": [
       "**png:** 2"
      ],
      "text/plain": [
       "png \n",
       "  2 "
      ]
     },
     "metadata": {},
     "output_type": "display_data"
    }
   ],
   "source": [
    "df = read.csv('~/Projects/Gutierrez/EBV-recomb/recomb/rdp4_results/ids_171_ebv/10Miter/results/initiators_plus_wind10_LMP2.csv')\n",
    "colnames(df)[2] <- 'group'\n",
    "#df = df[nrow(df):1,]\n",
    "feat = 'Mean.Rho.bp._right'\n",
    "\n",
    "motifs = c('AGGAG','CCCAG','CCTCCCCT', 'GGGCT', 'TGGAG', 'TGGTGG')\n",
    "oo_motifs = c('CCCAG','TGGAG','GGGCT','AGGAG','TGGTGG')\n",
    "\n",
    "Motifs = subset(df,group %in% motifs)\n",
    "Motifs <- droplevels(Motifs)\n",
    "Motifs$group2 <- factor(Motifs$group, levels = oo_motifs)\n",
    "\n",
    "filename = \"~/Projects/Gutierrez/EBV-recomb/recomb/rdp4_results/ids_171_ebv/10Miter/results/initiators_plus_bubble_Motifs_wind10_LMP2.png\"\n",
    "png(filename, width = 5, height = 8,res = 500,units = 'in')\n",
    "\n",
    "plot = bubble_plot(df=Motifs,group_color = 'group2',group_y='GENE',score = feat,range = c(0.01,18)\n",
    "                  ,xlab = 'DNA motifs', ylab= 'gene')\n",
    "plot\n",
    "dev.off()\n"
   ]
  },
  {
   "cell_type": "code",
   "execution_count": 300,
   "metadata": {},
   "outputs": [
    {
     "data": {},
     "metadata": {},
     "output_type": "display_data"
    },
    {
     "data": {
      "text/html": [
       "<strong>png:</strong> 2"
      ],
      "text/latex": [
       "\\textbf{png:} 2"
      ],
      "text/markdown": [
       "**png:** 2"
      ],
      "text/plain": [
       "png \n",
       "  2 "
      ]
     },
     "metadata": {},
     "output_type": "display_data"
    }
   ],
   "source": [
    "df = read.csv('~/Projects/Gutierrez/EBV-recomb/recomb/rdp4_results/ids_171_ebv/10Miter/results/initiators_minus_wind10.csv')\n",
    "colnames(df)[2] <- 'group'\n",
    "feat = 'Mean.Rho.bp._left'\n",
    "\n",
    "motifs = c('AGGAG','CCCAG','CCTCCCCT', 'GGGCT', 'TGGAG', 'TGGTGG')\n",
    "oo_motifs = c('CCCAG','TGGAG','GGGCT','AGGAG','TGGTGG')\n",
    "\n",
    "Motifs = subset(df,group %in% motifs)\n",
    "Motifs <- droplevels(Motifs)\n",
    "Motifs$group2 <- factor(Motifs$group, levels = oo_motifs)\n",
    "\n",
    "filename = \"~/Projects/Gutierrez/EBV-recomb/recomb/rdp4_results/ids_171_ebv/10Miter/results/initiators_minus_bubble_Motifs_wind10.png\"\n",
    "png(filename, width = 5, height = 6,res = 500,units = 'in')\n",
    "plot = bubble_plot(df=Motifs,group_color = 'group2',group_y='GENE',score = feat,range = c(0.01,2),\n",
    "                  ,xlab = 'DNA motifs', ylab= 'gene')\n",
    "plot\n",
    "dev.off()\n"
   ]
  },
  {
   "cell_type": "code",
   "execution_count": 301,
   "metadata": {},
   "outputs": [
    {
     "data": {
      "text/html": [
       "<strong>png:</strong> 2"
      ],
      "text/latex": [
       "\\textbf{png:} 2"
      ],
      "text/markdown": [
       "**png:** 2"
      ],
      "text/plain": [
       "png \n",
       "  2 "
      ]
     },
     "metadata": {},
     "output_type": "display_data"
    }
   ],
   "source": []
  },
  {
   "cell_type": "code",
   "execution_count": 292,
   "metadata": {},
   "outputs": [
    {
     "data": {
      "text/html": [
       "<table>\n",
       "<tbody>\n",
       "\t<tr><td>1</td><td>1</td><td>3</td><td>3</td><td>3</td></tr>\n",
       "\t<tr><td>1</td><td>1</td><td>3</td><td>3</td><td>3</td></tr>\n",
       "\t<tr><td>1</td><td>1</td><td>2</td><td>2</td><td>2</td></tr>\n",
       "\t<tr><td>1</td><td>1</td><td>2</td><td>2</td><td>2</td></tr>\n",
       "\t<tr><td>1</td><td>1</td><td>2</td><td>2</td><td>2</td></tr>\n",
       "</tbody>\n",
       "</table>\n"
      ],
      "text/latex": [
       "\\begin{tabular}{lllll}\n",
       "\t 1 & 1 & 3 & 3 & 3\\\\\n",
       "\t 1 & 1 & 3 & 3 & 3\\\\\n",
       "\t 1 & 1 & 2 & 2 & 2\\\\\n",
       "\t 1 & 1 & 2 & 2 & 2\\\\\n",
       "\t 1 & 1 & 2 & 2 & 2\\\\\n",
       "\\end{tabular}\n"
      ],
      "text/markdown": [
       "\n",
       "| 1 | 1 | 3 | 3 | 3 | \n",
       "| 1 | 1 | 3 | 3 | 3 | \n",
       "| 1 | 1 | 2 | 2 | 2 | \n",
       "| 1 | 1 | 2 | 2 | 2 | \n",
       "| 1 | 1 | 2 | 2 | 2 | \n",
       "\n",
       "\n"
      ],
      "text/plain": [
       "     [,1] [,2] [,3] [,4] [,5]\n",
       "[1,] 1    1    3    3    3   \n",
       "[2,] 1    1    3    3    3   \n",
       "[3,] 1    1    2    2    2   \n",
       "[4,] 1    1    2    2    2   \n",
       "[5,] 1    1    2    2    2   "
      ]
     },
     "metadata": {},
     "output_type": "display_data"
    }
   ],
   "source": []
  },
  {
   "cell_type": "code",
   "execution_count": null,
   "metadata": {},
   "outputs": [],
   "source": []
  },
  {
   "cell_type": "code",
   "execution_count": null,
   "metadata": {},
   "outputs": [],
   "source": []
  },
  {
   "cell_type": "code",
   "execution_count": 29,
   "metadata": {},
   "outputs": [
    {
     "data": {},
     "metadata": {},
     "output_type": "display_data"
    },
    {
     "data": {
      "text/html": [
       "<strong>png:</strong> 2"
      ],
      "text/latex": [
       "\\textbf{png:} 2"
      ],
      "text/markdown": [
       "**png:** 2"
      ],
      "text/plain": [
       "png \n",
       "  2 "
      ]
     },
     "metadata": {},
     "output_type": "display_data"
    }
   ],
   "source": [
    "df = read.csv('~/Projects/Gutierrez/EBV-recomb/recomb/rdp4_results/ids_171_ebv/10Miter/results/filtered_gene_vs_repeat.csv')\n",
    "colnames(df)[3] <- 'group'\n",
    "\n",
    "rep = c('inverted', 'tandem', 'nan', 'type A', 'type B', 'type C', 'NC.','type D','EBNA triplet repeat GGA,GCA,GGG','PstI repeats', 'TERMINAL')\n",
    "\n",
    "\n",
    "Repeats = subset(df,group %in% rep)\n",
    "Repeats <- droplevels(Repeats)\n",
    "\n",
    "filename = \"~/Projects/Gutierrez/EBV-recomb/recomb/rdp4_results/ids_171_ebv/10Miter/results/filtered_bubble_repeats.png\"\n",
    "png(filename, width = 5, height = 6,res = 500,units = 'in')\n",
    "plot = bubble_plot(df=Repeats,group_color = 'group',group_y='GENE',score = 'Mean.Rho.bp.',range = c(0.01,8),\n",
    "                  ,xlab = 'repeat_region', ylab= 'gene')\n",
    "plot\n",
    "dev.off()\n"
   ]
  },
  {
   "cell_type": "code",
   "execution_count": null,
   "metadata": {},
   "outputs": [],
   "source": []
  },
  {
   "cell_type": "code",
   "execution_count": 25,
   "metadata": {},
   "outputs": [
    {
     "name": "stderr",
     "output_type": "stream",
     "text": [
      "Warning message in file(file, \"rt\"):\n",
      "“cannot open file '/home/ariel/Projects/Gutierrez/EBV-recomb/recomb/rdp4_results/ids_171_ebv/10Miter/results/filtered_gene_vs_motifs.csv': No such file or directory”"
     ]
    },
    {
     "ename": "ERROR",
     "evalue": "Error in file(file, \"rt\"): cannot open the connection\n",
     "output_type": "error",
     "traceback": [
      "Error in file(file, \"rt\"): cannot open the connection\nTraceback:\n",
      "1. read.csv(\"~/Projects/Gutierrez/EBV-recomb/recomb/rdp4_results/ids_171_ebv/10Miter/results/filtered_gene_vs_motifs.csv\")",
      "2. read.table(file = file, header = header, sep = sep, quote = quote, \n .     dec = dec, fill = fill, comment.char = comment.char, ...)",
      "3. file(file, \"rt\")"
     ]
    }
   ],
   "source": [
    "df = read.csv('~/Projects/Gutierrez/EBV-recomb/recomb/rdp4_results/ids_171_ebv/10Miter/results/filtered_gene_vs_motifs.csv')\n",
    "colnames(df)[3] <- 'group'\n",
    "\n",
    "motifs = c('AGGAG','CCCAG','CCTCCCCT', 'GGGCT', 'TGGAG', 'TGGTGG')\n",
    "\n",
    "Motifs = subset(df,group %in% motifs)\n",
    "Motifs <- droplevels(Motifs)\n",
    "\n",
    "filename = \"~/Projects/Gutierrez/EBV-recomb/recomb/rdp4_results/ids_171_ebv/10Miter/results/filtered_bubble_Motifs.png\"\n",
    "png(filename, width = 5, height = 8,res = 500,units = 'in')\n",
    "plot = bubble_plot(df=Motifs,group_color = 'group',group_y='GENE',score = 'Mean.Rho.bp.',range = c(0.01,8),\n",
    "                  ,xlab = 'Motifs', ylab= 'gene')\n",
    "plot\n",
    "dev.off()\n"
   ]
  },
  {
   "cell_type": "code",
   "execution_count": 21,
   "metadata": {},
   "outputs": [
    {
     "data": {},
     "metadata": {},
     "output_type": "display_data"
    },
    {
     "data": {
      "text/html": [
       "<strong>png:</strong> 2"
      ],
      "text/latex": [
       "\\textbf{png:} 2"
      ],
      "text/markdown": [
       "**png:** 2"
      ],
      "text/plain": [
       "png \n",
       "  2 "
      ]
     },
     "metadata": {},
     "output_type": "display_data"
    }
   ],
   "source": []
  },
  {
   "cell_type": "code",
   "execution_count": 16,
   "metadata": {},
   "outputs": [
    {
     "name": "stderr",
     "output_type": "stream",
     "text": [
      "Using Mean.Rho.bp. as value column.  Use the value argument to cast to override this choice\n"
     ]
    }
   ],
   "source": [
    "regions = c('CDS','exon','intron','mRNA','regulatory','repeat_region')\n",
    "regions = subset(df,group %in% regions)\n",
    "regions <- droplevels(regions)\n",
    "\n",
    "library(reshape)\n",
    "#Using cast to move conditions into columns is a snap.\n",
    "\n",
    "reg = cast(regions, GENE ~ group)\n",
    "reg[is.na(reg)]<-0\n",
    "\n",
    "reg <- as.matrix(reg)\n",
    "\n",
    "hc <-hclust(dist(reg))\n",
    "oo = hc$order\n",
    "\n",
    "names(oo)<- hc$labels\n",
    "regions['ord']<-oo[regions$GENE]\n"
   ]
  },
  {
   "cell_type": "code",
   "execution_count": 17,
   "metadata": {},
   "outputs": [
    {
     "data": {},
     "metadata": {},
     "output_type": "display_data"
    },
    {
     "data": {
      "text/html": [
       "<strong>png:</strong> 2"
      ],
      "text/latex": [
       "\\textbf{png:} 2"
      ],
      "text/markdown": [
       "**png:** 2"
      ],
      "text/plain": [
       "png \n",
       "  2 "
      ]
     },
     "metadata": {},
     "output_type": "display_data"
    }
   ],
   "source": [
    "filename = \"~/Projects/Gutierrez/EBV-recomb/recomb/rdp4_results/ids_171_ebv/10Miter/results/filtered_bubble_regions.png\"\n",
    "png(filename, width = 5, height = 8,res = 500,units = 'in')\n",
    "plot = bubble_plot(df=regions,group_color = 'group',group_y='GENE',score = 'Mean.Rho.bp.',range = c(1,7),\n",
    "                  ,xlab = 'genome region', ylab= 'gene',transf ='atanh')\n",
    "plot\n",
    "dev.off()"
   ]
  },
  {
   "cell_type": "code",
   "execution_count": null,
   "metadata": {},
   "outputs": [],
   "source": []
  }
 ],
 "metadata": {
  "kernelspec": {
   "display_name": "R",
   "language": "R",
   "name": "ir"
  },
  "language_info": {
   "codemirror_mode": "r",
   "file_extension": ".r",
   "mimetype": "text/x-r-source",
   "name": "R",
   "pygments_lexer": "r",
   "version": "3.4.1"
  }
 },
 "nbformat": 4,
 "nbformat_minor": 2
}
