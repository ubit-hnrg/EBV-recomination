{
 "cells": [
  {
   "cell_type": "code",
   "execution_count": 2,
   "metadata": {},
   "outputs": [],
   "source": [
    "library(gplots)\n",
    "library(ggplot2)\n",
    "# Get the dendextend package\n",
    "library(RColorBrewer)\n",
    "source(\"https://raw.githubusercontent.com/talgalili/dendextend/master/R/attr_access.R\")\n",
    "\n",
    "require(gdata)\n",
    "library(scales)"
   ]
  },
  {
   "cell_type": "markdown",
   "metadata": {},
   "source": [
    "### GO analysis"
   ]
  },
  {
   "cell_type": "code",
   "execution_count": 3,
   "metadata": {},
   "outputs": [],
   "source": [
    "df = read.csv('~/Projects/Gutierrez/EBV-recomb/recomb/rdp4_results/ids_171_ebv/10Miter/results/filtered_gene_vs_call.csv')\n",
    "colnames(df)[3] <- 'group'\n",
    "\n"
   ]
  },
  {
   "cell_type": "code",
   "execution_count": 4,
   "metadata": {},
   "outputs": [],
   "source": [
    "library(RColorBrewer)\n",
    "contrasting_colors = c(\"#000000\", \"#FFFF00\", \"#1CE6FF\", \"#FF34FF\", \"#FF4A46\", \"#008941\", \"#006FA6\", \"#A30059\",\n",
    "\"#FFDBE5\", \"#7A4900\", \"#0000A6\", \"#63FFAC\", \"#B79762\", \"#004D43\", \"#8FB0FF\", \"#997D87\",\n",
    "\"#5A0007\", \"#809693\", \"#FEFFE6\", \"#1B4400\", \"#4FC601\", \"#3B5DFF\", \"#4A3B53\", \"#FF2F80\",\n",
    "\"#61615A\", \"#BA0900\", \"#6B7900\", \"#00C2A0\", \"#FFAA92\", \"#FF90C9\", \"#B903AA\", \"#D16100\",\n",
    "\"#DDEFFF\", \"#000035\", \"#7B4F4B\", \"#A1C299\", \"#300018\", \"#0AA6D8\", \"#013349\", \"#00846F\",\n",
    "\"#372101\", \"#FFB500\", \"#C2FFED\", \"#A079BF\", \"#CC0744\", \"#C0B9B2\", \"#C2FF99\", \"#001E09\",\n",
    "\"#00489C\", \"#6F0062\", \"#0CBD66\", \"#EEC3FF\", \"#456D75\", \"#B77B68\", \"#7A87A1\", \"#788D66\",\n",
    "\"#885578\", \"#FAD09F\", \"#FF8A9A\", \"#D157A0\", \"#BEC459\", \"#456648\", \"#0086ED\", \"#886F4C\",\n",
    "\"#34362D\", \"#B4A8BD\", \"#00A6AA\", \"#452C2C\", \"#636375\", \"#A3C8C9\", \"#FF913F\", \"#938A81\",\n",
    "\"#575329\", \"#00FECF\", \"#B05B6F\", \"#8CD0FF\", \"#3B9700\", \"#04F757\", \"#C8A1A1\", \"#1E6E00\",\n",
    "\"#7900D7\", \"#A77500\", \"#6367A9\", \"#A05837\", \"#6B002C\", \"#772600\", \"#D790FF\", \"#9B9700\",\n",
    "\"#549E79\", \"#FFF69F\", \"#201625\", \"#72418F\", \"#BC23FF\", \"#99ADC0\", \"#3A2465\", \"#922329\",\n",
    "\"#5B4534\", \"#FDE8DC\", \"#404E55\", \"#0089A3\", \"#CB7E98\", \"#A4E804\", \"#324E72\", \"#6A3A4C\")"
   ]
  },
  {
   "cell_type": "code",
   "execution_count": 5,
   "metadata": {},
   "outputs": [],
   "source": [
    "bubble_plot <- function(df,group_color='group',group_y='GENE',score = 'Mean.Rho.bp.',scale = 2,transf = 'identity',range = c(1,3),\n",
    "                        xlab='x',ylab='y'){\n",
    "    if(xlab=='x') xlab = group_color\n",
    "    if(ylab=='y') ylab = group_y\n",
    "    \n",
    "    df['Score'] = as.numeric(df[[score]])\n",
    "    #df['signif'] = log10(as.numeric(df[[score]]))\n",
    "    #df['signif'] = df[['signif']]+ abs(min(df[['signif']]))\n",
    "    \n",
    "    \n",
    "    myColors <- sample(contrasting_colors,length(unique(df[[group_color]])))\n",
    "    names(myColors) <- levels(df[[group_color]])\n",
    "    df['color']=myColors[df[[group_color]]]\n",
    "    \n",
    "    plot = ggplot(df,aes(eval(parse(text = group_color)),eval(parse(text = group_y))))+\n",
    "    geom_point(aes(colour=color,size=Score),alpha = 0.5)+\n",
    "    #  geom_text(aes(label=pval),size=2) \n",
    "    scale_size(trans = transf ,range = range)+\n",
    "    #  scale_size_identity()\n",
    "    #scale_size_continuous(range = range) +\n",
    "    theme(axis.text.x = element_text(angle = 60, hjust = 1))+\n",
    "    labs(x = xlab,y=ylab)+\n",
    "    guides(colour=FALSE)\n",
    "    \n",
    "    return(plot)\n",
    "    }"
   ]
  },
  {
   "cell_type": "code",
   "execution_count": 9,
   "metadata": {},
   "outputs": [],
   "source": [
    "motifs = c('AGGAG','CCCAG','CCTCCCCT', 'GGGCT', 'TGGAG', 'TGGTGG')\n",
    "rep = c('inverted', 'tandem', 'nan', 'type A', 'type B', 'type C', 'type D','EBNA triplet repeat GGA,GCA,GGG','PstI repeats', 'TERMINAL')\n",
    "\n",
    "Motifs = subset(df,group %in% motifs)\n",
    "Motifs <- droplevels(Motifs)\n",
    "\n",
    "Repeats = subset(df,group %in% rep)\n",
    "Repeats <- droplevels(Repeats)\n",
    "\n"
   ]
  },
  {
   "cell_type": "code",
   "execution_count": 8,
   "metadata": {},
   "outputs": [
    {
     "data": {},
     "metadata": {},
     "output_type": "display_data"
    },
    {
     "data": {
      "text/html": [
       "<strong>png:</strong> 2"
      ],
      "text/latex": [
       "\\textbf{png:} 2"
      ],
      "text/markdown": [
       "**png:** 2"
      ],
      "text/plain": [
       "png \n",
       "  2 "
      ]
     },
     "metadata": {},
     "output_type": "display_data"
    }
   ],
   "source": [
    "filename = \"~/Projects/Gutierrez/EBV-recomb/recomb/rdp4_results/ids_171_ebv/10Miter/results/filtered_bubble_Motifs.png\"\n",
    "png(filename, width = 5, height = 8,res = 500,units = 'in')\n",
    "plot = bubble_plot(df=Motifs,group_color = 'group',group_y='GENE',score = 'Mean.Rho.bp.',range = c(0.01,8),\n",
    "                  ,xlab = 'Motifs', ylab= 'gene')\n",
    "plot\n",
    "dev.off()\n"
   ]
  },
  {
   "cell_type": "code",
   "execution_count": 10,
   "metadata": {},
   "outputs": [
    {
     "data": {},
     "metadata": {},
     "output_type": "display_data"
    },
    {
     "data": {
      "text/html": [
       "<strong>png:</strong> 2"
      ],
      "text/latex": [
       "\\textbf{png:} 2"
      ],
      "text/markdown": [
       "**png:** 2"
      ],
      "text/plain": [
       "png \n",
       "  2 "
      ]
     },
     "metadata": {},
     "output_type": "display_data"
    }
   ],
   "source": [
    "filename = \"~/Projects/Gutierrez/EBV-recomb/recomb/rdp4_results/ids_171_ebv/10Miter/results/filtered_bubble_repeats.png\"\n",
    "png(filename, width = 5, height = 8,res = 500,units = 'in')\n",
    "plot = bubble_plot(df=Repeats,group_color = 'group',group_y='GENE',score = 'Mean.Rho.bp.',range = c(0.01,8),\n",
    "                  ,xlab = 'repeat_region', ylab= 'gene')\n",
    "plot\n",
    "dev.off()\n"
   ]
  },
  {
   "cell_type": "code",
   "execution_count": 16,
   "metadata": {},
   "outputs": [
    {
     "name": "stderr",
     "output_type": "stream",
     "text": [
      "Using Mean.Rho.bp. as value column.  Use the value argument to cast to override this choice\n"
     ]
    }
   ],
   "source": [
    "regions = c('CDS','exon','intron','mRNA','regulatory','repeat_region')\n",
    "regions = subset(df,group %in% regions)\n",
    "regions <- droplevels(regions)\n",
    "\n",
    "library(reshape)\n",
    "#Using cast to move conditions into columns is a snap.\n",
    "\n",
    "reg = cast(regions, GENE ~ group)\n",
    "reg[is.na(reg)]<-0\n",
    "\n",
    "reg <- as.matrix(reg)\n",
    "\n",
    "hc <-hclust(dist(reg))\n",
    "oo = hc$order\n",
    "\n",
    "names(oo)<- hc$labels\n",
    "regions['ord']<-oo[regions$GENE]\n"
   ]
  },
  {
   "cell_type": "code",
   "execution_count": 17,
   "metadata": {},
   "outputs": [
    {
     "data": {},
     "metadata": {},
     "output_type": "display_data"
    },
    {
     "data": {
      "text/html": [
       "<strong>png:</strong> 2"
      ],
      "text/latex": [
       "\\textbf{png:} 2"
      ],
      "text/markdown": [
       "**png:** 2"
      ],
      "text/plain": [
       "png \n",
       "  2 "
      ]
     },
     "metadata": {},
     "output_type": "display_data"
    }
   ],
   "source": [
    "filename = \"~/Projects/Gutierrez/EBV-recomb/recomb/rdp4_results/ids_171_ebv/10Miter/results/filtered_bubble_regions.png\"\n",
    "png(filename, width = 5, height = 8,res = 500,units = 'in')\n",
    "plot = bubble_plot(df=regions,group_color = 'group',group_y='GENE',score = 'Mean.Rho.bp.',range = c(1,7),\n",
    "                  ,xlab = 'genome region', ylab= 'gene',transf ='atanh')\n",
    "plot\n",
    "dev.off()"
   ]
  },
  {
   "cell_type": "code",
   "execution_count": null,
   "metadata": {},
   "outputs": [],
   "source": []
  }
 ],
 "metadata": {
  "kernelspec": {
   "display_name": "R",
   "language": "R",
   "name": "ir"
  },
  "language_info": {
   "codemirror_mode": "r",
   "file_extension": ".r",
   "mimetype": "text/x-r-source",
   "name": "R",
   "pygments_lexer": "r",
   "version": "3.4.1"
  }
 },
 "nbformat": 4,
 "nbformat_minor": 2
}
