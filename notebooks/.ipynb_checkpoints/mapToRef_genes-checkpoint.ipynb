{
 "cells": [
  {
   "cell_type": "code",
   "execution_count": 1,
   "metadata": {
    "collapsed": true
   },
   "outputs": [],
   "source": [
    "import pyGeno as pg\n",
    "import pandas as pd\n",
    "import os"
   ]
  },
  {
   "cell_type": "code",
   "execution_count": 16,
   "metadata": {},
   "outputs": [],
   "source": [
    "from Bio import AlignIO \n",
    "from Bio import SeqIO\n",
    "from Bio import pairwise2\n",
    "from Bio.pairwise2 import format_alignment \n"
   ]
  },
  {
   "cell_type": "code",
   "execution_count": 3,
   "metadata": {
    "collapsed": true
   },
   "outputs": [],
   "source": [
    "import argparse\n",
    "import glob\n",
    "import os"
   ]
  },
  {
   "cell_type": "code",
   "execution_count": 4,
   "metadata": {},
   "outputs": [],
   "source": [
    "path = '/data/EBV/refGenes/'\n",
    "GenFiles = glob.glob(path+'*.fa')\n"
   ]
  },
  {
   "cell_type": "code",
   "execution_count": 80,
   "metadata": {},
   "outputs": [],
   "source": [
    "parser = argparse.ArgumentParser(description='run BWA algorithm over two given files')\n",
    "\n",
    "if(False):\n",
    "    parser.add_argument('-r','--ref_file',required=True)\n",
    "    parser.add_argument('-f','--query_file',required=True)\n",
    "\n",
    "    args = parser.parse_args()\n",
    "    ref_file = args.ref_file\n",
    "    query_file = args.query_file\n",
    "\n",
    "else:\n",
    "    ref_file = '/data/EBV/byACCIDs/LN824142.fasta'\n",
    "    query_file = '/data/EBV/refGenes/GId:17494192-EBNA-2.fa'\n",
    "    "
   ]
  },
  {
   "cell_type": "code",
   "execution_count": 81,
   "metadata": {},
   "outputs": [],
   "source": [
    "def mapping(ref_file, query_file,path):\n",
    "    bwapath = path+'bwa_mapping/'\n",
    "    \n",
    "    if not os.path.isdir(bwapath):\n",
    "        os.system('mkdir %s'%bwapath)\n",
    "\n",
    "    os.chdir(bwapath)\n",
    "\n",
    "    base = os.path.basename(ref_file)\n",
    "    suffixes = ['.bwt','.pac','.ann','.amb','.sa']\n",
    "\n",
    "\n",
    "    ## output file \n",
    "    baseout = os.path.basename(query_file).split('.')[0]\n",
    "    baseref = os.path.basename(ref_file).split('.')[0]\n",
    "    output_file = bwapath+baseout + '_' + baseref +'.sam'\n",
    "    \n",
    "    # create index if would be necessary\n",
    "    if not os.path.isfile(path+base+suffixes[0]):\n",
    "        os.system('bwa index %s'%ref_file)\n",
    "    #for ext in suffixes:\n",
    "    #    os.rename(path+base+ext,bwapath+base+ext)\n",
    "    \n",
    "    # excequte mapping\n",
    "    return(os.system('bwa mem %s %s > %s'%(ref_file,query_file,output_file)))"
   ]
  },
  {
   "cell_type": "code",
   "execution_count": 89,
   "metadata": {},
   "outputs": [],
   "source": [
    "res = []\n",
    "for q in glob.glob('/data/EBV/refGenes/*.fa')[0:15]:\n",
    "    res.append(mapping(ref_file=ref_file,query_file=q,path=path))\n",
    "    \n",
    "    "
   ]
  },
  {
   "cell_type": "code",
   "execution_count": 90,
   "metadata": {},
   "outputs": [],
   "source": [
    "res = []\n",
    "for ref in glob.glob('/data/EBV/byACCIDs/*.fasta')[0:15]:\n",
    "    res.append(mapping(ref_file=ref,query_file=query_file,path=path))"
   ]
  },
  {
   "cell_type": "raw",
   "metadata": {},
   "source": []
  },
  {
   "cell_type": "code",
   "execution_count": 60,
   "metadata": {},
   "outputs": [
    {
     "data": {
      "text/plain": [
       "'bwa mem /data/EBV/byACCIDs/LN824142.fasta /data/EBV/refGenes/GId:17494191-BVLF1.fa > /data/EBV/refGenes/bwa_index/GId:17494191-BVLF1_LN824142.sam'"
      ]
     },
     "execution_count": 60,
     "metadata": {},
     "output_type": "execute_result"
    }
   ],
   "source": [
    "'bwa mem %s %s > %s'%(ref_file,query_file,output_file)"
   ]
  },
  {
   "cell_type": "code",
   "execution_count": 11,
   "metadata": {},
   "outputs": [],
   "source": [
    "i = 0\n",
    "refG = SeqIO.read(GenFiles[i],'fasta')\n",
    "seq = SeqIO.read(seq_fasta,'fasta')\n",
    "\n"
   ]
  },
  {
   "cell_type": "code",
   "execution_count": null,
   "metadata": {},
   "outputs": [],
   "source": [
    "a = pairwise2.align.localxx(refG.seq.tostring(),seq.seq.tostring())\n"
   ]
  },
  {
   "cell_type": "code",
   "execution_count": null,
   "metadata": {
    "collapsed": true
   },
   "outputs": [],
   "source": [
    "if (False):\n",
    "    seqs ={}\n",
    "    wanted = ['BKRF1','EBNA3A']\n",
    "\n",
    "    for g in wanted:\n",
    "        outputfile = '/home/ariel/Projects/Gutierrez/EBV-recomb/recomb/bygene/%s_test.fa'%g\n",
    "\n",
    "        with open(outputfile, 'w') as ofile:\n",
    "            for record in SeqIO.parse(gbfile, \"genbank\"):\n",
    "                for f in record.features:\n",
    "                    if f.type == \"CDS\" and \"gene\" in f.qualifiers:\n",
    "                    #if 'gene' in f.qualifiers:\n",
    "                        gene = f.qualifiers[\"gene\"][0]\n",
    "                        #print gene\n",
    "                        if gene  in wanted:\n",
    "                            ofile.write(\">%s|%s from %s\\n%s\\n%s\\n\" %(f.qualifiers['gene'][0],\n",
    "                                                                     f.qualifiers['db_xref'].\n",
    "                                                                 f.qualifiers['product'][0],\n",
    "                                                                 record.name,\n",
    "                                                                 f.location.extract(record).seq,\n",
    "                                                                 f.location ))\n",
    "\n",
    "            ofile.close()"
   ]
  }
 ],
 "metadata": {
  "kernelspec": {
   "display_name": "Python 2",
   "language": "python",
   "name": "python2"
  },
  "language_info": {
   "codemirror_mode": {
    "name": "ipython",
    "version": 2
   },
   "file_extension": ".py",
   "mimetype": "text/x-python",
   "name": "python",
   "nbconvert_exporter": "python",
   "pygments_lexer": "ipython2",
   "version": "2.7.13"
  }
 },
 "nbformat": 4,
 "nbformat_minor": 2
}
