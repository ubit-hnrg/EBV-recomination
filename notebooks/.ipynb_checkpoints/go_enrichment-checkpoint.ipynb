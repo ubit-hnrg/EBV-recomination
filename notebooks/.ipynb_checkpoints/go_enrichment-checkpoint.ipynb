{
 "cells": [
  {
   "cell_type": "code",
   "execution_count": 1,
   "metadata": {
    "scrolled": true
   },
   "outputs": [],
   "source": [
    "import pandas as pd\n",
    "import scipy as sp"
   ]
  },
  {
   "cell_type": "code",
   "execution_count": 2,
   "metadata": {
    "scrolled": true
   },
   "outputs": [],
   "source": [
    "gobackground = pd.read_table('/home/ariel/Projects/Gutierrez/EBV-recomb/recomb/GOanalysis/GO-EBV-Uniprot.tab')"
   ]
  },
  {
   "cell_type": "code",
   "execution_count": 3,
   "metadata": {},
   "outputs": [],
   "source": [
    "mygentable = pd.read_table('/data/EBV/by_gene/gene_result.txt')\n"
   ]
  },
  {
   "cell_type": "code",
   "execution_count": 4,
   "metadata": {},
   "outputs": [
    {
     "data": {
      "text/plain": [
       "'3783696;3783733;'"
      ]
     },
     "execution_count": 4,
     "metadata": {},
     "output_type": "execute_result"
    }
   ],
   "source": [
    "gobackground['Cross-reference (GeneID)'][9]"
   ]
  },
  {
   "cell_type": "code",
   "execution_count": 5,
   "metadata": {},
   "outputs": [],
   "source": [
    "gids = gobackground['Cross-reference (GeneID)'].str.split(';',expand=False).apply(lambda x: [a  for a in x if a not in ''])\n",
    "gidslist = pd.to_numeric(pd.concat([pd.Series(x) for x in gids.values]))\n",
    "gidframe = gidslist.reset_index().drop(['index'],axis=1)"
   ]
  },
  {
   "cell_type": "code",
   "execution_count": 6,
   "metadata": {},
   "outputs": [
    {
     "data": {
      "text/plain": [
       "0     3783676\n",
       "1     3783677\n",
       "2     3783678\n",
       "3    17494228\n",
       "4     3783679\n",
       "Name: GeneID, dtype: int64"
      ]
     },
     "execution_count": 6,
     "metadata": {},
     "output_type": "execute_result"
    }
   ],
   "source": [
    "mygentable.GeneID.head()"
   ]
  },
  {
   "cell_type": "code",
   "execution_count": 7,
   "metadata": {},
   "outputs": [
    {
     "data": {
      "text/html": [
       "<div>\n",
       "<style>\n",
       "    .dataframe thead tr:only-child th {\n",
       "        text-align: right;\n",
       "    }\n",
       "\n",
       "    .dataframe thead th {\n",
       "        text-align: left;\n",
       "    }\n",
       "\n",
       "    .dataframe tbody tr th {\n",
       "        vertical-align: top;\n",
       "    }\n",
       "</style>\n",
       "<table border=\"1\" class=\"dataframe\">\n",
       "  <thead>\n",
       "    <tr style=\"text-align: right;\">\n",
       "      <th></th>\n",
       "      <th>0</th>\n",
       "    </tr>\n",
       "  </thead>\n",
       "  <tbody>\n",
       "    <tr>\n",
       "      <th>0</th>\n",
       "      <td>3783746</td>\n",
       "    </tr>\n",
       "    <tr>\n",
       "      <th>1</th>\n",
       "      <td>17494212</td>\n",
       "    </tr>\n",
       "    <tr>\n",
       "      <th>2</th>\n",
       "      <td>3783750</td>\n",
       "    </tr>\n",
       "    <tr>\n",
       "      <th>3</th>\n",
       "      <td>3783713</td>\n",
       "    </tr>\n",
       "    <tr>\n",
       "      <th>4</th>\n",
       "      <td>3783761</td>\n",
       "    </tr>\n",
       "  </tbody>\n",
       "</table>\n",
       "</div>"
      ],
      "text/plain": [
       "          0\n",
       "0   3783746\n",
       "1  17494212\n",
       "2   3783750\n",
       "3   3783713\n",
       "4   3783761"
      ]
     },
     "execution_count": 7,
     "metadata": {},
     "output_type": "execute_result"
    }
   ],
   "source": [
    "gidframe.head()"
   ]
  },
  {
   "cell_type": "code",
   "execution_count": 15,
   "metadata": {},
   "outputs": [
    {
     "name": "stdout",
     "output_type": "stream",
     "text": [
      "True\n",
      "False\n",
      "0.59477124183\n",
      "some examples not present in uniprot -- all of them are 5~6 bp long\n",
      "3     17494228\n",
      "7     17494205\n",
      "11    17494226\n",
      "13    17494249\n",
      "16    17494233\n",
      "Name: GeneID, dtype: int64\n"
     ]
    }
   ],
   "source": [
    "# All uniprots IDs are in our gene table\n",
    "print gidframe[0].isin(mygentable.GeneID).all()\n",
    "\n",
    "# The inverse is not true\n",
    "print mygentable.GeneID.isin(gidframe[0]).all()\n",
    "\n",
    "print mygentable.GeneID.isin(gidframe[0]).sum()/float(mygentable.shape[0])\n",
    "\n",
    "print 'some examples not present in uniprot -- all of them are 5~6 bp long'\n",
    "print mygentable.GeneID[~mygentable.GeneID.isin(gidframe[0])].head()"
   ]
  },
  {
   "cell_type": "code",
   "execution_count": 12,
   "metadata": {},
   "outputs": [
    {
     "data": {
      "text/html": [
       "<div>\n",
       "<style>\n",
       "    .dataframe thead tr:only-child th {\n",
       "        text-align: right;\n",
       "    }\n",
       "\n",
       "    .dataframe thead th {\n",
       "        text-align: left;\n",
       "    }\n",
       "\n",
       "    .dataframe tbody tr th {\n",
       "        vertical-align: top;\n",
       "    }\n",
       "</style>\n",
       "<table border=\"1\" class=\"dataframe\">\n",
       "  <thead>\n",
       "    <tr style=\"text-align: right;\">\n",
       "      <th></th>\n",
       "      <th>Entry</th>\n",
       "      <th>Entry name</th>\n",
       "      <th>Status</th>\n",
       "      <th>Protein names</th>\n",
       "      <th>Gene names</th>\n",
       "      <th>Organism</th>\n",
       "      <th>Length</th>\n",
       "      <th>Gene ontology (biological process)</th>\n",
       "      <th>Gene ontology (cellular component)</th>\n",
       "      <th>Gene ontology (molecular function)</th>\n",
       "      <th>Gene ontology IDs</th>\n",
       "      <th>Gene ontology (GO)</th>\n",
       "    </tr>\n",
       "  </thead>\n",
       "  <tbody>\n",
       "  </tbody>\n",
       "</table>\n",
       "</div>"
      ],
      "text/plain": [
       "Empty DataFrame\n",
       "Columns: [Entry, Entry name, Status, Protein names, Gene names, Organism, Length, Gene ontology (biological process), Gene ontology (cellular component), Gene ontology (molecular function), Gene ontology IDs, Gene ontology (GO)]\n",
       "Index: []"
      ]
     },
     "execution_count": 12,
     "metadata": {},
     "output_type": "execute_result"
    }
   ],
   "source": [
    "gobackground[gobackground['Gene names'].str.contains(gentest[1])]"
   ]
  },
  {
   "cell_type": "code",
   "execution_count": 16,
   "metadata": {},
   "outputs": [
    {
     "name": "stdout",
     "output_type": "stream",
     "text": [
      "['A73' 'BALF1' 'BALF5' 'BARF0' 'BARF1' 'BBLF1' 'BBLF2-BBLF3' 'BBLF4 HELI'\n",
      " 'BBRF1' 'BBRF2' 'BCRF1' 'BCRF2' 'BDLF2' 'BDLF3' 'BDLF4' 'BFLF1'\n",
      " 'BFRF1A TRM2' 'BFRF2' 'BGLF2' 'BGLF3' 'BGLF3.5' 'BGLF4' 'BGLF5' 'BHLF1'\n",
      " 'BHRF1' 'BILF1' 'BILF2' 'BKRF4' 'BLLF1' 'BLLF2' 'BLRF2' 'BMLF1; BSLF2'\n",
      " 'BMRF1' 'BMRF2' 'BNLF2a' 'BNLF2b' 'BNRF1' 'BOLF1' 'BPLF1' 'BRLF1' 'BRRF1'\n",
      " 'BRRF2' 'BSLF1' 'BSLF2' 'BSRF1' 'BTRF1' 'BVLF1' 'BVRF2' 'BWRF1' 'BWRF1'\n",
      " 'BWRF1' 'BWRF1' 'BWRF1' 'BWRF1' 'BWRF1' 'BXRF1' 'BZLF1' 'BZLF2' 'BcRF1'\n",
      " 'CVC1 BGLF1' 'CVC2 BVRF1' 'DBP BALF2' 'DUT BLLF3' 'EBNA-LP EBNA5'\n",
      " 'EBNA1 BKRF1' 'EBNA2 BYRF1' 'EBNA3 BLRF3-BERF1' 'EBNA4 BERF2A-BERF2B'\n",
      " 'EBNA6 BERF3-BERF4' 'LF1' 'LF2' 'LF3' 'LMP1 BNLF1' 'LMP2' 'MCP BcLF1'\n",
      " 'NEC1 BFLF2' 'NEC2 BFRF1' 'RIR1 BORF2' 'RIR2 BaRF1' 'RPMS1' 'SCP BFRF3'\n",
      " 'TK BXLF1' 'TRM1 BALF3' 'TRM3 BGRF1/BDRF1' 'TRX1 BORF1' 'TRX2 BDLF1'\n",
      " 'UNG BKRF3' 'gB BALF4' 'gH BXLF2' 'gL BKRF2' 'gM BBRF3' 'gN BLRF1']\n"
     ]
    }
   ],
   "source": [
    "print gobackground['Gene names'].sort_values().values"
   ]
  },
  {
   "cell_type": "code",
   "execution_count": null,
   "metadata": {},
   "outputs": [],
   "source": []
  }
 ],
 "metadata": {
  "kernelspec": {
   "display_name": "Python 2",
   "language": "python",
   "name": "python2"
  },
  "language_info": {
   "codemirror_mode": {
    "name": "ipython",
    "version": 2
   },
   "file_extension": ".py",
   "mimetype": "text/x-python",
   "name": "python",
   "nbconvert_exporter": "python",
   "pygments_lexer": "ipython2",
   "version": "2.7.12"
  }
 },
 "nbformat": 4,
 "nbformat_minor": 2
}
