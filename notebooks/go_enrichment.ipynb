{
 "cells": [
  {
   "cell_type": "code",
   "execution_count": 1,
   "metadata": {
    "scrolled": true
   },
   "outputs": [],
   "source": [
    "import pandas as pd\n",
    "import scipy as sp"
   ]
  },
  {
   "cell_type": "code",
   "execution_count": 2,
   "metadata": {
    "scrolled": true
   },
   "outputs": [],
   "source": [
    "gobackground = pd.read_table('/home/ariel/Projects/Gutierrez/EBV-recomb/recomb/GOanalysis/GO-EBV-Uniprot.tab')"
   ]
  },
  {
   "cell_type": "code",
   "execution_count": 3,
   "metadata": {},
   "outputs": [],
   "source": [
    "mygentable = pd.read_table('/data/EBV/by_gene/gene_result.txt')\n"
   ]
  },
  {
   "cell_type": "code",
   "execution_count": 4,
   "metadata": {},
   "outputs": [
    {
     "data": {
      "text/plain": [
       "'3783696;3783733;'"
      ]
     },
     "execution_count": 4,
     "metadata": {},
     "output_type": "execute_result"
    }
   ],
   "source": [
    "gobackground['Cross-reference (GeneID)'][9]"
   ]
  },
  {
   "cell_type": "code",
   "execution_count": 5,
   "metadata": {},
   "outputs": [],
   "source": [
    "gids = gobackground['Cross-reference (GeneID)'].str.split(';',expand=False).apply(lambda x: [a  for a in x if a not in ''])\n",
    "gidslist = pd.to_numeric(pd.concat([pd.Series(x) for x in gids.values]))\n",
    "gidframe = gidslist.reset_index().drop(['index'],axis=1)"
   ]
  },
  {
   "cell_type": "code",
   "execution_count": 6,
   "metadata": {},
   "outputs": [
    {
     "data": {
      "text/plain": [
       "0     3783676\n",
       "1     3783677\n",
       "2     3783678\n",
       "3    17494228\n",
       "4     3783679\n",
       "Name: GeneID, dtype: int64"
      ]
     },
     "execution_count": 6,
     "metadata": {},
     "output_type": "execute_result"
    }
   ],
   "source": [
    "mygentable.GeneID.head()"
   ]
  },
  {
   "cell_type": "code",
   "execution_count": 7,
   "metadata": {},
   "outputs": [
    {
     "data": {
      "text/html": [
       "<div>\n",
       "<style>\n",
       "    .dataframe thead tr:only-child th {\n",
       "        text-align: right;\n",
       "    }\n",
       "\n",
       "    .dataframe thead th {\n",
       "        text-align: left;\n",
       "    }\n",
       "\n",
       "    .dataframe tbody tr th {\n",
       "        vertical-align: top;\n",
       "    }\n",
       "</style>\n",
       "<table border=\"1\" class=\"dataframe\">\n",
       "  <thead>\n",
       "    <tr style=\"text-align: right;\">\n",
       "      <th></th>\n",
       "      <th>0</th>\n",
       "    </tr>\n",
       "  </thead>\n",
       "  <tbody>\n",
       "    <tr>\n",
       "      <th>0</th>\n",
       "      <td>3783746</td>\n",
       "    </tr>\n",
       "    <tr>\n",
       "      <th>1</th>\n",
       "      <td>17494212</td>\n",
       "    </tr>\n",
       "    <tr>\n",
       "      <th>2</th>\n",
       "      <td>3783750</td>\n",
       "    </tr>\n",
       "    <tr>\n",
       "      <th>3</th>\n",
       "      <td>3783713</td>\n",
       "    </tr>\n",
       "    <tr>\n",
       "      <th>4</th>\n",
       "      <td>3783761</td>\n",
       "    </tr>\n",
       "  </tbody>\n",
       "</table>\n",
       "</div>"
      ],
      "text/plain": [
       "          0\n",
       "0   3783746\n",
       "1  17494212\n",
       "2   3783750\n",
       "3   3783713\n",
       "4   3783761"
      ]
     },
     "execution_count": 7,
     "metadata": {},
     "output_type": "execute_result"
    }
   ],
   "source": [
    "gidframe.head()"
   ]
  },
  {
   "cell_type": "code",
   "execution_count": 8,
   "metadata": {},
   "outputs": [
    {
     "name": "stdout",
     "output_type": "stream",
     "text": [
      "True\n",
      "False\n",
      "0.59477124183\n",
      "some examples not present in uniprot -- all of them are 5~6 bp long\n",
      "3     17494228\n",
      "7     17494205\n",
      "11    17494226\n",
      "13    17494249\n",
      "16    17494233\n",
      "Name: GeneID, dtype: int64\n"
     ]
    }
   ],
   "source": [
    "# All uniprots IDs are in our gene table\n",
    "print gidframe[0].isin(mygentable.GeneID).all()\n",
    "\n",
    "# The inverse is not true\n",
    "print mygentable.GeneID.isin(gidframe[0]).all()\n",
    "\n",
    "print mygentable.GeneID.isin(gidframe[0]).sum()/float(mygentable.shape[0])\n",
    "\n",
    "print 'some examples not present in uniprot -- all of them are 5~6 bp long'\n",
    "print mygentable.GeneID[~mygentable.GeneID.isin(gidframe[0])].head()"
   ]
  },
  {
   "cell_type": "code",
   "execution_count": 9,
   "metadata": {},
   "outputs": [],
   "source": [
    "#ggids = [pd.Series(int(g[0])) if len(g)==1 else g.to_frame().transpose() for g in gids]\n",
    "ggids = [int(g[0]) for g in gids]\n",
    "gobackground['GeneID'] = ggids"
   ]
  },
  {
   "cell_type": "code",
   "execution_count": 10,
   "metadata": {},
   "outputs": [],
   "source": [
    "merged = pd.merge(gobackground,mygentable.drop(['Status'],axis = 1),on = ['GeneID'])"
   ]
  },
  {
   "cell_type": "markdown",
   "metadata": {},
   "source": [
    "### godict\n"
   ]
  },
  {
   "cell_type": "code",
   "execution_count": 11,
   "metadata": {},
   "outputs": [],
   "source": [
    "definit = gobackground['Gene ontology (GO)'].str.split(';',expand = False)\n",
    "ddef =  []\n",
    "for go in definit:\n",
    "    if type(go)== list:\n",
    "        ddef = ddef + go\n",
    "    else:\n",
    "        ddef = ddef + [go]\n",
    "ddef = pd.Series(ddef).drop_duplicates()\n",
    "\n",
    "\n",
    "ddef = ddef.str.split(' \\[')\n",
    "ddef =pd.Series([x for x in ddef if type(x)==list])\n",
    "\n",
    "ddefs = ddef.apply(lambda x: pd.Series([x[0],x[1]]))\n",
    "ddefs.columns =['def','goid']\n",
    "ddefs['goid'] = ddefs.goid.str.split('\\]').apply(lambda x:x[0])\n",
    "\n",
    "#ddef.apply(lambda x: type(x)).value_counts()\n",
    "#xx = ddef.apply(lambda x: {'name':x[0],'iid':x[1]})\n",
    "#xx\n",
    "#pd.DataFrame(xx)"
   ]
  },
  {
   "cell_type": "code",
   "execution_count": 12,
   "metadata": {},
   "outputs": [],
   "source": [
    "godict = {}\n",
    "for i in range(ddefs.shape[0]):\n",
    "    x = ddefs.iloc[i,:]\n",
    "    godict.update({x['goid'].replace(' ',''):x['def']})"
   ]
  },
  {
   "cell_type": "code",
   "execution_count": 13,
   "metadata": {},
   "outputs": [
    {
     "data": {
      "text/plain": [
       "3"
      ]
     },
     "execution_count": 13,
     "metadata": {},
     "output_type": "execute_result"
    }
   ],
   "source": [
    "by_repeats = pd.read_csv('~/Projects/Gutierrez/EBV-recomb/recomb/rdp4_results/ids_171_ebv/10Miter/results/filtered_gene_vs_repeat.csv')\n",
    "by_repeats.GENE.nunique()              \n"
   ]
  },
  {
   "cell_type": "code",
   "execution_count": 14,
   "metadata": {},
   "outputs": [
    {
     "data": {
      "text/plain": [
       "28"
      ]
     },
     "execution_count": 14,
     "metadata": {},
     "output_type": "execute_result"
    }
   ],
   "source": [
    "by_motifs = pd.read_csv('/home/ariel/Projects/Gutierrez/EBV-recomb/recomb/rdp4_results/ids_171_ebv/10Miter/results/filtered_gene_vs_call.csv')\n",
    "by_motifs.GENE.nunique()"
   ]
  },
  {
   "cell_type": "code",
   "execution_count": 66,
   "metadata": {},
   "outputs": [],
   "source": [
    "by_gene_intensity = ['EBNA3C',\n",
    " 'EBNA3B',\n",
    " 'BRRF2',\n",
    " 'BZLF2',\n",
    " 'BBLF2-BBLF3',\n",
    " 'BLLF2',\n",
    " 'BZLF1',\n",
    " 'BMRF2',\n",
    " 'BBRF2',\n",
    " 'BMLF1',\n",
    " 'EBNA3A',\n",
    " 'EBNA1 leader sequence',\n",
    " 'LMP2B',\n",
    " 'SM, spliced BSLF2+BMLF1',\n",
    " 'BERF3',\n",
    " 'BORF2',\n",
    " 'BMRF1',\n",
    " 'BDLF4',\n",
    " 'BKRF3',\n",
    " 'LMP1']"
   ]
  },
  {
   "cell_type": "code",
   "execution_count": 180,
   "metadata": {},
   "outputs": [
    {
     "name": "stdout",
     "output_type": "stream",
     "text": [
      "TGGTGG\n"
     ]
    }
   ],
   "source": [
    "import pickle\n",
    "outpath = '/home/ariel/Projects/Gutierrez/EBV-recomb/recomb/rdp4_results/ids_171_ebv/10Miter/results/'\n",
    "with open(outpath+'motif_gene_dict.pickle', 'rb') as handle:\n",
    "    motif_gene_dict = pickle.load(handle)\n",
    "motifs = motif_gene_dict.keys()\n",
    "\n",
    "m =  motifs[5]\n",
    "print m\n",
    "by_gene_intensity = motif_gene_dict[m]\n"
   ]
  },
  {
   "cell_type": "code",
   "execution_count": 206,
   "metadata": {},
   "outputs": [],
   "source": [
    "l = motif_gene_dict.values()\n",
    "flat_list = [item for sublist in l for item in sublist]\n",
    "by_gene_intensity = pd.Series(flat_list).unique().tolist()"
   ]
  },
  {
   "cell_type": "code",
   "execution_count": 207,
   "metadata": {},
   "outputs": [],
   "source": [
    "#goserie = merged[merged.Symbol.isin(by_motifs.GENE)]['Gene ontology IDs'].str.split(';',expand=False)\n",
    "goserie = merged[merged.Symbol.isin(by_gene_intensity)]['Gene ontology IDs'].str.split(';',expand=False)\n",
    "\n",
    "goes =  []\n",
    "for go in goserie:\n",
    "    if type(go)== list:\n",
    "        goes = goes + go\n",
    "    else:\n",
    "        goes = goes + [go]\n",
    "goes = pd.Series(goes).str.replace(' ','')\n",
    "top_goes = goes.value_counts()\n"
   ]
  },
  {
   "cell_type": "code",
   "execution_count": 208,
   "metadata": {},
   "outputs": [],
   "source": [
    "aux = merged[['Gene ontology IDs','Symbol']].copy()\n",
    "aux.set_index(['Symbol'],inplace = True)\n",
    "dic = aux['Gene ontology IDs'].str.split('; ',expand = False)"
   ]
  },
  {
   "cell_type": "code",
   "execution_count": 209,
   "metadata": {},
   "outputs": [],
   "source": [
    "import numpy as np\n",
    "inv_map = {}\n",
    "for k, v in dic.iteritems():\n",
    "    if type(v)!=float:\n",
    "        for vi in v:\n",
    "            inv_map[vi] = inv_map.get(vi, [])\n",
    "            inv_map[vi].append(k)"
   ]
  },
  {
   "cell_type": "code",
   "execution_count": 210,
   "metadata": {},
   "outputs": [],
   "source": [
    "counts ={}\n",
    "for k in inv_map.keys():\n",
    "    counts.update({k:len(inv_map[k])})\n",
    "gocounts = pd.Series(counts).sort_values(ascending = False)"
   ]
  },
  {
   "cell_type": "markdown",
   "metadata": {},
   "source": [
    "## contingency table:"
   ]
  },
  {
   "cell_type": "code",
   "execution_count": 211,
   "metadata": {},
   "outputs": [],
   "source": [
    "total_genes = aux.index.nunique()  # total pelotitas en la bolsa\n",
    "total_genes_with_signif_rho =  by_motifs.GENE.nunique()    # total de pelotitas blancas\n",
    "\n",
    "N = total_genes\n",
    "bcas = total_genes_with_signif_rho"
   ]
  },
  {
   "cell_type": "code",
   "execution_count": 212,
   "metadata": {},
   "outputs": [],
   "source": [
    "import scipy.stats as stats\n",
    "\n",
    "fisher = pd.DataFrame()\n",
    "for go in counts.keys():\n",
    "    marginal_go = counts[go]\n",
    "    if go in top_goes.keys():\n",
    "        go_hit = top_goes[go]\n",
    "    else:\n",
    "        go_hit = 0\n",
    "        \n",
    "    go_no_hit = marginal_go -go_hit\n",
    "    no_go_hit = total_genes_with_signif_rho - go_hit\n",
    "    no_go_no_hit = (total_genes -total_genes_with_signif_rho) - go_no_hit\n",
    "\n",
    "    m = np.array([[go_hit,go_no_hit],[no_go_hit,no_go_no_hit]])\n",
    "    oddsratio, pvalue = stats.fisher_exact(m,alternative='greater')\n",
    "    fisher = pd.concat([fisher,pd.Series([go,pvalue,go_hit,marginal_go,godict[go]])],axis = 1)\n",
    "fisher = fisher.transpose()\n",
    "fisher.columns = ['go','pval','hits','marginal_go','description']\n",
    "fisher.sort_values(by = 'pval',inplace = True)"
   ]
  },
  {
   "cell_type": "code",
   "execution_count": 213,
   "metadata": {},
   "outputs": [],
   "source": [
    "annotations = pd.Series(inv_map).to_frame()\n",
    "annotations.columns = ['genes']\n",
    "\n"
   ]
  },
  {
   "cell_type": "code",
   "execution_count": 214,
   "metadata": {},
   "outputs": [
    {
     "data": {
      "text/html": [
       "<div>\n",
       "<style>\n",
       "    .dataframe thead tr:only-child th {\n",
       "        text-align: right;\n",
       "    }\n",
       "\n",
       "    .dataframe thead th {\n",
       "        text-align: left;\n",
       "    }\n",
       "\n",
       "    .dataframe tbody tr th {\n",
       "        vertical-align: top;\n",
       "    }\n",
       "</style>\n",
       "<table border=\"1\" class=\"dataframe\">\n",
       "  <thead>\n",
       "    <tr style=\"text-align: right;\">\n",
       "      <th></th>\n",
       "      <th>genes</th>\n",
       "    </tr>\n",
       "  </thead>\n",
       "  <tbody>\n",
       "    <tr>\n",
       "      <th>GO:0000166</th>\n",
       "      <td>[BALF5]</td>\n",
       "    </tr>\n",
       "    <tr>\n",
       "      <th>GO:0003677</th>\n",
       "      <td>[LMP2, BMRF1, BKRF1, BZLF1, BALF5, BGLF5, BLRF...</td>\n",
       "    </tr>\n",
       "    <tr>\n",
       "      <th>GO:0003688</th>\n",
       "      <td>[BKRF1]</td>\n",
       "    </tr>\n",
       "    <tr>\n",
       "      <th>GO:0003697</th>\n",
       "      <td>[BALF2]</td>\n",
       "    </tr>\n",
       "    <tr>\n",
       "      <th>GO:0003700</th>\n",
       "      <td>[BKRF1, BZLF1]</td>\n",
       "    </tr>\n",
       "  </tbody>\n",
       "</table>\n",
       "</div>"
      ],
      "text/plain": [
       "                                                        genes\n",
       "GO:0000166                                            [BALF5]\n",
       "GO:0003677  [LMP2, BMRF1, BKRF1, BZLF1, BALF5, BGLF5, BLRF...\n",
       "GO:0003688                                            [BKRF1]\n",
       "GO:0003697                                            [BALF2]\n",
       "GO:0003700                                     [BKRF1, BZLF1]"
      ]
     },
     "execution_count": 214,
     "metadata": {},
     "output_type": "execute_result"
    }
   ],
   "source": [
    "annotations.head()"
   ]
  },
  {
   "cell_type": "code",
   "execution_count": 215,
   "metadata": {},
   "outputs": [
    {
     "data": {
      "text/html": [
       "<div>\n",
       "<style>\n",
       "    .dataframe thead tr:only-child th {\n",
       "        text-align: right;\n",
       "    }\n",
       "\n",
       "    .dataframe thead th {\n",
       "        text-align: left;\n",
       "    }\n",
       "\n",
       "    .dataframe tbody tr th {\n",
       "        vertical-align: top;\n",
       "    }\n",
       "</style>\n",
       "<table border=\"1\" class=\"dataframe\">\n",
       "  <thead>\n",
       "    <tr style=\"text-align: right;\">\n",
       "      <th></th>\n",
       "      <th>pval</th>\n",
       "      <th>hits</th>\n",
       "      <th>marginal_go</th>\n",
       "      <th>description</th>\n",
       "      <th>genes</th>\n",
       "    </tr>\n",
       "    <tr>\n",
       "      <th>go</th>\n",
       "      <th></th>\n",
       "      <th></th>\n",
       "      <th></th>\n",
       "      <th></th>\n",
       "      <th></th>\n",
       "    </tr>\n",
       "  </thead>\n",
       "  <tbody>\n",
       "    <tr>\n",
       "      <th>GO:0039686</th>\n",
       "      <td>0.0010759</td>\n",
       "      <td>6</td>\n",
       "      <td>6</td>\n",
       "      <td>bidirectional double-stranded viral DNA replic...</td>\n",
       "      <td>[BMRF1, BALF5, BALF2, BSLF1, BBLF2-BBLF3, BBLF4]</td>\n",
       "    </tr>\n",
       "    <tr>\n",
       "      <th>GO:0042025</th>\n",
       "      <td>0.00939659</td>\n",
       "      <td>16</td>\n",
       "      <td>31</td>\n",
       "      <td>host cell nucleus</td>\n",
       "      <td>[EBNA-LP, LMP2, LMP2, BYRF1, BMRF1, BKRF1, BdR...</td>\n",
       "    </tr>\n",
       "    <tr>\n",
       "      <th>GO:0006260</th>\n",
       "      <td>0.0162321</td>\n",
       "      <td>5</td>\n",
       "      <td>6</td>\n",
       "      <td>DNA replication</td>\n",
       "      <td>[BKRF1, BALF5, BALF2, BaRF1, BORF2, BBLF4]</td>\n",
       "    </tr>\n",
       "    <tr>\n",
       "      <th>GO:0006323</th>\n",
       "      <td>0.0369919</td>\n",
       "      <td>3</td>\n",
       "      <td>3</td>\n",
       "      <td>DNA packaging</td>\n",
       "      <td>[LMP2, LMP2, BGLF1]</td>\n",
       "    </tr>\n",
       "    <tr>\n",
       "      <th>GO:0003677</th>\n",
       "      <td>0.0716816</td>\n",
       "      <td>6</td>\n",
       "      <td>10</td>\n",
       "      <td>DNA binding</td>\n",
       "      <td>[LMP2, BMRF1, BKRF1, BZLF1, BALF5, BGLF5, BLRF...</td>\n",
       "    </tr>\n",
       "  </tbody>\n",
       "</table>\n",
       "</div>"
      ],
      "text/plain": [
       "                  pval hits marginal_go  \\\n",
       "go                                        \n",
       "GO:0039686   0.0010759    6           6   \n",
       "GO:0042025  0.00939659   16          31   \n",
       "GO:0006260   0.0162321    5           6   \n",
       "GO:0006323   0.0369919    3           3   \n",
       "GO:0003677   0.0716816    6          10   \n",
       "\n",
       "                                                  description  \\\n",
       "go                                                              \n",
       "GO:0039686  bidirectional double-stranded viral DNA replic...   \n",
       "GO:0042025                                  host cell nucleus   \n",
       "GO:0006260                                    DNA replication   \n",
       "GO:0006323                                      DNA packaging   \n",
       "GO:0003677                                        DNA binding   \n",
       "\n",
       "                                                        genes  \n",
       "go                                                             \n",
       "GO:0039686   [BMRF1, BALF5, BALF2, BSLF1, BBLF2-BBLF3, BBLF4]  \n",
       "GO:0042025  [EBNA-LP, LMP2, LMP2, BYRF1, BMRF1, BKRF1, BdR...  \n",
       "GO:0006260         [BKRF1, BALF5, BALF2, BaRF1, BORF2, BBLF4]  \n",
       "GO:0006323                                [LMP2, LMP2, BGLF1]  \n",
       "GO:0003677  [LMP2, BMRF1, BKRF1, BZLF1, BALF5, BGLF5, BLRF...  "
      ]
     },
     "execution_count": 215,
     "metadata": {},
     "output_type": "execute_result"
    }
   ],
   "source": [
    "fish = pd.merge(fisher,annotations,right_index = True,left_on='go',how = 'left')\n",
    "fish.set_index(['go'],inplace = True)\n",
    "fish.head()"
   ]
  },
  {
   "cell_type": "code",
   "execution_count": 216,
   "metadata": {},
   "outputs": [],
   "source": [
    "oo = fish.sort_values(by=['hits'],ascending = False)\n",
    "included = oo.genes.apply(lambda x: [i for i in x if i in by_gene_intensity ])\n",
    "included = included.to_frame()\n",
    "included.columns =['included']"
   ]
  },
  {
   "cell_type": "code",
   "execution_count": 219,
   "metadata": {},
   "outputs": [
    {
     "data": {
      "text/html": [
       "<div>\n",
       "<style>\n",
       "    .dataframe thead tr:only-child th {\n",
       "        text-align: right;\n",
       "    }\n",
       "\n",
       "    .dataframe thead th {\n",
       "        text-align: left;\n",
       "    }\n",
       "\n",
       "    .dataframe tbody tr th {\n",
       "        vertical-align: top;\n",
       "    }\n",
       "</style>\n",
       "<table border=\"1\" class=\"dataframe\">\n",
       "  <thead>\n",
       "    <tr style=\"text-align: right;\">\n",
       "      <th></th>\n",
       "      <th>pval</th>\n",
       "      <th>hits</th>\n",
       "      <th>marginal_go</th>\n",
       "      <th>description</th>\n",
       "      <th>genes</th>\n",
       "      <th>included</th>\n",
       "    </tr>\n",
       "    <tr>\n",
       "      <th>go</th>\n",
       "      <th></th>\n",
       "      <th></th>\n",
       "      <th></th>\n",
       "      <th></th>\n",
       "      <th></th>\n",
       "      <th></th>\n",
       "    </tr>\n",
       "  </thead>\n",
       "  <tbody>\n",
       "    <tr>\n",
       "      <th>GO:0042025</th>\n",
       "      <td>0.00939659</td>\n",
       "      <td>16</td>\n",
       "      <td>31</td>\n",
       "      <td>host cell nucleus</td>\n",
       "      <td>[EBNA-LP, LMP2, LMP2, BYRF1, BMRF1, BKRF1, BdR...</td>\n",
       "      <td>[LMP2, LMP2, BMRF1, BdRF1, BGLF4, BMLF1, BALF5...</td>\n",
       "    </tr>\n",
       "    <tr>\n",
       "      <th>GO:0019033</th>\n",
       "      <td>0.0780488</td>\n",
       "      <td>8</td>\n",
       "      <td>15</td>\n",
       "      <td>viral tegument</td>\n",
       "      <td>[BMRF1, BGLF4, BPLF1, BFRF2, BKRF4, BRRF2, BLR...</td>\n",
       "      <td>[BMRF1, BGLF4, BRRF2, BLRF2, BBRF2, BALF2, BNR...</td>\n",
       "    </tr>\n",
       "    <tr>\n",
       "      <th>GO:0039686</th>\n",
       "      <td>0.0010759</td>\n",
       "      <td>6</td>\n",
       "      <td>6</td>\n",
       "      <td>bidirectional double-stranded viral DNA replic...</td>\n",
       "      <td>[BMRF1, BALF5, BALF2, BSLF1, BBLF2-BBLF3, BBLF4]</td>\n",
       "      <td>[BMRF1, BALF5, BALF2, BSLF1, BBLF2-BBLF3, BBLF4]</td>\n",
       "    </tr>\n",
       "    <tr>\n",
       "      <th>GO:0003677</th>\n",
       "      <td>0.0716816</td>\n",
       "      <td>6</td>\n",
       "      <td>10</td>\n",
       "      <td>DNA binding</td>\n",
       "      <td>[LMP2, BMRF1, BKRF1, BZLF1, BALF5, BGLF5, BLRF...</td>\n",
       "      <td>[LMP2, BMRF1, BALF5, BGLF5, BLRF2, BRLF1]</td>\n",
       "    </tr>\n",
       "    <tr>\n",
       "      <th>GO:0006260</th>\n",
       "      <td>0.0162321</td>\n",
       "      <td>5</td>\n",
       "      <td>6</td>\n",
       "      <td>DNA replication</td>\n",
       "      <td>[BKRF1, BALF5, BALF2, BaRF1, BORF2, BBLF4]</td>\n",
       "      <td>[BALF5, BALF2, BaRF1, BORF2, BBLF4]</td>\n",
       "    </tr>\n",
       "    <tr>\n",
       "      <th>GO:0016021</th>\n",
       "      <td>0.770239</td>\n",
       "      <td>5</td>\n",
       "      <td>17</td>\n",
       "      <td>integral component of membrane</td>\n",
       "      <td>[LMP2, LMP1, BLLF1, BZLF2, BALF4, BHRF1, BMRF2...</td>\n",
       "      <td>[LMP2, BLLF1, BMRF2, BBRF3, BaRF1]</td>\n",
       "    </tr>\n",
       "    <tr>\n",
       "      <th>GO:0006351</th>\n",
       "      <td>0.299367</td>\n",
       "      <td>5</td>\n",
       "      <td>11</td>\n",
       "      <td>transcription, DNA-templated</td>\n",
       "      <td>[EBNA-LP, LMP2, BYRF1, BMRF1, BKRF1, BZLF1, BM...</td>\n",
       "      <td>[LMP2, BMRF1, BMLF1, EBNA3B, BRLF1]</td>\n",
       "    </tr>\n",
       "    <tr>\n",
       "      <th>GO:0006355</th>\n",
       "      <td>0.144326</td>\n",
       "      <td>5</td>\n",
       "      <td>9</td>\n",
       "      <td>regulation of transcription, DNA-templated</td>\n",
       "      <td>[EBNA-LP, LMP2, BMRF1, BZLF1, BMLF1, EBNA3C, B...</td>\n",
       "      <td>[LMP2, BMRF1, BMLF1, EBNA3B, BRLF1]</td>\n",
       "    </tr>\n",
       "    <tr>\n",
       "      <th>GO:0046872</th>\n",
       "      <td>0.0999069</td>\n",
       "      <td>4</td>\n",
       "      <td>6</td>\n",
       "      <td>metal ion binding</td>\n",
       "      <td>[BMLF1, BLLF3, BFLF2, BSLF1, BaRF1, BALF3]</td>\n",
       "      <td>[BMLF1, BLLF3, BSLF1, BaRF1]</td>\n",
       "    </tr>\n",
       "    <tr>\n",
       "      <th>GO:0030430</th>\n",
       "      <td>0.176242</td>\n",
       "      <td>4</td>\n",
       "      <td>7</td>\n",
       "      <td>host cell cytoplasm</td>\n",
       "      <td>[BdRF1, BPLF1, BMLF1, BGLF5, BLRF2, BGLF2, BFLF1]</td>\n",
       "      <td>[BdRF1, BMLF1, BGLF5, BLRF2]</td>\n",
       "    </tr>\n",
       "    <tr>\n",
       "      <th>GO:0005524</th>\n",
       "      <td>0.215936</td>\n",
       "      <td>3</td>\n",
       "      <td>5</td>\n",
       "      <td>ATP binding</td>\n",
       "      <td>[BGLF4, BXLF1, BORF2, BALF3, BBLF4]</td>\n",
       "      <td>[BGLF4, BORF2, BBLF4]</td>\n",
       "    </tr>\n",
       "    <tr>\n",
       "      <th>GO:0044177</th>\n",
       "      <td>0.448757</td>\n",
       "      <td>3</td>\n",
       "      <td>7</td>\n",
       "      <td>host cell Golgi apparatus</td>\n",
       "      <td>[BBRF3, BLRF1, BBRF2, BKRF2, BOLF1, BSRF1, BXRF1]</td>\n",
       "      <td>[BBRF3, BBRF2, BSRF1]</td>\n",
       "    </tr>\n",
       "    <tr>\n",
       "      <th>GO:0055036</th>\n",
       "      <td>0.735365</td>\n",
       "      <td>3</td>\n",
       "      <td>10</td>\n",
       "      <td>virion membrane</td>\n",
       "      <td>[BLLF1, BZLF2, BALF4, BMRF2, BXLF2, BBRF3, BLR...</td>\n",
       "      <td>[BLLF1, BMRF2, BBRF3]</td>\n",
       "    </tr>\n",
       "    <tr>\n",
       "      <th>GO:0019046</th>\n",
       "      <td>0.215936</td>\n",
       "      <td>3</td>\n",
       "      <td>5</td>\n",
       "      <td>release from viral latency</td>\n",
       "      <td>[BZLF1, BRRF1, BaRF1, BORF2, BRLF1]</td>\n",
       "      <td>[BaRF1, BORF2, BRLF1]</td>\n",
       "    </tr>\n",
       "    <tr>\n",
       "      <th>GO:0006323</th>\n",
       "      <td>0.0369919</td>\n",
       "      <td>3</td>\n",
       "      <td>3</td>\n",
       "      <td>DNA packaging</td>\n",
       "      <td>[LMP2, LMP2, BGLF1]</td>\n",
       "      <td>[LMP2, LMP2, BGLF1]</td>\n",
       "    </tr>\n",
       "    <tr>\n",
       "      <th>GO:0004748</th>\n",
       "      <td>0.113821</td>\n",
       "      <td>2</td>\n",
       "      <td>2</td>\n",
       "      <td>ribonucleoside-diphosphate reductase activity...</td>\n",
       "      <td>[BaRF1, BORF2]</td>\n",
       "      <td>[BaRF1, BORF2]</td>\n",
       "    </tr>\n",
       "    <tr>\n",
       "      <th>GO:0046718</th>\n",
       "      <td>0.26748</td>\n",
       "      <td>2</td>\n",
       "      <td>3</td>\n",
       "      <td>viral entry into host cell</td>\n",
       "      <td>[BALF4, BMRF2, BVRF1]</td>\n",
       "      <td>[BMRF2, BVRF1]</td>\n",
       "    </tr>\n",
       "    <tr>\n",
       "      <th>GO:0020002</th>\n",
       "      <td>0.831677</td>\n",
       "      <td>2</td>\n",
       "      <td>8</td>\n",
       "      <td>host cell plasma membrane</td>\n",
       "      <td>[LMP2, LMP1, BALF4, BMRF2, BXLF2, BILF1, BBLF1...</td>\n",
       "      <td>[LMP2, BMRF2]</td>\n",
       "    </tr>\n",
       "    <tr>\n",
       "      <th>GO:0019031</th>\n",
       "      <td>0.831677</td>\n",
       "      <td>2</td>\n",
       "      <td>8</td>\n",
       "      <td>viral envelope</td>\n",
       "      <td>[BLLF1, BALF4, BXLF2, BBRF3, BLRF1, BDLF2, BKR...</td>\n",
       "      <td>[BLLF1, BBRF3]</td>\n",
       "    </tr>\n",
       "    <tr>\n",
       "      <th>GO:0004527</th>\n",
       "      <td>0.113821</td>\n",
       "      <td>2</td>\n",
       "      <td>2</td>\n",
       "      <td>exonuclease activity</td>\n",
       "      <td>[BALF5, BGLF5]</td>\n",
       "      <td>[BALF5, BGLF5]</td>\n",
       "    </tr>\n",
       "    <tr>\n",
       "      <th>GO:0019028</th>\n",
       "      <td>0.559561</td>\n",
       "      <td>2</td>\n",
       "      <td>5</td>\n",
       "      <td>viral capsid</td>\n",
       "      <td>[BGLF1, BVRF1, BFRF3, BORF1, BDLF1]</td>\n",
       "      <td>[BGLF1, BVRF1]</td>\n",
       "    </tr>\n",
       "    <tr>\n",
       "      <th>GO:0033644</th>\n",
       "      <td>0.673358</td>\n",
       "      <td>2</td>\n",
       "      <td>6</td>\n",
       "      <td>host cell membrane</td>\n",
       "      <td>[LMP1, BLLF1, BZLF2, BHRF1, BLRF1, BaRF1]</td>\n",
       "      <td>[BLLF1, BaRF1]</td>\n",
       "    </tr>\n",
       "    <tr>\n",
       "      <th>GO:0003723</th>\n",
       "      <td>0.113821</td>\n",
       "      <td>2</td>\n",
       "      <td>2</td>\n",
       "      <td>RNA binding</td>\n",
       "      <td>[BMLF1, BGLF5]</td>\n",
       "      <td>[BMLF1, BGLF5]</td>\n",
       "    </tr>\n",
       "  </tbody>\n",
       "</table>\n",
       "</div>"
      ],
      "text/plain": [
       "                  pval hits marginal_go  \\\n",
       "go                                        \n",
       "GO:0042025  0.00939659   16          31   \n",
       "GO:0019033   0.0780488    8          15   \n",
       "GO:0039686   0.0010759    6           6   \n",
       "GO:0003677   0.0716816    6          10   \n",
       "GO:0006260   0.0162321    5           6   \n",
       "GO:0016021    0.770239    5          17   \n",
       "GO:0006351    0.299367    5          11   \n",
       "GO:0006355    0.144326    5           9   \n",
       "GO:0046872   0.0999069    4           6   \n",
       "GO:0030430    0.176242    4           7   \n",
       "GO:0005524    0.215936    3           5   \n",
       "GO:0044177    0.448757    3           7   \n",
       "GO:0055036    0.735365    3          10   \n",
       "GO:0019046    0.215936    3           5   \n",
       "GO:0006323   0.0369919    3           3   \n",
       "GO:0004748    0.113821    2           2   \n",
       "GO:0046718     0.26748    2           3   \n",
       "GO:0020002    0.831677    2           8   \n",
       "GO:0019031    0.831677    2           8   \n",
       "GO:0004527    0.113821    2           2   \n",
       "GO:0019028    0.559561    2           5   \n",
       "GO:0033644    0.673358    2           6   \n",
       "GO:0003723    0.113821    2           2   \n",
       "\n",
       "                                                  description  \\\n",
       "go                                                              \n",
       "GO:0042025                                  host cell nucleus   \n",
       "GO:0019033                                     viral tegument   \n",
       "GO:0039686  bidirectional double-stranded viral DNA replic...   \n",
       "GO:0003677                                        DNA binding   \n",
       "GO:0006260                                    DNA replication   \n",
       "GO:0016021                     integral component of membrane   \n",
       "GO:0006351                       transcription, DNA-templated   \n",
       "GO:0006355         regulation of transcription, DNA-templated   \n",
       "GO:0046872                                  metal ion binding   \n",
       "GO:0030430                                host cell cytoplasm   \n",
       "GO:0005524                                        ATP binding   \n",
       "GO:0044177                          host cell Golgi apparatus   \n",
       "GO:0055036                                    virion membrane   \n",
       "GO:0019046                         release from viral latency   \n",
       "GO:0006323                                      DNA packaging   \n",
       "GO:0004748   ribonucleoside-diphosphate reductase activity...   \n",
       "GO:0046718                         viral entry into host cell   \n",
       "GO:0020002                          host cell plasma membrane   \n",
       "GO:0019031                                     viral envelope   \n",
       "GO:0004527                               exonuclease activity   \n",
       "GO:0019028                                       viral capsid   \n",
       "GO:0033644                                 host cell membrane   \n",
       "GO:0003723                                        RNA binding   \n",
       "\n",
       "                                                        genes  \\\n",
       "go                                                              \n",
       "GO:0042025  [EBNA-LP, LMP2, LMP2, BYRF1, BMRF1, BKRF1, BdR...   \n",
       "GO:0019033  [BMRF1, BGLF4, BPLF1, BFRF2, BKRF4, BRRF2, BLR...   \n",
       "GO:0039686   [BMRF1, BALF5, BALF2, BSLF1, BBLF2-BBLF3, BBLF4]   \n",
       "GO:0003677  [LMP2, BMRF1, BKRF1, BZLF1, BALF5, BGLF5, BLRF...   \n",
       "GO:0006260         [BKRF1, BALF5, BALF2, BaRF1, BORF2, BBLF4]   \n",
       "GO:0016021  [LMP2, LMP1, BLLF1, BZLF2, BALF4, BHRF1, BMRF2...   \n",
       "GO:0006351  [EBNA-LP, LMP2, BYRF1, BMRF1, BKRF1, BZLF1, BM...   \n",
       "GO:0006355  [EBNA-LP, LMP2, BMRF1, BZLF1, BMLF1, EBNA3C, B...   \n",
       "GO:0046872         [BMLF1, BLLF3, BFLF2, BSLF1, BaRF1, BALF3]   \n",
       "GO:0030430  [BdRF1, BPLF1, BMLF1, BGLF5, BLRF2, BGLF2, BFLF1]   \n",
       "GO:0005524                [BGLF4, BXLF1, BORF2, BALF3, BBLF4]   \n",
       "GO:0044177  [BBRF3, BLRF1, BBRF2, BKRF2, BOLF1, BSRF1, BXRF1]   \n",
       "GO:0055036  [BLLF1, BZLF2, BALF4, BMRF2, BXLF2, BBRF3, BLR...   \n",
       "GO:0019046                [BZLF1, BRRF1, BaRF1, BORF2, BRLF1]   \n",
       "GO:0006323                                [LMP2, LMP2, BGLF1]   \n",
       "GO:0004748                                     [BaRF1, BORF2]   \n",
       "GO:0046718                              [BALF4, BMRF2, BVRF1]   \n",
       "GO:0020002  [LMP2, LMP1, BALF4, BMRF2, BXLF2, BILF1, BBLF1...   \n",
       "GO:0019031  [BLLF1, BALF4, BXLF2, BBRF3, BLRF1, BDLF2, BKR...   \n",
       "GO:0004527                                     [BALF5, BGLF5]   \n",
       "GO:0019028                [BGLF1, BVRF1, BFRF3, BORF1, BDLF1]   \n",
       "GO:0033644          [LMP1, BLLF1, BZLF2, BHRF1, BLRF1, BaRF1]   \n",
       "GO:0003723                                     [BMLF1, BGLF5]   \n",
       "\n",
       "                                                     included  \n",
       "go                                                             \n",
       "GO:0042025  [LMP2, LMP2, BMRF1, BdRF1, BGLF4, BMLF1, BALF5...  \n",
       "GO:0019033  [BMRF1, BGLF4, BRRF2, BLRF2, BBRF2, BALF2, BNR...  \n",
       "GO:0039686   [BMRF1, BALF5, BALF2, BSLF1, BBLF2-BBLF3, BBLF4]  \n",
       "GO:0003677          [LMP2, BMRF1, BALF5, BGLF5, BLRF2, BRLF1]  \n",
       "GO:0006260                [BALF5, BALF2, BaRF1, BORF2, BBLF4]  \n",
       "GO:0016021                 [LMP2, BLLF1, BMRF2, BBRF3, BaRF1]  \n",
       "GO:0006351                [LMP2, BMRF1, BMLF1, EBNA3B, BRLF1]  \n",
       "GO:0006355                [LMP2, BMRF1, BMLF1, EBNA3B, BRLF1]  \n",
       "GO:0046872                       [BMLF1, BLLF3, BSLF1, BaRF1]  \n",
       "GO:0030430                       [BdRF1, BMLF1, BGLF5, BLRF2]  \n",
       "GO:0005524                              [BGLF4, BORF2, BBLF4]  \n",
       "GO:0044177                              [BBRF3, BBRF2, BSRF1]  \n",
       "GO:0055036                              [BLLF1, BMRF2, BBRF3]  \n",
       "GO:0019046                              [BaRF1, BORF2, BRLF1]  \n",
       "GO:0006323                                [LMP2, LMP2, BGLF1]  \n",
       "GO:0004748                                     [BaRF1, BORF2]  \n",
       "GO:0046718                                     [BMRF2, BVRF1]  \n",
       "GO:0020002                                      [LMP2, BMRF2]  \n",
       "GO:0019031                                     [BLLF1, BBRF3]  \n",
       "GO:0004527                                     [BALF5, BGLF5]  \n",
       "GO:0019028                                     [BGLF1, BVRF1]  \n",
       "GO:0033644                                     [BLLF1, BaRF1]  \n",
       "GO:0003723                                     [BMLF1, BGLF5]  "
      ]
     },
     "execution_count": 219,
     "metadata": {},
     "output_type": "execute_result"
    }
   ],
   "source": [
    "rr = pd.concat([fish.sort_values(by=['hits'],ascending = False),included],axis = 1)\n",
    "rr[rr.hits>1]"
   ]
  },
  {
   "cell_type": "code",
   "execution_count": null,
   "metadata": {},
   "outputs": [],
   "source": []
  },
  {
   "cell_type": "code",
   "execution_count": null,
   "metadata": {},
   "outputs": [],
   "source": []
  },
  {
   "cell_type": "code",
   "execution_count": null,
   "metadata": {},
   "outputs": [],
   "source": []
  },
  {
   "cell_type": "code",
   "execution_count": null,
   "metadata": {},
   "outputs": [],
   "source": []
  },
  {
   "cell_type": "code",
   "execution_count": 70,
   "metadata": {},
   "outputs": [],
   "source": [
    "fish.to_csv('/home/ariel/Projects/Gutierrez/EBV-recomb/recomb/GOanalysis/fisher_test.tsv',sep ='\\t',index = True)"
   ]
  },
  {
   "cell_type": "code",
   "execution_count": 24,
   "metadata": {},
   "outputs": [],
   "source": [
    "#for i in range(52):\n",
    "#    print godict[top_goes.index[i]]\n",
    "    "
   ]
  },
  {
   "cell_type": "code",
   "execution_count": 25,
   "metadata": {},
   "outputs": [
    {
     "data": {
      "text/html": [
       "<div>\n",
       "<style>\n",
       "    .dataframe thead tr:only-child th {\n",
       "        text-align: right;\n",
       "    }\n",
       "\n",
       "    .dataframe thead th {\n",
       "        text-align: left;\n",
       "    }\n",
       "\n",
       "    .dataframe tbody tr th {\n",
       "        vertical-align: top;\n",
       "    }\n",
       "</style>\n",
       "<table border=\"1\" class=\"dataframe\">\n",
       "  <thead>\n",
       "    <tr style=\"text-align: right;\">\n",
       "      <th></th>\n",
       "      <th>def</th>\n",
       "      <th>goid</th>\n",
       "    </tr>\n",
       "  </thead>\n",
       "  <tbody>\n",
       "    <tr>\n",
       "      <th>129</th>\n",
       "      <td>base-excision repair</td>\n",
       "      <td>GO:0006284</td>\n",
       "    </tr>\n",
       "  </tbody>\n",
       "</table>\n",
       "</div>"
      ],
      "text/plain": [
       "                       def        goid\n",
       "129   base-excision repair  GO:0006284"
      ]
     },
     "execution_count": 25,
     "metadata": {},
     "output_type": "execute_result"
    }
   ],
   "source": [
    "ddefs[ddefs['def'].str.contains('repair')]"
   ]
  },
  {
   "cell_type": "code",
   "execution_count": 26,
   "metadata": {},
   "outputs": [
    {
     "data": {
      "text/plain": [
       "72    BKRF3\n",
       "Name: Symbol, dtype: object"
      ]
     },
     "execution_count": 26,
     "metadata": {},
     "output_type": "execute_result"
    }
   ],
   "source": [
    "merged[merged['Gene ontology IDs'].str.contains('GO:0006284').fillna(False)].Symbol"
   ]
  },
  {
   "cell_type": "code",
   "execution_count": 39,
   "metadata": {},
   "outputs": [],
   "source": [
    "#gobackground.rename(columns ={'Cross-reference (GeneID)':'GeneID'},inplace = True)"
   ]
  },
  {
   "cell_type": "code",
   "execution_count": 56,
   "metadata": {},
   "outputs": [
    {
     "data": {
      "text/plain": [
       "Index([u'Entry', u'Entry name', u'Status', u'Protein names', u'Length',\n",
       "       u'Gene ontology (biological process)',\n",
       "       u'Gene ontology (cellular component)',\n",
       "       u'Gene ontology (molecular function)', u'Gene ontology IDs',\n",
       "       u'Gene ontology (GO)', u'Gene names', u'Cross-reference (GeneID)',\n",
       "       u'GeneID'],\n",
       "      dtype='object')"
      ]
     },
     "execution_count": 56,
     "metadata": {},
     "output_type": "execute_result"
    }
   ],
   "source": [
    "gobackground.columns"
   ]
  },
  {
   "cell_type": "code",
   "execution_count": 67,
   "metadata": {},
   "outputs": [],
   "source": [
    "#gobackground.GeneID.str.split(',')"
   ]
  },
  {
   "cell_type": "code",
   "execution_count": 109,
   "metadata": {},
   "outputs": [
    {
     "data": {
      "text/html": [
       "<div>\n",
       "<style>\n",
       "    .dataframe thead tr:only-child th {\n",
       "        text-align: right;\n",
       "    }\n",
       "\n",
       "    .dataframe thead th {\n",
       "        text-align: left;\n",
       "    }\n",
       "\n",
       "    .dataframe tbody tr th {\n",
       "        vertical-align: top;\n",
       "    }\n",
       "</style>\n",
       "<table border=\"1\" class=\"dataframe\">\n",
       "  <thead>\n",
       "    <tr style=\"text-align: right;\">\n",
       "      <th></th>\n",
       "      <th>Entry</th>\n",
       "      <th>Entry name</th>\n",
       "      <th>Status</th>\n",
       "      <th>Protein names</th>\n",
       "      <th>Length</th>\n",
       "      <th>Gene ontology (biological process)</th>\n",
       "      <th>Gene ontology (cellular component)</th>\n",
       "      <th>Gene ontology (molecular function)</th>\n",
       "      <th>Gene ontology IDs</th>\n",
       "      <th>Gene ontology (GO)</th>\n",
       "      <th>...</th>\n",
       "      <th>other_designations</th>\n",
       "      <th>map_location</th>\n",
       "      <th>chromosome</th>\n",
       "      <th>genomic_nucleotide_accession.version</th>\n",
       "      <th>start_position_on_the_genomic_accession</th>\n",
       "      <th>end_position_on_the_genomic_accession</th>\n",
       "      <th>orientation</th>\n",
       "      <th>exon_count</th>\n",
       "      <th>OMIM</th>\n",
       "      <th>Unnamed: 17</th>\n",
       "    </tr>\n",
       "  </thead>\n",
       "  <tbody>\n",
       "    <tr>\n",
       "      <th>23</th>\n",
       "      <td>P03192</td>\n",
       "      <td>BMRF2_EBVB9</td>\n",
       "      <td>reviewed</td>\n",
       "      <td>Protein BMRF2</td>\n",
       "      <td>357</td>\n",
       "      <td>viral entry into host cell [GO:0046718]; virio...</td>\n",
       "      <td>host cell plasma membrane [GO:0020002]; integr...</td>\n",
       "      <td>NaN</td>\n",
       "      <td>GO:0016021; GO:0019062; GO:0020002; GO:0046718...</td>\n",
       "      <td>host cell plasma membrane [GO:0020002]; integr...</td>\n",
       "      <td>...</td>\n",
       "      <td>NaN</td>\n",
       "      <td>NaN</td>\n",
       "      <td>NaN</td>\n",
       "      <td>NC_007605.1</td>\n",
       "      <td>68491.0</td>\n",
       "      <td>69903.0</td>\n",
       "      <td>plus</td>\n",
       "      <td>0.0</td>\n",
       "      <td>NaN</td>\n",
       "      <td>NaN</td>\n",
       "    </tr>\n",
       "  </tbody>\n",
       "</table>\n",
       "<p>1 rows × 29 columns</p>\n",
       "</div>"
      ],
      "text/plain": [
       "     Entry   Entry name    Status  Protein names  Length  \\\n",
       "23  P03192  BMRF2_EBVB9  reviewed  Protein BMRF2     357   \n",
       "\n",
       "                   Gene ontology (biological process)  \\\n",
       "23  viral entry into host cell [GO:0046718]; virio...   \n",
       "\n",
       "                   Gene ontology (cellular component)  \\\n",
       "23  host cell plasma membrane [GO:0020002]; integr...   \n",
       "\n",
       "   Gene ontology (molecular function)  \\\n",
       "23                                NaN   \n",
       "\n",
       "                                    Gene ontology IDs  \\\n",
       "23  GO:0016021; GO:0019062; GO:0020002; GO:0046718...   \n",
       "\n",
       "                                   Gene ontology (GO)     ...      \\\n",
       "23  host cell plasma membrane [GO:0020002]; integr...     ...       \n",
       "\n",
       "   other_designations map_location  chromosome  \\\n",
       "23                NaN          NaN         NaN   \n",
       "\n",
       "    genomic_nucleotide_accession.version  \\\n",
       "23                           NC_007605.1   \n",
       "\n",
       "   start_position_on_the_genomic_accession  \\\n",
       "23                                 68491.0   \n",
       "\n",
       "    end_position_on_the_genomic_accession orientation exon_count OMIM  \\\n",
       "23                                69903.0        plus        0.0  NaN   \n",
       "\n",
       "   Unnamed: 17  \n",
       "23         NaN  \n",
       "\n",
       "[1 rows x 29 columns]"
      ]
     },
     "execution_count": 109,
     "metadata": {},
     "output_type": "execute_result"
    }
   ],
   "source": [
    "merged[merged.Symbol.isin(['BMRF2'])]"
   ]
  },
  {
   "cell_type": "code",
   "execution_count": null,
   "metadata": {},
   "outputs": [],
   "source": []
  }
 ],
 "metadata": {
  "kernelspec": {
   "display_name": "Python 2",
   "language": "python",
   "name": "python2"
  },
  "language_info": {
   "codemirror_mode": {
    "name": "ipython",
    "version": 2
   },
   "file_extension": ".py",
   "mimetype": "text/x-python",
   "name": "python",
   "nbconvert_exporter": "python",
   "pygments_lexer": "ipython2",
   "version": "2.7.12"
  }
 },
 "nbformat": 4,
 "nbformat_minor": 2
}
