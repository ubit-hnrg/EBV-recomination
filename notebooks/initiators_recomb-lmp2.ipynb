{
 "cells": [
  {
   "cell_type": "code",
   "execution_count": 1,
   "metadata": {},
   "outputs": [],
   "source": [
    "from Bio.Seq import Seq\n",
    "from Bio import SeqIO\n",
    "import numpy as np\n",
    "from operator import itemgetter\n",
    "import re\n",
    "import pandas as pd\n",
    "import seaborn as sns\n",
    "from matplotlib import pyplot as plt\n",
    "\n",
    "brown_repeats = ['TGGTGG','CCTCCCCT','TGGAG','AGGAG','CCCAG','GGGCT']\n",
    "inverted_repeats_file = '/data/EBV/repeat_regions/inverted_positions_with_complemented.txt'\n",
    "file_path = '/data/EBV/byACCIDs/NC_007605.fasta'\n",
    "mapfile = '/data/EBV/msas/ids_171_ebv/ids_171_ebv_msa_gap1.51.fa_whole_mapping.file'\n",
    "outpath = '/home/ariel/Projects/Gutierrez/EBV-recomb/recomb/rdp4_results/ids_171_ebv/10Miter/results/'\n",
    "genbank_ref_file = '/data/EBV/byACCIDs/genBankRecord_NC_007605.gb'\n",
    "whole_recom_rate = '/home/ariel/Projects/Gutierrez/EBV-recomb/recomb/rdp4_results/ids_171_ebv/10Miter/whole_10Miters.tsv'\n",
    "gene_coords_file = '/data/EBV/by_gene/gene_result_lmp2.csv'\n",
    "\n",
    "def get_items(d,keylist):\n",
    "    return itemgetter(*keylist)(d)\n",
    "\n",
    "\n",
    "def search_fasta(pattern, file_path):\n",
    "    st = []\n",
    "    end = []\n",
    "    pat =[]\n",
    "    reverse = str(Seq(pattern).reverse_complement())\n",
    "    \n",
    "    for patt in [pattern,reverse]:\n",
    "        for record in SeqIO.parse(open(file_path, \"rU\"), \"fasta\"):\n",
    "            chrom = record.id\n",
    "            for match in re.finditer(patt, str(record.seq)):\n",
    "                start_pos = match.start() + 1\n",
    "                end_pos = match.end() + 1\n",
    "                st.append(start_pos)\n",
    "                end.append(end_pos)\n",
    "                pat.append(patt)\n",
    "    df = pd.DataFrame({'st':st,'end':end,'pattern':pat,'call':pattern})\n",
    "    df = df[['st','end','pattern','call']]\n",
    "    df.sort_values(by=['st'],inplace = True)\n",
    "    \n",
    "    return(df)\n",
    "\n",
    "\n",
    "def compute_local_obs(rrate,r1,r2):\n",
    "    return(rrate[r1:r2].apply(np.mean))\n",
    "\n",
    "\n",
    "# requiere map_dict  (reference vs trimed aligment mapping)\n",
    "# require rrate: dataframe containing stimated recombination rate in whole genome. Its index must be a trimed position. \n",
    "# this function require a dataframe indicating regions with two coordinates columns indicating position in reference genome!\n",
    "# output: tuple (same dataframe plus mapped columns, rho series)\n",
    "def mapp_and_compute_rho(df,start_col = 'st',end_col = 'end'):\n",
    "    df = df.dropna(subset=[start_col,end_col])\n",
    "    start_aux = [x if x in mapp_dict.keys() else (x +1 ) for x in df[start_col].values]\n",
    "    end_aux = [x if x in mapp_dict.keys() else (x -1 ) for x in df[end_col].values]\n",
    "\n",
    "\n",
    "    df['trimmed_st'] = get_items(mapp_dict,start_aux)\n",
    "    df['trimmed_end'] = get_items(mapp_dict,end_aux)\n",
    "\n",
    "    computed_rates = df.apply(lambda x: pd.concat([x,compute_local_obs(rrate,r1 = x.trimmed_st,r2 = x.trimmed_end)]),axis =1)\n",
    "    return df,computed_rates\n",
    "\n",
    "\n",
    "\n",
    "# this function allow us to extract complete list of features of each desidered region\n",
    "#repeat_region = complete_features(tipo ='repeat_region' ,n=len(tipo))\n",
    "#seq_record  must be a Sequence load from a genbank file\n",
    "\n",
    "def complete_features(seq_record, TIPO='regulatory',n=5 ):\n",
    "    ttyp = []\n",
    "    loc = []\n",
    "    get = []\n",
    "    pos = []\n",
    "    for feature in seq_record.features:\n",
    "        ttyp.append(feature.type)\n",
    "\n",
    "        if TIPO[0:n] in feature.type:\n",
    "            get.append({k: feature.qualifiers[k][0] for k in feature.qualifiers.keys()})\n",
    "\n",
    "            partes = []\n",
    "            for p in feature.location.parts:\n",
    "                partes.append(pd.Series([p.start.position,p.end.position]))\n",
    "            positions = pd.concat(partes,1).transpose()    \n",
    "            positions.columns = ['start','end']\n",
    "            pos.append(positions)        #print feature\n",
    "\n",
    "    get = pd.DataFrame(get)        \n",
    "    pos = pd.concat(pos)\n",
    "\n",
    "#    return(get,pos)\n",
    "\n",
    "    pos.index = get.index\n",
    "    get_features = pd.concat([get,pos],1)\n",
    "        \n",
    "    return(get_features)\n",
    "\n",
    "\n",
    "def pos_to_trim(p):\n",
    "    if type(p) in [int,float,numpy.int64] :\n",
    "        tr = [x if x in mapp_dict.keys() else (x -1 ) for x in [p]]\n",
    "    else:\n",
    "        tr = [x if x in mapp_dict.keys() else (x -1 ) for x in p]\n",
    "    return(get_items(mapp_dict,tr))\n",
    "\n",
    "\n",
    "####### map for all downstream analysis####\n",
    "###########################################\n",
    "mapp = pd.read_csv(mapfile,sep = '|')\n",
    "mapp_dict = mapp[['refCoord','trimmedCoord']]\n",
    "\n",
    "rrate = pd.read_csv(whole_recom_rate,sep = '|')\n",
    "rrate.set_index(['trimmed_position'],inplace = True)\n",
    "\n",
    "mapp_dict =  {}\n",
    "refcoords = mapp.loc[:,'refCoord']\n",
    "trimcoords = mapp.loc[:,'trimmedCoord']\n",
    "for i in range(mapp.shape[0]):\n",
    "    mapp_dict.update({refcoords[i]:trimcoords[i]})\n",
    "\n",
    "\n",
    "    \n",
    "def look_for_gene(position,gene_coords):\n",
    "    res = gene_coords[(position> gene_coords.start_position_on_the_genomic_accession) & (position<gene_coords.end_position_on_the_genomic_accession)]\n",
    "    m = res[['Symbol','gen_len']].drop_duplicates()\n",
    "    m.sort_values(by=['gen_len'],ascending = True)\n",
    "    if m.shape[0]>0:\n",
    "        return(m.Symbol[0])\n",
    "    else:\n",
    "        return('intr')\n",
    "    "
   ]
  },
  {
   "cell_type": "code",
   "execution_count": 2,
   "metadata": {},
   "outputs": [],
   "source": [
    "#df provide start- end positions\n",
    "def compute_gap(df,start_col='st',end_col='end',window = 200):\n",
    "    mmax = mapp.refCoord.max()\n",
    "    col ='Mean Rho/bp.'\n",
    "    start_aux = [x if x in mapp_dict.keys() else (x +1 ) for x in df[start_col].values]\n",
    "    end_aux = [x if x in mapp_dict.keys() else (x -1 ) for x  in df[end_col].values]\n",
    "    trimmed_start = get_items(mapp_dict,start_aux)\n",
    "    trimmed_end = get_items(mapp_dict,end_aux)\n",
    "\n",
    "    start_gap = [x-window if x-window in mapp_dict.keys() else (x -window +1 ) for x in df[start_col].values]\n",
    "    end_gap = [x +window if x+window in mapp_dict.keys() else (x +window -1 ) for x in df[end_col].values]\n",
    "    end_gap = [x if (x <= mmax) else mmax for x in end_gap]\n",
    "    \n",
    "    trimmed_start_gap = get_items(mapp_dict,start_gap)\n",
    "    trimmed_end_gap = get_items(mapp_dict,end_gap)\n",
    "    \n",
    "    \n",
    "    df['trimmed_st'] = trimmed_start\n",
    "    df['trimmed_end'] = trimmed_end\n",
    "\n",
    "    df['trimmed_st_gap'] = trimmed_start_gap\n",
    "    df['trimmed_end_gap'] = trimmed_end_gap\n",
    "\n",
    "    rate_prev = df.apply(lambda x: pd.concat([x,compute_local_obs(rrate,r1 = x.trimmed_st_gap,r2 = x.trimmed_st)]),axis =1)\n",
    "    rate_post = df.apply(lambda x: pd.concat([x,compute_local_obs(rrate,r1 = x.trimmed_end,r2 = x.trimmed_end_gap)]),axis =1)\n",
    "    \n",
    "    \n",
    "    return(pd.merge(rate_prev[[start_col,end_col,'call',col]],rate_post[col].to_frame(),right_index = True,\n",
    "                    left_index = True,suffixes=['_left','_right']))\n",
    "    \n",
    "    #rate_prev[col].fillna(0,inplace = True)\n",
    "    #rate_post[col].fillna(0,inplace = True)\n",
    "    #rate_prev['diff'] = rate_prev[col]-rate_post[col]\n",
    "    #rate_prev['gap_perc'] = (rate_post[col]-rate_prev[col])/np.min([rate_prev[col],rate_post[col]])\n",
    "    \n",
    "    #return(rate_prev[[start_col,end_col,'call','']])\n",
    "    \n",
    "    #:pos_to_trim(repeat_postions.end[0])]"
   ]
  },
  {
   "cell_type": "code",
   "execution_count": 47,
   "metadata": {},
   "outputs": [
    {
     "name": "stdout",
     "output_type": "stream",
     "text": [
      "analyzing Brown motifs\n"
     ]
    }
   ],
   "source": [
    "%matplotlib inline\n",
    "\n",
    "print 'analyzing Brown motifs'\n",
    "positions = {}\n",
    "for br_rep in brown_repeats:\n",
    "    df = search_fasta(br_rep,file_path)\n",
    "    positions.update({br_rep:df})\n",
    "    \n",
    "repeat_postions = pd.concat(positions)\n",
    "\n",
    "\n",
    "####### compute gaps (jumps) arround brown motifs\n",
    "gaps = compute_gap(repeat_postions,window=10)\n",
    "gaps2 = gaps.copy()\n",
    "mmin = gaps[['Mean Rho/bp._left','Mean Rho/bp._right']].apply(lambda x: np.nanmin(x)).min()\n",
    "gaps2['Mean Rho/bp._left'].fillna(mmin,inplace = True)\n",
    "gaps2['Mean Rho/bp._right'].fillna(mmin,inplace = True)\n",
    "\n",
    "gaps2['diff'] =gaps2['Mean Rho/bp._right']-gaps2['Mean Rho/bp._left']\n",
    "\n",
    "gaps2['gap'] =gaps2.apply(lambda x:\n",
    "                          (x['Mean Rho/bp._right']-x['Mean Rho/bp._left'])/np.min([x['Mean Rho/bp._right'],x['Mean Rho/bp._left']]),1)\n",
    "\n"
   ]
  },
  {
   "cell_type": "code",
   "execution_count": 4,
   "metadata": {},
   "outputs": [],
   "source": [
    "#gaps2[(gaps2.st>70000)&(gaps2.gap>500)]"
   ]
  },
  {
   "cell_type": "code",
   "execution_count": 4,
   "metadata": {},
   "outputs": [
    {
     "data": {
      "image/png": "[encoded data removed]",
      "text/plain": [
       "<matplotlib.figure.Figure at 0x7f15fcc0c290>"
      ]
     },
     "metadata": {},
     "output_type": "display_data"
    }
   ],
   "source": [
    "gaps2[['diff']].hist(bins = 500)\n",
    "plt.xlim([-1,1])\n",
    "plt.yscale('log')\n",
    "#plt.xscale('symlog')"
   ]
  },
  {
   "cell_type": "code",
   "execution_count": 5,
   "metadata": {},
   "outputs": [],
   "source": [
    "### prepare random 5 mers\n",
    "kmer = 5\n",
    "rand_gap_windows = 10\n",
    "np.random.seed(123)\n",
    "rand = np.random.choice(np.arange(mapp.refCoord.max()-(2*rand_gap_windows+2))+rand_gap_windows,1000,replace=False)\n",
    "rand.sort()\n",
    "\n",
    "rand_df = pd.DataFrame({'st':rand,'end':rand+kmer})\n",
    "rand_df['call'] = 'random'\n",
    "\n",
    "\n",
    "## get a null hipotesys for those gaps\n",
    "randgaps = compute_gap(rand_df,window = rand_gap_windows)\n",
    "randgaps2 = randgaps.copy()\n",
    "mmin = randgaps[['Mean Rho/bp._left','Mean Rho/bp._right']].apply(lambda x: np.nanmin(x)).min()\n",
    "randgaps2['Mean Rho/bp._left'].fillna(mmin,inplace = True)\n",
    "randgaps2['Mean Rho/bp._right'].fillna(mmin,inplace = True)\n",
    "\n",
    "randgaps2['diff'] =randgaps2['Mean Rho/bp._right']-randgaps2['Mean Rho/bp._left']\n",
    "\n",
    "randgaps2['gap'] =randgaps2.apply(lambda x:\n",
    "                          (x['Mean Rho/bp._right']-x['Mean Rho/bp._left'])/np.min([x['Mean Rho/bp._right'],x['Mean Rho/bp._left']]),1)\n",
    "\n"
   ]
  },
  {
   "cell_type": "code",
   "execution_count": 6,
   "metadata": {},
   "outputs": [
    {
     "data": {
      "image/png": "[encoded data removed]",
      "text/plain": [
       "<matplotlib.figure.Figure at 0x7f15c821a810>"
      ]
     },
     "metadata": {},
     "output_type": "display_data"
    }
   ],
   "source": [
    "randgaps2[['diff']].hist(bins = 500)\n",
    "\n",
    "plt.xlim([-1,1])\n",
    "plt.yscale('log')"
   ]
  },
  {
   "cell_type": "code",
   "execution_count": 7,
   "metadata": {},
   "outputs": [
    {
     "name": "stderr",
     "output_type": "stream",
     "text": [
      "/usr/local/lib/python2.7/dist-packages/ipykernel_launcher.py:6: SettingWithCopyWarning: \n",
      "A value is trying to be set on a copy of a slice from a DataFrame.\n",
      "Try using .loc[row_indexer,col_indexer] = value instead\n",
      "\n",
      "See the caveats in the documentation: http://pandas.pydata.org/pandas-docs/stable/indexing.html#indexing-view-versus-copy\n",
      "  \n"
     ]
    }
   ],
   "source": [
    "gene_coords = pd.read_csv(gene_coords_file,sep = '\\t')\n",
    "gene_coords['gen_len']= gene_coords['end_position_on_the_genomic_accession'] - gene_coords['start_position_on_the_genomic_accession']\n",
    "\n",
    "gene_ref_coords = gene_coords[['GeneID','Symbol','Aliases','start_position_on_the_genomic_accession','end_position_on_the_genomic_accession','gen_len']]\n",
    "gene_ref_coords['rang'] = gene_coords.apply(lambda x: (x.start_position_on_the_genomic_accession,\n",
    "                                                   x.end_position_on_the_genomic_accession),1)\n",
    "gene_ref_coords.set_index(['rang'],inplace = True)\n",
    "\n",
    "gaps3 = gaps2.reset_index()\n",
    "gen_st =gaps3.st.apply(lambda x:np.unique([look_for_gene(position=x,gene_coords=gene_ref_coords[gene_ref_coords.Symbol!='LMP2'])]))\n",
    "gen_end =gaps3.end.apply(lambda x:np.unique([look_for_gene(position=x,gene_coords=gene_ref_coords[gene_ref_coords.Symbol!='LMP2'])]))\n"
   ]
  },
  {
   "cell_type": "code",
   "execution_count": 16,
   "metadata": {},
   "outputs": [
    {
     "data": {
      "text/html": [
       "<div>\n",
       "<style>\n",
       "    .dataframe thead tr:only-child th {\n",
       "        text-align: right;\n",
       "    }\n",
       "\n",
       "    .dataframe thead th {\n",
       "        text-align: left;\n",
       "    }\n",
       "\n",
       "    .dataframe tbody tr th {\n",
       "        vertical-align: top;\n",
       "    }\n",
       "</style>\n",
       "<table border=\"1\" class=\"dataframe\">\n",
       "  <thead>\n",
       "    <tr style=\"text-align: right;\">\n",
       "      <th></th>\n",
       "      <th>GeneID</th>\n",
       "      <th>Symbol</th>\n",
       "      <th>Aliases</th>\n",
       "      <th>start_position_on_the_genomic_accession</th>\n",
       "      <th>end_position_on_the_genomic_accession</th>\n",
       "      <th>gen_len</th>\n",
       "    </tr>\n",
       "    <tr>\n",
       "      <th>rang</th>\n",
       "      <th></th>\n",
       "      <th></th>\n",
       "      <th></th>\n",
       "      <th></th>\n",
       "      <th></th>\n",
       "      <th></th>\n",
       "    </tr>\n",
       "  </thead>\n",
       "  <tbody>\n",
       "    <tr>\n",
       "      <th>(155549.0, 160531.0)</th>\n",
       "      <td>3783676</td>\n",
       "      <td>A73</td>\n",
       "      <td>HHV4_A73</td>\n",
       "      <td>155549.0</td>\n",
       "      <td>160531.0</td>\n",
       "      <td>4982.0</td>\n",
       "    </tr>\n",
       "    <tr>\n",
       "      <th>(164388.0, 165255.0)</th>\n",
       "      <td>3783677</td>\n",
       "      <td>BALF1</td>\n",
       "      <td>NaN</td>\n",
       "      <td>164388.0</td>\n",
       "      <td>165255.0</td>\n",
       "      <td>867.0</td>\n",
       "    </tr>\n",
       "    <tr>\n",
       "      <th>(160550.0, 164356.0)</th>\n",
       "      <td>3783678</td>\n",
       "      <td>BALF2</td>\n",
       "      <td>HHV4_BALF2</td>\n",
       "      <td>160550.0</td>\n",
       "      <td>164356.0</td>\n",
       "      <td>3806.0</td>\n",
       "    </tr>\n",
       "    <tr>\n",
       "      <th>(164979.0, 164984.0)</th>\n",
       "      <td>17494228</td>\n",
       "      <td>BALF2</td>\n",
       "      <td>NaN</td>\n",
       "      <td>164979.0</td>\n",
       "      <td>164984.0</td>\n",
       "      <td>5.0</td>\n",
       "    </tr>\n",
       "    <tr>\n",
       "      <th>(158851.0, 161220.0)</th>\n",
       "      <td>3783679</td>\n",
       "      <td>BALF3</td>\n",
       "      <td>NaN</td>\n",
       "      <td>158851.0</td>\n",
       "      <td>161220.0</td>\n",
       "      <td>2369.0</td>\n",
       "    </tr>\n",
       "  </tbody>\n",
       "</table>\n",
       "</div>"
      ],
      "text/plain": [
       "                        GeneID Symbol     Aliases  \\\n",
       "rang                                                \n",
       "(155549.0, 160531.0)   3783676    A73    HHV4_A73   \n",
       "(164388.0, 165255.0)   3783677  BALF1         NaN   \n",
       "(160550.0, 164356.0)   3783678  BALF2  HHV4_BALF2   \n",
       "(164979.0, 164984.0)  17494228  BALF2         NaN   \n",
       "(158851.0, 161220.0)   3783679  BALF3         NaN   \n",
       "\n",
       "                      start_position_on_the_genomic_accession  \\\n",
       "rang                                                            \n",
       "(155549.0, 160531.0)                                 155549.0   \n",
       "(164388.0, 165255.0)                                 164388.0   \n",
       "(160550.0, 164356.0)                                 160550.0   \n",
       "(164979.0, 164984.0)                                 164979.0   \n",
       "(158851.0, 161220.0)                                 158851.0   \n",
       "\n",
       "                      end_position_on_the_genomic_accession  gen_len  \n",
       "rang                                                                  \n",
       "(155549.0, 160531.0)                               160531.0   4982.0  \n",
       "(164388.0, 165255.0)                               165255.0    867.0  \n",
       "(160550.0, 164356.0)                               164356.0   3806.0  \n",
       "(164979.0, 164984.0)                               164984.0      5.0  \n",
       "(158851.0, 161220.0)                               161220.0   2369.0  "
      ]
     },
     "execution_count": 16,
     "metadata": {},
     "output_type": "execute_result"
    }
   ],
   "source": [
    "gene_ref_coords.head()"
   ]
  },
  {
   "cell_type": "code",
   "execution_count": 8,
   "metadata": {},
   "outputs": [
    {
     "name": "stderr",
     "output_type": "stream",
     "text": [
      "/usr/local/lib/python2.7/dist-packages/ipykernel_launcher.py:7: SettingWithCopyWarning: \n",
      "A value is trying to be set on a copy of a slice from a DataFrame.\n",
      "Try using .loc[row_indexer,col_indexer] = value instead\n",
      "\n",
      "See the caveats in the documentation: http://pandas.pydata.org/pandas-docs/stable/indexing.html#indexing-view-versus-copy\n",
      "  import sys\n"
     ]
    }
   ],
   "source": [
    "### check orientation\n",
    "gene_coords = pd.read_csv(gene_coords_file,sep = '\\t')\n",
    "gene_coords['gen_len']= gene_coords['end_position_on_the_genomic_accession'] - gene_coords['start_position_on_the_genomic_accession']\n",
    "\n",
    "gene_ref_coords = gene_coords[['GeneID','Symbol','Aliases','start_position_on_the_genomic_accession','end_position_on_the_genomic_accession','gen_len']]\n",
    "gene_ref_coords['rang'] = gene_coords.apply(lambda x: (x.start_position_on_the_genomic_accession,\n",
    "                                                   x.end_position_on_the_genomic_accession),1)\n",
    "gene_ref_coords.set_index(['rang'],inplace = True)\n",
    "\n",
    "gaps3 = gaps2.reset_index()\n",
    "#gene =  gaps3.st.apply(lambda x:look_for_gene(position=x,gene_coords=gene_ref_coords[gene_ref_coords.Symbol!='LMP2']))\n",
    "gene =  gaps3.st.apply(lambda x:look_for_gene(position=x,gene_coords=gene_ref_coords))\n",
    "\n",
    "gaps3['GENE'] = gene\n",
    "rep_with_gene = gaps3.copy()\n",
    "\n",
    "#rep_with_gene.GENE.replace({'intr':'LMP2'},inplace = True)\n",
    "\n",
    "rep_with_gene_orient = pd.merge(rep_with_gene,gene_coords[['Symbol','orientation']],left_on=['GENE'],right_on='Symbol',how = 'left').drop(['Symbol'],1)\n",
    "rep_with_gene_plus = rep_with_gene_orient[rep_with_gene_orient.orientation == 'plus']\n",
    "rep_with_gene_minus = rep_with_gene_orient[rep_with_gene_orient.orientation == 'minus']\n",
    "rep_with_gene_intron = rep_with_gene_orient[rep_with_gene_orient.orientation.isnull()]\n",
    "                                   \n",
    "\n",
    "  "
   ]
  },
  {
   "cell_type": "code",
   "execution_count": 9,
   "metadata": {},
   "outputs": [
    {
     "name": "stdout",
     "output_type": "stream",
     "text": [
      "471.325\n",
      "-594.85014881\n"
     ]
    }
   ],
   "source": [
    "right_tresh = randgaps2[['gap']].quantile(0.975)['gap']\n",
    "left_tresh = randgaps2[['gap']].quantile(0.025)['gap']\n",
    "\n",
    "  \n",
    "initiators_PLUS = rep_with_gene_plus[rep_with_gene_plus.gap>right_tresh][['st','end','call','Mean Rho/bp._left','Mean Rho/bp._right','GENE','orientation']]#.value_counts().sort_index()#/rep_with_gene_plus['call'].value_counts()\n",
    "initiators_MINUS = rep_with_gene_minus[rep_with_gene_minus.gap<left_tresh][['st','end','call','Mean Rho/bp._left','Mean Rho/bp._right','GENE','orientation']]#.value_counts()#/rep_with_gene_plus['call'].value_counts()\n",
    "\n",
    "\n",
    "print right_tresh\n",
    "print left_tresh"
   ]
  },
  {
   "cell_type": "code",
   "execution_count": 10,
   "metadata": {},
   "outputs": [
    {
     "data": {
      "text/html": [
       "<div>\n",
       "<style>\n",
       "    .dataframe thead tr:only-child th {\n",
       "        text-align: right;\n",
       "    }\n",
       "\n",
       "    .dataframe thead th {\n",
       "        text-align: left;\n",
       "    }\n",
       "\n",
       "    .dataframe tbody tr th {\n",
       "        vertical-align: top;\n",
       "    }\n",
       "</style>\n",
       "<table border=\"1\" class=\"dataframe\">\n",
       "  <thead>\n",
       "    <tr style=\"text-align: right;\">\n",
       "      <th></th>\n",
       "      <th>level_0</th>\n",
       "      <th>level_1</th>\n",
       "      <th>st</th>\n",
       "      <th>end</th>\n",
       "      <th>call</th>\n",
       "      <th>Mean Rho/bp._left</th>\n",
       "      <th>Mean Rho/bp._right</th>\n",
       "      <th>diff</th>\n",
       "      <th>gap</th>\n",
       "      <th>GENE</th>\n",
       "      <th>orientation</th>\n",
       "    </tr>\n",
       "  </thead>\n",
       "  <tbody>\n",
       "    <tr>\n",
       "      <th>9</th>\n",
       "      <td>AGGAG</td>\n",
       "      <td>3</td>\n",
       "      <td>1968</td>\n",
       "      <td>1973</td>\n",
       "      <td>AGGAG</td>\n",
       "      <td>0.00001</td>\n",
       "      <td>0.026575</td>\n",
       "      <td>0.026565</td>\n",
       "      <td>2656.500000</td>\n",
       "      <td>BNRF1</td>\n",
       "      <td>plus</td>\n",
       "    </tr>\n",
       "    <tr>\n",
       "      <th>723</th>\n",
       "      <td>AGGAG</td>\n",
       "      <td>125</td>\n",
       "      <td>66136</td>\n",
       "      <td>66141</td>\n",
       "      <td>AGGAG</td>\n",
       "      <td>0.00001</td>\n",
       "      <td>0.114364</td>\n",
       "      <td>0.114354</td>\n",
       "      <td>11435.375000</td>\n",
       "      <td>BORF2</td>\n",
       "      <td>plus</td>\n",
       "    </tr>\n",
       "    <tr>\n",
       "      <th>725</th>\n",
       "      <td>AGGAG</td>\n",
       "      <td>580</td>\n",
       "      <td>67091</td>\n",
       "      <td>67096</td>\n",
       "      <td>AGGAG</td>\n",
       "      <td>0.00001</td>\n",
       "      <td>0.012469</td>\n",
       "      <td>0.012459</td>\n",
       "      <td>1245.888889</td>\n",
       "      <td>BaRF1</td>\n",
       "      <td>plus</td>\n",
       "    </tr>\n",
       "    <tr>\n",
       "      <th>726</th>\n",
       "      <td>AGGAG</td>\n",
       "      <td>580</td>\n",
       "      <td>67091</td>\n",
       "      <td>67096</td>\n",
       "      <td>AGGAG</td>\n",
       "      <td>0.00001</td>\n",
       "      <td>0.012469</td>\n",
       "      <td>0.012459</td>\n",
       "      <td>1245.888889</td>\n",
       "      <td>BaRF1</td>\n",
       "      <td>plus</td>\n",
       "    </tr>\n",
       "    <tr>\n",
       "      <th>741</th>\n",
       "      <td>AGGAG</td>\n",
       "      <td>130</td>\n",
       "      <td>69452</td>\n",
       "      <td>69457</td>\n",
       "      <td>AGGAG</td>\n",
       "      <td>0.00001</td>\n",
       "      <td>0.249380</td>\n",
       "      <td>0.249370</td>\n",
       "      <td>24937.000000</td>\n",
       "      <td>BMRF2</td>\n",
       "      <td>plus</td>\n",
       "    </tr>\n",
       "    <tr>\n",
       "      <th>1220</th>\n",
       "      <td>AGGAG</td>\n",
       "      <td>714</td>\n",
       "      <td>156444</td>\n",
       "      <td>156449</td>\n",
       "      <td>AGGAG</td>\n",
       "      <td>0.00001</td>\n",
       "      <td>0.008720</td>\n",
       "      <td>0.008710</td>\n",
       "      <td>871.000000</td>\n",
       "      <td>A73</td>\n",
       "      <td>plus</td>\n",
       "    </tr>\n",
       "    <tr>\n",
       "      <th>1327</th>\n",
       "      <td>CCCAG</td>\n",
       "      <td>2</td>\n",
       "      <td>3077</td>\n",
       "      <td>3082</td>\n",
       "      <td>CCCAG</td>\n",
       "      <td>0.00001</td>\n",
       "      <td>0.005463</td>\n",
       "      <td>0.005453</td>\n",
       "      <td>545.250000</td>\n",
       "      <td>BNRF1</td>\n",
       "      <td>plus</td>\n",
       "    </tr>\n",
       "    <tr>\n",
       "      <th>2920</th>\n",
       "      <td>CCCAG</td>\n",
       "      <td>779</td>\n",
       "      <td>67377</td>\n",
       "      <td>67382</td>\n",
       "      <td>CCCAG</td>\n",
       "      <td>0.00001</td>\n",
       "      <td>0.035119</td>\n",
       "      <td>0.035109</td>\n",
       "      <td>3510.866667</td>\n",
       "      <td>BaRF1</td>\n",
       "      <td>plus</td>\n",
       "    </tr>\n",
       "    <tr>\n",
       "      <th>2921</th>\n",
       "      <td>CCCAG</td>\n",
       "      <td>779</td>\n",
       "      <td>67377</td>\n",
       "      <td>67382</td>\n",
       "      <td>CCCAG</td>\n",
       "      <td>0.00001</td>\n",
       "      <td>0.035119</td>\n",
       "      <td>0.035109</td>\n",
       "      <td>3510.866667</td>\n",
       "      <td>BaRF1</td>\n",
       "      <td>plus</td>\n",
       "    </tr>\n",
       "    <tr>\n",
       "      <th>2929</th>\n",
       "      <td>CCCAG</td>\n",
       "      <td>782</td>\n",
       "      <td>68215</td>\n",
       "      <td>68220</td>\n",
       "      <td>CCCAG</td>\n",
       "      <td>0.00001</td>\n",
       "      <td>0.037470</td>\n",
       "      <td>0.037460</td>\n",
       "      <td>3746.000000</td>\n",
       "      <td>BMRF1</td>\n",
       "      <td>plus</td>\n",
       "    </tr>\n",
       "    <tr>\n",
       "      <th>2930</th>\n",
       "      <td>CCCAG</td>\n",
       "      <td>782</td>\n",
       "      <td>68215</td>\n",
       "      <td>68220</td>\n",
       "      <td>CCCAG</td>\n",
       "      <td>0.00001</td>\n",
       "      <td>0.037470</td>\n",
       "      <td>0.037460</td>\n",
       "      <td>3746.000000</td>\n",
       "      <td>BMRF1</td>\n",
       "      <td>plus</td>\n",
       "    </tr>\n",
       "    <tr>\n",
       "      <th>3027</th>\n",
       "      <td>CCCAG</td>\n",
       "      <td>368</td>\n",
       "      <td>86682</td>\n",
       "      <td>86687</td>\n",
       "      <td>CCCAG</td>\n",
       "      <td>0.00001</td>\n",
       "      <td>0.165793</td>\n",
       "      <td>0.165783</td>\n",
       "      <td>16578.333333</td>\n",
       "      <td>EBNA3B</td>\n",
       "      <td>plus</td>\n",
       "    </tr>\n",
       "    <tr>\n",
       "      <th>3035</th>\n",
       "      <td>CCCAG</td>\n",
       "      <td>373</td>\n",
       "      <td>88384</td>\n",
       "      <td>88389</td>\n",
       "      <td>CCCAG</td>\n",
       "      <td>0.00001</td>\n",
       "      <td>0.015570</td>\n",
       "      <td>0.015560</td>\n",
       "      <td>1556.000000</td>\n",
       "      <td>EBNA3B</td>\n",
       "      <td>plus</td>\n",
       "    </tr>\n",
       "    <tr>\n",
       "      <th>3086</th>\n",
       "      <td>CCCAG</td>\n",
       "      <td>392</td>\n",
       "      <td>95108</td>\n",
       "      <td>95113</td>\n",
       "      <td>CCCAG</td>\n",
       "      <td>0.00001</td>\n",
       "      <td>0.110210</td>\n",
       "      <td>0.110200</td>\n",
       "      <td>11020.000000</td>\n",
       "      <td>BRRF2</td>\n",
       "      <td>plus</td>\n",
       "    </tr>\n",
       "    <tr>\n",
       "      <th>3101</th>\n",
       "      <td>CCCAG</td>\n",
       "      <td>851</td>\n",
       "      <td>98562</td>\n",
       "      <td>98567</td>\n",
       "      <td>CCCAG</td>\n",
       "      <td>0.00001</td>\n",
       "      <td>0.038455</td>\n",
       "      <td>0.038445</td>\n",
       "      <td>3844.500000</td>\n",
       "      <td>BKRF3</td>\n",
       "      <td>plus</td>\n",
       "    </tr>\n",
       "  </tbody>\n",
       "</table>\n",
       "</div>"
      ],
      "text/plain": [
       "     level_0  level_1      st     end   call  Mean Rho/bp._left  \\\n",
       "9      AGGAG        3    1968    1973  AGGAG            0.00001   \n",
       "723    AGGAG      125   66136   66141  AGGAG            0.00001   \n",
       "725    AGGAG      580   67091   67096  AGGAG            0.00001   \n",
       "726    AGGAG      580   67091   67096  AGGAG            0.00001   \n",
       "741    AGGAG      130   69452   69457  AGGAG            0.00001   \n",
       "1220   AGGAG      714  156444  156449  AGGAG            0.00001   \n",
       "1327   CCCAG        2    3077    3082  CCCAG            0.00001   \n",
       "2920   CCCAG      779   67377   67382  CCCAG            0.00001   \n",
       "2921   CCCAG      779   67377   67382  CCCAG            0.00001   \n",
       "2929   CCCAG      782   68215   68220  CCCAG            0.00001   \n",
       "2930   CCCAG      782   68215   68220  CCCAG            0.00001   \n",
       "3027   CCCAG      368   86682   86687  CCCAG            0.00001   \n",
       "3035   CCCAG      373   88384   88389  CCCAG            0.00001   \n",
       "3086   CCCAG      392   95108   95113  CCCAG            0.00001   \n",
       "3101   CCCAG      851   98562   98567  CCCAG            0.00001   \n",
       "\n",
       "      Mean Rho/bp._right      diff           gap    GENE orientation  \n",
       "9               0.026575  0.026565   2656.500000   BNRF1        plus  \n",
       "723             0.114364  0.114354  11435.375000   BORF2        plus  \n",
       "725             0.012469  0.012459   1245.888889   BaRF1        plus  \n",
       "726             0.012469  0.012459   1245.888889   BaRF1        plus  \n",
       "741             0.249380  0.249370  24937.000000   BMRF2        plus  \n",
       "1220            0.008720  0.008710    871.000000     A73        plus  \n",
       "1327            0.005463  0.005453    545.250000   BNRF1        plus  \n",
       "2920            0.035119  0.035109   3510.866667   BaRF1        plus  \n",
       "2921            0.035119  0.035109   3510.866667   BaRF1        plus  \n",
       "2929            0.037470  0.037460   3746.000000   BMRF1        plus  \n",
       "2930            0.037470  0.037460   3746.000000   BMRF1        plus  \n",
       "3027            0.165793  0.165783  16578.333333  EBNA3B        plus  \n",
       "3035            0.015570  0.015560   1556.000000  EBNA3B        plus  \n",
       "3086            0.110210  0.110200  11020.000000   BRRF2        plus  \n",
       "3101            0.038455  0.038445   3844.500000   BKRF3        plus  "
      ]
     },
     "execution_count": 10,
     "metadata": {},
     "output_type": "execute_result"
    }
   ],
   "source": [
    "rep_with_gene_plus[rep_with_gene_plus.gap>right_tresh].head(15)"
   ]
  },
  {
   "cell_type": "code",
   "execution_count": 11,
   "metadata": {},
   "outputs": [
    {
     "name": "stdout",
     "output_type": "stream",
     "text": [
      "0.00897744690169\n",
      "0.0226077812829\n"
     ]
    }
   ],
   "source": [
    "print (rep_with_gene_plus.gap>right_tresh).sum()/float(rep_with_gene_plus.shape[0])\n",
    "print (rep_with_gene_minus.gap<left_tresh).sum()/float(rep_with_gene_minus.shape[0])\n"
   ]
  },
  {
   "cell_type": "code",
   "execution_count": 13,
   "metadata": {},
   "outputs": [
    {
     "name": "stdout",
     "output_type": "stream",
     "text": [
      "(43, 7)\n",
      "(41, 7)\n"
     ]
    }
   ],
   "source": [
    "print initiators_MINUS.shape\n",
    "print initiators_PLUS.shape"
   ]
  },
  {
   "cell_type": "code",
   "execution_count": 14,
   "metadata": {},
   "outputs": [
    {
     "name": "stdout",
     "output_type": "stream",
     "text": [
      "(0.9987979531288147, 0.753572940826416)\n",
      "(0.6376484632492065, 8.014291452695943e-09)\n"
     ]
    }
   ],
   "source": [
    "from scipy import stats\n",
    "np.random.seed(12345678)\n",
    "x = stats.norm.rvs(loc=5, scale=3, size=1000)\n",
    "print stats.shapiro(x)\n",
    "print stats.shapiro(initiators_PLUS['Mean Rho/bp._right'].values)"
   ]
  },
  {
   "cell_type": "code",
   "execution_count": 58,
   "metadata": {},
   "outputs": [
    {
     "name": "stdout",
     "output_type": "stream",
     "text": [
      "(41, 9)\n"
     ]
    }
   ],
   "source": [
    "## cuardo coordenadas de iniciadores\n",
    "mapa = repeat_postions[['st','end','trimmed_st','trimmed_end']]\n",
    "plus_to_save = pd.merge(initiators_PLUS,mapa.drop(['end'],axis = 1),how = 'left',on= 'st')\n",
    "minus_to_save = pd.merge(initiators_MINUS,mapa.drop(['end'],axis = 1),how = 'left',on= 'st')\n",
    "\n",
    "plus_to_save.to_csv(outpath+'initiator_plus_trimmed_coords.csv',index = False)\n",
    "minus_to_save.to_csv(outpath+'initiator_minus_trimmed_coords.csv',index = False)"
   ]
  },
  {
   "cell_type": "code",
   "execution_count": 15,
   "metadata": {},
   "outputs": [
    {
     "name": "stdout",
     "output_type": "stream",
     "text": [
      "MannwhitneyuResult(statistic=742.0, pvalue=0.10648644076810881)\n",
      "Ks_2sampResult(statistic=0.2263187748156551, pvalue=0.20286311920439667)\n",
      "(0.22631877481565504, 0.11648085424241379)\n"
     ]
    }
   ],
   "source": [
    "from scipy.stats  import mannwhitneyu as mwu\n",
    "from scipy.stats  import ranksums as rks\n",
    "\n",
    "initiators_MINUS['Mean Rho/bp._left'].mean()\n",
    "initiators_PLUS['Mean Rho/bp._right'].mean()\n",
    "x=initiators_MINUS['Mean Rho/bp._left'].values\n",
    "y=initiators_PLUS['Mean Rho/bp._right'].values\n",
    "print mwu(x,y)\n",
    "print stats.ks_2samp(x,y)\n",
    "import scipy.stats.mstats\n",
    "print scipy.stats.mstats.ks_twosamp(x,y, alternative='greater')"
   ]
  },
  {
   "cell_type": "code",
   "execution_count": 16,
   "metadata": {},
   "outputs": [
    {
     "name": "stdout",
     "output_type": "stream",
     "text": [
      "MannwhitneyuResult(statistic=742.0, pvalue=0.10648644076810881)\n",
      "Ks_2sampResult(statistic=0.2263187748156551, pvalue=0.20286311920439667)\n",
      "(0.22631877481565504, 0.11648085424241379)\n"
     ]
    }
   ],
   "source": [
    "from scipy.stats  import mannwhitneyu as mwu\n",
    "from scipy.stats  import ranksums as rks\n",
    "\n",
    "initiators_MINUS['Mean Rho/bp._left'].mean()\n",
    "initiators_PLUS['Mean Rho/bp._right'].mean()\n",
    "x=initiators_MINUS['Mean Rho/bp._left'].values\n",
    "y=initiators_PLUS['Mean Rho/bp._right'].values\n",
    "print mwu(x,y)\n",
    "print stats.ks_2samp(x,y)\n",
    "import scipy.stats.mstats\n",
    "print scipy.stats.mstats.ks_twosamp(x,y, alternative='greater')"
   ]
  },
  {
   "cell_type": "code",
   "execution_count": 17,
   "metadata": {},
   "outputs": [],
   "source": [
    "initiators_MINUS.drop_duplicates(inplace = True)\n",
    "init_minus_bubble = initiators_MINUS.groupby(['GENE','call'])['Mean Rho/bp._left'].mean().to_frame()\n",
    "#init_minus_bubble.to_csv(outpath+'initiators_minus_wind10_LMP2.csv')\n",
    "\n",
    "\n",
    "initiators_PLUS.drop_duplicates(inplace = True)\n",
    "initiators_PLUS = initiators_PLUS[initiators_PLUS['Mean Rho/bp._right']<1]\n",
    "init_plus_bubble = initiators_PLUS.groupby(['GENE','call'])['Mean Rho/bp._right'].mean().to_frame()\n",
    "#init_plus_bubble.to_csv(outpath+'initiators_plus_wind10_LMP2.csv')"
   ]
  },
  {
   "cell_type": "code",
   "execution_count": 31,
   "metadata": {},
   "outputs": [
    {
     "data": {
      "text/plain": [
       "TGGTGG     5\n",
       "AGGAG      9\n",
       "GGGCT     14\n",
       "TGGAG     18\n",
       "CCCAG     20\n",
       "Name: call, dtype: int64"
      ]
     },
     "execution_count": 31,
     "metadata": {},
     "output_type": "execute_result"
    }
   ],
   "source": [
    "(initiators_MINUS.call.value_counts()+initiators_PLUS.call.value_counts()).sort_values()"
   ]
  },
  {
   "cell_type": "code",
   "execution_count": 48,
   "metadata": {},
   "outputs": [],
   "source": [
    "# for log scale\n",
    "#df = pd.concat([initiators_MINUS.call.value_counts(), initiators_PLUS.call.value_counts()],1).sum(1).apply(lambda x: np.log2(x))\n",
    "df = pd.concat([initiators_MINUS.call.value_counts(), initiators_PLUS.call.value_counts()],1).sum(1)\n",
    "df.sort_values(inplace=True,ascending = False)"
   ]
  },
  {
   "cell_type": "code",
   "execution_count": 49,
   "metadata": {},
   "outputs": [
    {
     "data": {
      "image/png": "[encoded data removed]",
      "text/plain": [
       "<matplotlib.figure.Figure at 0x7fe428006dd0>"
      ]
     },
     "metadata": {},
     "output_type": "display_data"
    }
   ],
   "source": [
    "aux2 = pd.concat([initiators_MINUS.rename(columns={'Mean Rho/bp._left':'rho'}),initiators_PLUS.rename(columns={'Mean Rho/bp._right':'rho'})])\n",
    "aux2.boxplot(by ='call',column='rho')\n",
    "plt.yscale('log')"
   ]
  },
  {
   "cell_type": "code",
   "execution_count": 50,
   "metadata": {},
   "outputs": [],
   "source": [
    "motifss = {}\n",
    "for cat in aux2.call:\n",
    "    motifss.update({cat:aux2[aux2.call==cat].rho})\n"
   ]
  },
  {
   "cell_type": "code",
   "execution_count": 51,
   "metadata": {},
   "outputs": [
    {
     "data": {
      "text/plain": [
       "['CCCAG', 'GGGCT', 'AGGAG', 'TGGAG', 'TGGTGG']"
      ]
     },
     "execution_count": 51,
     "metadata": {},
     "output_type": "execute_result"
    }
   ],
   "source": [
    "motifss.keys()"
   ]
  },
  {
   "cell_type": "code",
   "execution_count": 52,
   "metadata": {},
   "outputs": [
    {
     "name": "stdout",
     "output_type": "stream",
     "text": [
      "13\n",
      "16\n"
     ]
    }
   ],
   "source": [
    "aux = pd.concat([initiators_MINUS[['GENE','call']],initiators_PLUS[['GENE','call']]])\n",
    "print aux[aux.call=='TGGAG'].GENE.nunique()\n",
    "print aux[aux.call=='CCCAG'].GENE.nunique()"
   ]
  },
  {
   "cell_type": "code",
   "execution_count": 53,
   "metadata": {},
   "outputs": [
    {
     "data": {
      "text/plain": [
       "AGGAG      9\n",
       "CCCAG     20\n",
       "GGGCT     14\n",
       "TGGAG     18\n",
       "TGGTGG     5\n",
       "dtype: int64"
      ]
     },
     "execution_count": 53,
     "metadata": {},
     "output_type": "execute_result"
    }
   ],
   "source": [
    "pd.concat([initiators_MINUS.call.value_counts(), initiators_PLUS.call.value_counts()],1).sum(1)\n",
    "#.apply(lambda x: np.log2(x))"
   ]
  },
  {
   "cell_type": "markdown",
   "metadata": {},
   "source": [
    "## antes de modificar lmp2"
   ]
  },
  {
   "cell_type": "code",
   "execution_count": 83,
   "metadata": {},
   "outputs": [
    {
     "data": {
      "text/plain": [
       "AGGAG       13.0\n",
       "CCCAG       21.0\n",
       "CCTCCCCT     1.0\n",
       "GGGCT       18.0\n",
       "TGGAG       23.0\n",
       "TGGTGG       6.0\n",
       "dtype: float64"
      ]
     },
     "execution_count": 83,
     "metadata": {},
     "output_type": "execute_result"
    }
   ],
   "source": [
    "\n",
    "#pd.concat([initiators_MINUS.call.value_counts(), initiators_PLUS.call.value_counts()],1).sum(1)\n",
    "#.apply(lambda x: np.log2(x))"
   ]
  },
  {
   "cell_type": "code",
   "execution_count": 72,
   "metadata": {},
   "outputs": [],
   "source": [
    "import gact\n",
    "import matplotlib.pyplot as plt\n",
    "import gact\n",
    "\n",
    "\n",
    "def draw_logo(score_list):\n",
    "    fig, ax = plt.subplots(figsize=(5,3))\n",
    "\n",
    "    all_scores = score_list\n",
    "\n",
    "    x = 1\n",
    "    maxi = 0\n",
    "    for scores in all_scores:\n",
    "        y = 0\n",
    "        for base, score in scores:\n",
    "            gact.letterAt(base, x,y, score, ax)\n",
    "            y += score\n",
    "        x += 1\n",
    "        maxi = max(maxi, y)\n",
    "\n",
    "    plt.xticks(range(1,x))\n",
    "    plt.xlim((0, x)) \n",
    "    plt.ylim((0, maxi)) \n",
    "    plt.yticks([1,5,10,15,20],[1,5,10,15,20])\n",
    "    plt.tight_layout()      \n"
   ]
  },
  {
   "cell_type": "code",
   "execution_count": 73,
   "metadata": {},
   "outputs": [],
   "source": [
    "to_plot = []\n",
    "for i in range(df.shape[0]):\n",
    "    r = df.index[i]\n",
    "    score = (df.values[i]/float(len(r)))\n",
    "    motif = []\n",
    "    for s in r:\n",
    "        motif.append((s,score))\n",
    "    to_plot.append(motif)\n"
   ]
  },
  {
   "cell_type": "code",
   "execution_count": 75,
   "metadata": {},
   "outputs": [
    {
     "data": {
      "image/png": "[encoded data removed]",
      "text/plain": [
       "<matplotlib.figure.Figure at 0x7fe423ca2c90>"
      ]
     },
     "metadata": {},
     "output_type": "display_data"
    }
   ],
   "source": [
    "draw_logo(to_plot)\n",
    "\n",
    "plt.ylabel('# initiation events')\n",
    "plt.xlabel('DNA Motifs')\n",
    "x = np.arange(len(to_plot))+1\n",
    "plt.tick_params(width=2,length = 5,axis = 'both')\n",
    "plt.xticks(x, \"\", rotation='vertical')\n",
    "\n",
    "yy=21\n",
    "plt.text(x=0.7,y=yy,s='(1032)')\n",
    "plt.text(x=1.8,y=yy,s='(697)')\n",
    "plt.text(x=2.8,y=yy,s='(713)')\n",
    "plt.text(x=3.8,y=yy,s='(745)')\n",
    "plt.text(x=4.8,y=yy,s='(252)')\n",
    "plt.tight_layout()\n",
    "\n",
    "plt.savefig(outpath+'motif_logo'+'.png',dpi = 400)"
   ]
  },
  {
   "cell_type": "code",
   "execution_count": 46,
   "metadata": {},
   "outputs": [
    {
     "data": {
      "text/html": [
       "<div>\n",
       "<style>\n",
       "    .dataframe thead tr:only-child th {\n",
       "        text-align: right;\n",
       "    }\n",
       "\n",
       "    .dataframe thead th {\n",
       "        text-align: left;\n",
       "    }\n",
       "\n",
       "    .dataframe tbody tr th {\n",
       "        vertical-align: top;\n",
       "    }\n",
       "</style>\n",
       "<table border=\"1\" class=\"dataframe\">\n",
       "  <thead>\n",
       "    <tr style=\"text-align: right;\">\n",
       "      <th></th>\n",
       "      <th>st</th>\n",
       "      <th>end</th>\n",
       "      <th>call</th>\n",
       "      <th>Mean Rho/bp._left</th>\n",
       "      <th>Mean Rho/bp._right</th>\n",
       "      <th>GENE</th>\n",
       "      <th>orientation</th>\n",
       "    </tr>\n",
       "  </thead>\n",
       "  <tbody>\n",
       "    <tr>\n",
       "      <th>9</th>\n",
       "      <td>1968</td>\n",
       "      <td>1973</td>\n",
       "      <td>AGGAG</td>\n",
       "      <td>0.00001</td>\n",
       "      <td>0.026575</td>\n",
       "      <td>BNRF1</td>\n",
       "      <td>plus</td>\n",
       "    </tr>\n",
       "    <tr>\n",
       "      <th>723</th>\n",
       "      <td>66136</td>\n",
       "      <td>66141</td>\n",
       "      <td>AGGAG</td>\n",
       "      <td>0.00001</td>\n",
       "      <td>0.114364</td>\n",
       "      <td>BORF2</td>\n",
       "      <td>plus</td>\n",
       "    </tr>\n",
       "    <tr>\n",
       "      <th>725</th>\n",
       "      <td>67091</td>\n",
       "      <td>67096</td>\n",
       "      <td>AGGAG</td>\n",
       "      <td>0.00001</td>\n",
       "      <td>0.012469</td>\n",
       "      <td>BaRF1</td>\n",
       "      <td>plus</td>\n",
       "    </tr>\n",
       "    <tr>\n",
       "      <th>741</th>\n",
       "      <td>69452</td>\n",
       "      <td>69457</td>\n",
       "      <td>AGGAG</td>\n",
       "      <td>0.00001</td>\n",
       "      <td>0.249380</td>\n",
       "      <td>BMRF2</td>\n",
       "      <td>plus</td>\n",
       "    </tr>\n",
       "    <tr>\n",
       "      <th>1220</th>\n",
       "      <td>156444</td>\n",
       "      <td>156449</td>\n",
       "      <td>AGGAG</td>\n",
       "      <td>0.00001</td>\n",
       "      <td>0.008720</td>\n",
       "      <td>A73</td>\n",
       "      <td>plus</td>\n",
       "    </tr>\n",
       "  </tbody>\n",
       "</table>\n",
       "</div>"
      ],
      "text/plain": [
       "          st     end   call  Mean Rho/bp._left  Mean Rho/bp._right   GENE  \\\n",
       "9       1968    1973  AGGAG            0.00001            0.026575  BNRF1   \n",
       "723    66136   66141  AGGAG            0.00001            0.114364  BORF2   \n",
       "725    67091   67096  AGGAG            0.00001            0.012469  BaRF1   \n",
       "741    69452   69457  AGGAG            0.00001            0.249380  BMRF2   \n",
       "1220  156444  156449  AGGAG            0.00001            0.008720    A73   \n",
       "\n",
       "     orientation  \n",
       "9           plus  \n",
       "723         plus  \n",
       "725         plus  \n",
       "741         plus  \n",
       "1220        plus  "
      ]
     },
     "execution_count": 46,
     "metadata": {},
     "output_type": "execute_result"
    }
   ],
   "source": [
    "initiators_PLUS.head()"
   ]
  },
  {
   "cell_type": "code",
   "execution_count": 47,
   "metadata": {},
   "outputs": [],
   "source": [
    "motif_gene_dict = {}\n",
    "for mot in df.index:\n",
    "    gene_plus = initiators_PLUS[initiators_PLUS.call==mot].GENE\n",
    "    gene_minus = initiators_MINUS[initiators_MINUS.call==mot].GENE\n",
    "    motif_gene_dict.update({mot:pd.concat([gene_plus,gene_minus]).unique()})"
   ]
  },
  {
   "cell_type": "code",
   "execution_count": 49,
   "metadata": {},
   "outputs": [],
   "source": [
    "import pickle\n",
    "with open(outpath+'motif_gene_dict.pickle', 'wb') as handle:\n",
    "    pickle.dump(motif_gene_dict, handle, protocol=pickle.HIGHEST_PROTOCOL)"
   ]
  },
  {
   "cell_type": "code",
   "execution_count": 50,
   "metadata": {},
   "outputs": [
    {
     "data": {
      "text/plain": [
       "'/home/ariel/Projects/Gutierrez/EBV-recomb/recomb/rdp4_results/ids_171_ebv/10Miter/results/'"
      ]
     },
     "execution_count": 50,
     "metadata": {},
     "output_type": "execute_result"
    }
   ],
   "source": [
    "outpath"
   ]
  }
 ],
 "metadata": {
  "kernelspec": {
   "display_name": "Python 2",
   "language": "python",
   "name": "python2"
  },
  "language_info": {
   "codemirror_mode": {
    "name": "ipython",
    "version": 2
   },
   "file_extension": ".py",
   "mimetype": "text/x-python",
   "name": "python",
   "nbconvert_exporter": "python",
   "pygments_lexer": "ipython2",
   "version": "2.7.12"
  }
 },
 "nbformat": 4,
 "nbformat_minor": 2
}
